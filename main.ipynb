{
 "cells": [
  {
   "cell_type": "code",
   "execution_count": 1,
   "metadata": {},
   "outputs": [],
   "source": [
    "import pandas as pd\n",
    "import numpy as np\n",
    "import matplotlib.pyplot as plt\n",
    "import plotly.express as px\n",
    "import plotly.graph_objects as go"
   ]
  },
  {
   "cell_type": "code",
   "execution_count": 2,
   "metadata": {},
   "outputs": [
    {
     "data": {
      "text/html": [
       "<div>\n",
       "<style scoped>\n",
       "    .dataframe tbody tr th:only-of-type {\n",
       "        vertical-align: middle;\n",
       "    }\n",
       "\n",
       "    .dataframe tbody tr th {\n",
       "        vertical-align: top;\n",
       "    }\n",
       "\n",
       "    .dataframe thead th {\n",
       "        text-align: right;\n",
       "    }\n",
       "</style>\n",
       "<table border=\"1\" class=\"dataframe\">\n",
       "  <thead>\n",
       "    <tr style=\"text-align: right;\">\n",
       "      <th></th>\n",
       "      <th>anio</th>\n",
       "      <th>sector_IPCC</th>\n",
       "      <th>categoria_IPCC</th>\n",
       "      <th>subcategoria_de_1er_orden</th>\n",
       "      <th>subactividad</th>\n",
       "      <th>fuente_de_emision_y_absorcion_id</th>\n",
       "      <th>fuente_de_emision_y_absorcion</th>\n",
       "      <th>gas</th>\n",
       "      <th>valor(MtCO2eq)</th>\n",
       "    </tr>\n",
       "  </thead>\n",
       "  <tbody>\n",
       "    <tr>\n",
       "      <th>0</th>\n",
       "      <td>1990</td>\n",
       "      <td>Agricultura, Ganaderia, Silvicultura y Otros U...</td>\n",
       "      <td>Tierras</td>\n",
       "      <td>Tierras Forestales</td>\n",
       "      <td>Bosque Nativo</td>\n",
       "      <td>3B1ai1</td>\n",
       "      <td>Tierras forestales que permanecen como tales (...</td>\n",
       "      <td>CO2</td>\n",
       "      <td>11.73</td>\n",
       "    </tr>\n",
       "    <tr>\n",
       "      <th>1</th>\n",
       "      <td>1990</td>\n",
       "      <td>Agricultura, Ganaderia, Silvicultura y Otros U...</td>\n",
       "      <td>Tierras</td>\n",
       "      <td>Tierras Forestales</td>\n",
       "      <td>Bosque Nativo</td>\n",
       "      <td>3B1ai2</td>\n",
       "      <td>Tierras forestales que permanecen como tales (...</td>\n",
       "      <td>CO2</td>\n",
       "      <td>-4.08</td>\n",
       "    </tr>\n",
       "    <tr>\n",
       "      <th>2</th>\n",
       "      <td>1990</td>\n",
       "      <td>Agricultura, Ganaderia, Silvicultura y Otros U...</td>\n",
       "      <td>Tierras</td>\n",
       "      <td>Tierras Forestales</td>\n",
       "      <td>Bosque Cultivado</td>\n",
       "      <td>3B1aii1</td>\n",
       "      <td>Tierras forestales que permanecen como tales (...</td>\n",
       "      <td>CO2</td>\n",
       "      <td>5.82</td>\n",
       "    </tr>\n",
       "    <tr>\n",
       "      <th>3</th>\n",
       "      <td>1990</td>\n",
       "      <td>Agricultura, Ganaderia, Silvicultura y Otros U...</td>\n",
       "      <td>Tierras</td>\n",
       "      <td>Tierras Forestales</td>\n",
       "      <td>Bosque Cultivado</td>\n",
       "      <td>3B1aii2</td>\n",
       "      <td>Tierras forestales que permanecen como tales (...</td>\n",
       "      <td>CO2</td>\n",
       "      <td>-20.77</td>\n",
       "    </tr>\n",
       "    <tr>\n",
       "      <th>4</th>\n",
       "      <td>1990</td>\n",
       "      <td>Agricultura, Ganaderia, Silvicultura y Otros U...</td>\n",
       "      <td>Tierras</td>\n",
       "      <td>Tierras de Cultivo</td>\n",
       "      <td>Cultivo/Pasturas</td>\n",
       "      <td>3B2bi</td>\n",
       "      <td>Tierras forestales convertidas en suelos culti...</td>\n",
       "      <td>CO2</td>\n",
       "      <td>28.09</td>\n",
       "    </tr>\n",
       "  </tbody>\n",
       "</table>\n",
       "</div>"
      ],
      "text/plain": [
       "   anio                                        sector_IPCC categoria_IPCC  \\\n",
       "0  1990  Agricultura, Ganaderia, Silvicultura y Otros U...        Tierras   \n",
       "1  1990  Agricultura, Ganaderia, Silvicultura y Otros U...        Tierras   \n",
       "2  1990  Agricultura, Ganaderia, Silvicultura y Otros U...        Tierras   \n",
       "3  1990  Agricultura, Ganaderia, Silvicultura y Otros U...        Tierras   \n",
       "4  1990  Agricultura, Ganaderia, Silvicultura y Otros U...        Tierras   \n",
       "\n",
       "  subcategoria_de_1er_orden      subactividad  \\\n",
       "0        Tierras Forestales     Bosque Nativo   \n",
       "1        Tierras Forestales     Bosque Nativo   \n",
       "2        Tierras Forestales  Bosque Cultivado   \n",
       "3        Tierras Forestales  Bosque Cultivado   \n",
       "4        Tierras de Cultivo  Cultivo/Pasturas   \n",
       "\n",
       "  fuente_de_emision_y_absorcion_id  \\\n",
       "0                           3B1ai1   \n",
       "1                           3B1ai2   \n",
       "2                          3B1aii1   \n",
       "3                          3B1aii2   \n",
       "4                            3B2bi   \n",
       "\n",
       "                       fuente_de_emision_y_absorcion  gas  valor(MtCO2eq)  \n",
       "0  Tierras forestales que permanecen como tales (...  CO2           11.73  \n",
       "1  Tierras forestales que permanecen como tales (...  CO2           -4.08  \n",
       "2  Tierras forestales que permanecen como tales (...  CO2            5.82  \n",
       "3  Tierras forestales que permanecen como tales (...  CO2          -20.77  \n",
       "4  Tierras forestales convertidas en suelos culti...  CO2           28.09  "
      ]
     },
     "execution_count": 2,
     "metadata": {},
     "output_type": "execute_result"
    }
   ],
   "source": [
    "# Obtenido de\n",
    "# https://www.datos.gob.ar/dataset/agroindustria-producciones-sostenibles---emisiones-gei-provenientes-agricultura-ganaderia-otros/archivo/agroindustria_f05eac90-6b9b-4b65-80f4-d015f3b64b26\n",
    "\n",
    "Filename = \"data.csv\"\n",
    "df = pd.read_csv(Filename, sep=\";\")\n",
    "df.drop('unidades', inplace=True, axis=1); df.drop('pais_id', inplace=True, axis=1); df.drop('pais', inplace=True, axis=1)\n",
    "df.rename(columns = {'valor':'valor(MtCO2eq)'}, inplace = True)\n",
    "df.head()"
   ]
  },
  {
   "cell_type": "code",
   "execution_count": 3,
   "metadata": {},
   "outputs": [
    {
     "name": "stdout",
     "output_type": "stream",
     "text": [
      "<class 'pandas.core.frame.DataFrame'>\n",
      "RangeIndex: 2641 entries, 0 to 2640\n",
      "Data columns (total 9 columns):\n",
      " #   Column                            Non-Null Count  Dtype  \n",
      "---  ------                            --------------  -----  \n",
      " 0   anio                              2641 non-null   int64  \n",
      " 1   sector_IPCC                       2641 non-null   object \n",
      " 2   categoria_IPCC                    2641 non-null   object \n",
      " 3   subcategoria_de_1er_orden         2641 non-null   object \n",
      " 4   subactividad                      2641 non-null   object \n",
      " 5   fuente_de_emision_y_absorcion_id  2641 non-null   object \n",
      " 6   fuente_de_emision_y_absorcion     2641 non-null   object \n",
      " 7   gas                               2641 non-null   object \n",
      " 8   valor(MtCO2eq)                    2641 non-null   float64\n",
      "dtypes: float64(1), int64(1), object(7)\n",
      "memory usage: 185.8+ KB\n"
     ]
    },
    {
     "data": {
      "text/plain": [
       "array([1990, 1991, 1992, 1993, 1994, 1995, 1996, 1997, 1998, 1999, 2000,\n",
       "       2001, 2002, 2003, 2004, 2005, 2006, 2007, 2008, 2009, 2010, 2011,\n",
       "       2012, 2013, 2014, 2015, 2016], dtype=int64)"
      ]
     },
     "execution_count": 3,
     "metadata": {},
     "output_type": "execute_result"
    }
   ],
   "source": [
    "df.info()\n",
    "df['anio'].unique()\n"
   ]
  },
  {
   "cell_type": "code",
   "execution_count": 4,
   "metadata": {},
   "outputs": [
    {
     "data": {
      "text/html": [
       "<div>\n",
       "<style scoped>\n",
       "    .dataframe tbody tr th:only-of-type {\n",
       "        vertical-align: middle;\n",
       "    }\n",
       "\n",
       "    .dataframe tbody tr th {\n",
       "        vertical-align: top;\n",
       "    }\n",
       "\n",
       "    .dataframe thead th {\n",
       "        text-align: right;\n",
       "    }\n",
       "</style>\n",
       "<table border=\"1\" class=\"dataframe\">\n",
       "  <thead>\n",
       "    <tr style=\"text-align: right;\">\n",
       "      <th></th>\n",
       "      <th>fuente_de_emision_y_absorcion_id</th>\n",
       "      <th>valor(MtCO2eq)</th>\n",
       "    </tr>\n",
       "  </thead>\n",
       "  <tbody>\n",
       "    <tr>\n",
       "      <th>22</th>\n",
       "      <td>3B1aii2</td>\n",
       "      <td>-919.37</td>\n",
       "    </tr>\n",
       "    <tr>\n",
       "      <th>24</th>\n",
       "      <td>3B2bii</td>\n",
       "      <td>-236.59</td>\n",
       "    </tr>\n",
       "    <tr>\n",
       "      <th>20</th>\n",
       "      <td>3B1ai2</td>\n",
       "      <td>-114.88</td>\n",
       "    </tr>\n",
       "    <tr>\n",
       "      <th>74</th>\n",
       "      <td>3C5gi2</td>\n",
       "      <td>0.00</td>\n",
       "    </tr>\n",
       "    <tr>\n",
       "      <th>63</th>\n",
       "      <td>3C5div1</td>\n",
       "      <td>0.00</td>\n",
       "    </tr>\n",
       "    <tr>\n",
       "      <th>...</th>\n",
       "      <td>...</td>\n",
       "      <td>...</td>\n",
       "    </tr>\n",
       "    <tr>\n",
       "      <th>37</th>\n",
       "      <td>3C4c</td>\n",
       "      <td>432.49</td>\n",
       "    </tr>\n",
       "    <tr>\n",
       "      <th>19</th>\n",
       "      <td>3B1ai1</td>\n",
       "      <td>503.22</td>\n",
       "    </tr>\n",
       "    <tr>\n",
       "      <th>23</th>\n",
       "      <td>3B2bi</td>\n",
       "      <td>858.85</td>\n",
       "    </tr>\n",
       "    <tr>\n",
       "      <th>1</th>\n",
       "      <td>3A1aii</td>\n",
       "      <td>1289.56</td>\n",
       "    </tr>\n",
       "    <tr>\n",
       "      <th>25</th>\n",
       "      <td>3B3bi</td>\n",
       "      <td>1346.97</td>\n",
       "    </tr>\n",
       "  </tbody>\n",
       "</table>\n",
       "<p>89 rows × 2 columns</p>\n",
       "</div>"
      ],
      "text/plain": [
       "   fuente_de_emision_y_absorcion_id  valor(MtCO2eq)\n",
       "22                          3B1aii2         -919.37\n",
       "24                           3B2bii         -236.59\n",
       "20                           3B1ai2         -114.88\n",
       "74                           3C5gi2            0.00\n",
       "63                          3C5div1            0.00\n",
       "..                              ...             ...\n",
       "37                             3C4c          432.49\n",
       "19                           3B1ai1          503.22\n",
       "23                            3B2bi          858.85\n",
       "1                            3A1aii         1289.56\n",
       "25                            3B3bi         1346.97\n",
       "\n",
       "[89 rows x 2 columns]"
      ]
     },
     "execution_count": 4,
     "metadata": {},
     "output_type": "execute_result"
    }
   ],
   "source": [
    "# MtCO2eq == millones de toneladas de dióxido de carbono equivalente\n",
    "# https://www.ipcc-nggip.iges.or.jp/public/2006gl/spanish/pdf/1_Volume1/V1_8x_Ch8_An2_ReportingTables.pdf\n",
    "\n",
    "#for each value in fuente_de_emision_y_absorcion_id column, get the sum of the values in valor column\n",
    "MtCO2eq_emitidos_por_fuente_id = df.groupby('fuente_de_emision_y_absorcion_id', as_index = False).agg({'valor(MtCO2eq)':'sum'}).sort_values('valor(MtCO2eq)')\n",
    "MtCO2eq_emitidos_por_fuente_id\n",
    "\n",
    "\n",
    "# 3B3b1: Tierras forestales convertidas en pastizales\n",
    "# 3A1aii: Fermentación entérica de ganado\n",
    "# 3B2bi: Tierras forestales convertidas en tierras de cultivo\n",
    "# 3B1ai1: \n",
    "# 3C4c: Emisiones directas de N2O de los suelos gestionados\n",
    "\n"
   ]
  },
  {
   "cell_type": "code",
   "execution_count": 5,
   "metadata": {},
   "outputs": [
    {
     "data": {
      "application/vnd.plotly.v1+json": {
       "config": {
        "plotlyServerURL": "https://plot.ly"
       },
       "data": [
        {
         "hovertemplate": "<b>%{hovertext}</b><br><br>fuente_de_emision_y_absorcion_id=3B1ai1<br>anio=%{x}<br>valor(MtCO2eq)=%{y}<extra></extra>",
         "hovertext": [
          "3B1ai1",
          "3B1ai1",
          "3B1ai1",
          "3B1ai1",
          "3B1ai1",
          "3B1ai1",
          "3B1ai1",
          "3B1ai1",
          "3B1ai1",
          "3B1ai1",
          "3B1ai1",
          "3B1ai1",
          "3B1ai1",
          "3B1ai1",
          "3B1ai1",
          "3B1ai1",
          "3B1ai1",
          "3B1ai1",
          "3B1ai1",
          "3B1ai1",
          "3B1ai1",
          "3B1ai1",
          "3B1ai1",
          "3B1ai1",
          "3B1ai1",
          "3B1ai1",
          "3B1ai1"
         ],
         "legendgroup": "3B1ai1",
         "line": {
          "color": "#636efa",
          "dash": "solid"
         },
         "marker": {
          "symbol": "circle"
         },
         "mode": "lines",
         "name": "3B1ai1",
         "showlegend": true,
         "type": "scattergl",
         "x": [
          1990,
          1991,
          1992,
          1993,
          1994,
          1995,
          1996,
          1997,
          1998,
          1999,
          2000,
          2001,
          2002,
          2003,
          2004,
          2005,
          2006,
          2007,
          2008,
          2009,
          2010,
          2011,
          2012,
          2013,
          2014,
          2015,
          2016
         ],
         "xaxis": "x",
         "y": [
          11.73,
          14.75,
          16.8,
          15.72,
          17.76,
          15.06,
          16.88,
          16.57,
          22.42,
          19.88,
          16.18,
          17.11,
          15.66,
          19.79,
          29.53,
          18.98,
          19.31,
          21.27,
          21.27,
          21.16,
          21.28,
          22.06,
          17.34,
          18.66,
          16.88,
          17.33,
          21.84
         ],
         "yaxis": "y"
        },
        {
         "hovertemplate": "<b>%{hovertext}</b><br><br>fuente_de_emision_y_absorcion_id=3B1ai2<br>anio=%{x}<br>valor(MtCO2eq)=%{y}<extra></extra>",
         "hovertext": [
          "3B1ai2",
          "3B1ai2",
          "3B1ai2",
          "3B1ai2",
          "3B1ai2",
          "3B1ai2",
          "3B1ai2",
          "3B1ai2",
          "3B1ai2",
          "3B1ai2",
          "3B1ai2",
          "3B1ai2",
          "3B1ai2",
          "3B1ai2",
          "3B1ai2",
          "3B1ai2",
          "3B1ai2",
          "3B1ai2",
          "3B1ai2",
          "3B1ai2",
          "3B1ai2",
          "3B1ai2",
          "3B1ai2",
          "3B1ai2",
          "3B1ai2",
          "3B1ai2",
          "3B1ai2"
         ],
         "legendgroup": "3B1ai2",
         "line": {
          "color": "#EF553B",
          "dash": "solid"
         },
         "marker": {
          "symbol": "circle"
         },
         "mode": "lines",
         "name": "3B1ai2",
         "showlegend": true,
         "type": "scattergl",
         "x": [
          1990,
          1991,
          1992,
          1993,
          1994,
          1995,
          1996,
          1997,
          1998,
          1999,
          2000,
          2001,
          2002,
          2003,
          2004,
          2005,
          2006,
          2007,
          2008,
          2009,
          2010,
          2011,
          2012,
          2013,
          2014,
          2015,
          2016
         ],
         "xaxis": "x",
         "y": [
          -4.08,
          -4.05,
          -4.06,
          -4.04,
          -4.05,
          -4.06,
          -4.06,
          -4.06,
          -4.11,
          -4.14,
          -4.13,
          -4.13,
          -4.12,
          -4.15,
          -4.27,
          -4.27,
          -4.29,
          -4.33,
          -4.37,
          -4.4,
          -4.44,
          -4.52,
          -4.53,
          -4.55,
          -4.56,
          -4.54,
          -4.57
         ],
         "yaxis": "y"
        },
        {
         "hovertemplate": "<b>%{hovertext}</b><br><br>fuente_de_emision_y_absorcion_id=3B1aii1<br>anio=%{x}<br>valor(MtCO2eq)=%{y}<extra></extra>",
         "hovertext": [
          "3B1aii1",
          "3B1aii1",
          "3B1aii1",
          "3B1aii1",
          "3B1aii1",
          "3B1aii1",
          "3B1aii1",
          "3B1aii1",
          "3B1aii1",
          "3B1aii1",
          "3B1aii1",
          "3B1aii1",
          "3B1aii1",
          "3B1aii1",
          "3B1aii1",
          "3B1aii1",
          "3B1aii1",
          "3B1aii1",
          "3B1aii1",
          "3B1aii1",
          "3B1aii1",
          "3B1aii1",
          "3B1aii1",
          "3B1aii1",
          "3B1aii1",
          "3B1aii1",
          "3B1aii1"
         ],
         "legendgroup": "3B1aii1",
         "line": {
          "color": "#00cc96",
          "dash": "solid"
         },
         "marker": {
          "symbol": "circle"
         },
         "mode": "lines",
         "name": "3B1aii1",
         "showlegend": true,
         "type": "scattergl",
         "x": [
          1990,
          1991,
          1992,
          1993,
          1994,
          1995,
          1996,
          1997,
          1998,
          1999,
          2000,
          2001,
          2002,
          2003,
          2004,
          2005,
          2006,
          2007,
          2008,
          2009,
          2010,
          2011,
          2012,
          2013,
          2014,
          2015,
          2016
         ],
         "xaxis": "x",
         "y": [
          5.82,
          11.2,
          12.63,
          10.03,
          9.05,
          11.68,
          12.8,
          16.26,
          12.29,
          9.71,
          12.68,
          10.23,
          14.61,
          15.42,
          15.54,
          15.75,
          15.7,
          15.59,
          14.64,
          16.89,
          18.48,
          18.32,
          21.97,
          23.52,
          18.98,
          20.25,
          21.62
         ],
         "yaxis": "y"
        },
        {
         "hovertemplate": "<b>%{hovertext}</b><br><br>fuente_de_emision_y_absorcion_id=3B1aii2<br>anio=%{x}<br>valor(MtCO2eq)=%{y}<extra></extra>",
         "hovertext": [
          "3B1aii2",
          "3B1aii2",
          "3B1aii2",
          "3B1aii2",
          "3B1aii2",
          "3B1aii2",
          "3B1aii2",
          "3B1aii2",
          "3B1aii2",
          "3B1aii2",
          "3B1aii2",
          "3B1aii2",
          "3B1aii2",
          "3B1aii2",
          "3B1aii2",
          "3B1aii2",
          "3B1aii2",
          "3B1aii2",
          "3B1aii2",
          "3B1aii2",
          "3B1aii2",
          "3B1aii2",
          "3B1aii2",
          "3B1aii2",
          "3B1aii2",
          "3B1aii2",
          "3B1aii2"
         ],
         "legendgroup": "3B1aii2",
         "line": {
          "color": "#ab63fa",
          "dash": "solid"
         },
         "marker": {
          "symbol": "circle"
         },
         "mode": "lines",
         "name": "3B1aii2",
         "showlegend": true,
         "type": "scattergl",
         "x": [
          1990,
          1991,
          1992,
          1993,
          1994,
          1995,
          1996,
          1997,
          1998,
          1999,
          2000,
          2001,
          2002,
          2003,
          2004,
          2005,
          2006,
          2007,
          2008,
          2009,
          2010,
          2011,
          2012,
          2013,
          2014,
          2015,
          2016
         ],
         "xaxis": "x",
         "y": [
          -20.77,
          -21.95,
          -23.12,
          -24.29,
          -25.47,
          -26.64,
          -27.81,
          -28.99,
          -27.65,
          -28.9,
          -30.16,
          -31.41,
          -32.66,
          -33.92,
          -35.17,
          -36.43,
          -37.68,
          -38.93,
          -40.19,
          -41.07,
          -41.8,
          -42.51,
          -43.23,
          -43.92,
          -44.57,
          -45.07,
          -45.06
         ],
         "yaxis": "y"
        },
        {
         "hovertemplate": "<b>%{hovertext}</b><br><br>fuente_de_emision_y_absorcion_id=3B2bi<br>anio=%{x}<br>valor(MtCO2eq)=%{y}<extra></extra>",
         "hovertext": [
          "3B2bi",
          "3B2bi",
          "3B2bi",
          "3B2bi",
          "3B2bi",
          "3B2bi",
          "3B2bi",
          "3B2bi",
          "3B2bi",
          "3B2bi",
          "3B2bi",
          "3B2bi",
          "3B2bi",
          "3B2bi",
          "3B2bi",
          "3B2bi",
          "3B2bi",
          "3B2bi",
          "3B2bi",
          "3B2bi",
          "3B2bi",
          "3B2bi",
          "3B2bi",
          "3B2bi",
          "3B2bi",
          "3B2bi",
          "3B2bi"
         ],
         "legendgroup": "3B2bi",
         "line": {
          "color": "#FFA15A",
          "dash": "solid"
         },
         "marker": {
          "symbol": "circle"
         },
         "mode": "lines",
         "name": "3B2bi",
         "showlegend": true,
         "type": "scattergl",
         "x": [
          1990,
          1991,
          1992,
          1993,
          1994,
          1995,
          1996,
          1997,
          1998,
          1999,
          2000,
          2001,
          2002,
          2003,
          2004,
          2005,
          2006,
          2007,
          2008,
          2009,
          2010,
          2011,
          2012,
          2013,
          2014,
          2015,
          2016
         ],
         "xaxis": "x",
         "y": [
          28.09,
          21.97,
          32.54,
          21.74,
          43.43,
          33.4,
          30.89,
          53.01,
          33.02,
          38.68,
          19.57,
          40.95,
          40.28,
          38.73,
          46.64,
          25.37,
          34.45,
          59.41,
          12.74,
          12.66,
          37.5,
          42.2,
          38.29,
          30.02,
          6.79,
          16.51,
          19.97
         ],
         "yaxis": "y"
        },
        {
         "hovertemplate": "<b>%{hovertext}</b><br><br>fuente_de_emision_y_absorcion_id=3B2bii<br>anio=%{x}<br>valor(MtCO2eq)=%{y}<extra></extra>",
         "hovertext": [
          "3B2bii",
          "3B2bii",
          "3B2bii",
          "3B2bii",
          "3B2bii",
          "3B2bii",
          "3B2bii",
          "3B2bii",
          "3B2bii",
          "3B2bii",
          "3B2bii",
          "3B2bii",
          "3B2bii",
          "3B2bii",
          "3B2bii",
          "3B2bii",
          "3B2bii",
          "3B2bii",
          "3B2bii",
          "3B2bii",
          "3B2bii",
          "3B2bii",
          "3B2bii",
          "3B2bii",
          "3B2bii",
          "3B2bii",
          "3B2bii"
         ],
         "legendgroup": "3B2bii",
         "line": {
          "color": "#19d3f3",
          "dash": "solid"
         },
         "marker": {
          "symbol": "circle"
         },
         "mode": "lines",
         "name": "3B2bii",
         "showlegend": true,
         "type": "scattergl",
         "x": [
          1990,
          1991,
          1992,
          1993,
          1994,
          1995,
          1996,
          1997,
          1998,
          1999,
          2000,
          2001,
          2002,
          2003,
          2004,
          2005,
          2006,
          2007,
          2008,
          2009,
          2010,
          2011,
          2012,
          2013,
          2014,
          2015,
          2016
         ],
         "xaxis": "x",
         "y": [
          -8.69,
          -7.76,
          -1.43,
          -11.11,
          -7.56,
          -10.82,
          -7.54,
          -19.88,
          -3.15,
          -7.93,
          -4.61,
          -3.34,
          -4.57,
          -3.5,
          -5.68,
          -7.87,
          -3.67,
          -10.21,
          -10.8,
          -8.39,
          -11.37,
          -15.52,
          -7.42,
          -21.77,
          -8.61,
          -10.88,
          -12.51
         ],
         "yaxis": "y"
        },
        {
         "hovertemplate": "<b>%{hovertext}</b><br><br>fuente_de_emision_y_absorcion_id=3B3bi<br>anio=%{x}<br>valor(MtCO2eq)=%{y}<extra></extra>",
         "hovertext": [
          "3B3bi",
          "3B3bi",
          "3B3bi",
          "3B3bi",
          "3B3bi",
          "3B3bi",
          "3B3bi",
          "3B3bi",
          "3B3bi",
          "3B3bi",
          "3B3bi",
          "3B3bi",
          "3B3bi",
          "3B3bi",
          "3B3bi",
          "3B3bi",
          "3B3bi",
          "3B3bi",
          "3B3bi",
          "3B3bi",
          "3B3bi",
          "3B3bi",
          "3B3bi",
          "3B3bi",
          "3B3bi",
          "3B3bi",
          "3B3bi"
         ],
         "legendgroup": "3B3bi",
         "line": {
          "color": "#FF6692",
          "dash": "solid"
         },
         "marker": {
          "symbol": "circle"
         },
         "mode": "lines",
         "name": "3B3bi",
         "showlegend": true,
         "type": "scattergl",
         "x": [
          1990,
          1991,
          1992,
          1993,
          1994,
          1995,
          1996,
          1997,
          1998,
          1999,
          2000,
          2001,
          2002,
          2003,
          2004,
          2005,
          2006,
          2007,
          2008,
          2009,
          2010,
          2011,
          2012,
          2013,
          2014,
          2015,
          2016
         ],
         "xaxis": "x",
         "y": [
          36.32,
          44.14,
          35.08,
          47.62,
          27.17,
          45.13,
          55.32,
          40.63,
          51.4,
          45.6,
          64.86,
          43.23,
          62.19,
          63.81,
          55.89,
          77.45,
          80.05,
          66.72,
          91.89,
          59.03,
          31.6,
          19.41,
          54.79,
          61.11,
          46.72,
          23.05,
          16.76
         ],
         "yaxis": "y"
        },
        {
         "hovertemplate": "<b>%{hovertext}</b><br><br>fuente_de_emision_y_absorcion_id=3B3bii<br>anio=%{x}<br>valor(MtCO2eq)=%{y}<extra></extra>",
         "hovertext": [
          "3B3bii",
          "3B3bii",
          "3B3bii",
          "3B3bii",
          "3B3bii",
          "3B3bii",
          "3B3bii",
          "3B3bii",
          "3B3bii",
          "3B3bii",
          "3B3bii",
          "3B3bii",
          "3B3bii",
          "3B3bii",
          "3B3bii",
          "3B3bii",
          "3B3bii",
          "3B3bii",
          "3B3bii",
          "3B3bii",
          "3B3bii",
          "3B3bii",
          "3B3bii",
          "3B3bii",
          "3B3bii",
          "3B3bii",
          "3B3bii"
         ],
         "legendgroup": "3B3bii",
         "line": {
          "color": "#B6E880",
          "dash": "solid"
         },
         "marker": {
          "symbol": "circle"
         },
         "mode": "lines",
         "name": "3B3bii",
         "showlegend": true,
         "type": "scattergl",
         "x": [
          1990,
          1991,
          1992,
          1993,
          1994,
          1995,
          1996,
          1997,
          1998,
          1999,
          2000,
          2001,
          2002,
          2003,
          2004,
          2005,
          2006,
          2007,
          2008,
          2009,
          2010,
          2011,
          2012,
          2013,
          2014,
          2015,
          2016
         ],
         "xaxis": "x",
         "y": [
          2.35,
          15.53,
          3.74,
          7.08,
          4.76,
          0.68,
          5.13,
          1.3,
          8.67,
          6.09,
          3.82,
          9.01,
          6.26,
          4.99,
          4.9,
          7.9,
          9.22,
          0.93,
          1.35,
          7.15,
          9.17,
          1.52,
          1.07,
          11.14,
          10.22,
          6.98,
          4.42
         ],
         "yaxis": "y"
        },
        {
         "hovertemplate": "<b>%{hovertext}</b><br><br>fuente_de_emision_y_absorcion_id=3C3<br>anio=%{x}<br>valor(MtCO2eq)=%{y}<extra></extra>",
         "hovertext": [
          "3C3",
          "3C3",
          "3C3",
          "3C3",
          "3C3",
          "3C3",
          "3C3",
          "3C3",
          "3C3",
          "3C3",
          "3C3",
          "3C3",
          "3C3",
          "3C3",
          "3C3",
          "3C3",
          "3C3",
          "3C3",
          "3C3",
          "3C3",
          "3C3",
          "3C3",
          "3C3",
          "3C3",
          "3C3",
          "3C3",
          "3C3"
         ],
         "legendgroup": "3C3",
         "line": {
          "color": "#FF97FF",
          "dash": "solid"
         },
         "marker": {
          "symbol": "circle"
         },
         "mode": "lines",
         "name": "3C3",
         "showlegend": true,
         "type": "scattergl",
         "x": [
          1990,
          1991,
          1992,
          1993,
          1994,
          1995,
          1996,
          1997,
          1998,
          1999,
          2000,
          2001,
          2002,
          2003,
          2004,
          2005,
          2006,
          2007,
          2008,
          2009,
          2010,
          2011,
          2012,
          2013,
          2014,
          2015,
          2016
         ],
         "xaxis": "x",
         "y": [
          0.14,
          0.14,
          0.14,
          0.14,
          0.22,
          0.24,
          0.4,
          0.01,
          0.36,
          0.47,
          0.47,
          0.52,
          0.47,
          0.61,
          0.69,
          0.56,
          0.75,
          0.7,
          0.65,
          0.65,
          0.86,
          0.96,
          0.79,
          0.85,
          0.9,
          0.7,
          1.04
         ],
         "yaxis": "y"
        },
        {
         "hovertemplate": "<b>%{hovertext}</b><br><br>fuente_de_emision_y_absorcion_id=3B7<br>anio=%{x}<br>valor(MtCO2eq)=%{y}<extra></extra>",
         "hovertext": [
          "3B7",
          "3B7",
          "3B7",
          "3B7",
          "3B7",
          "3B7",
          "3B7",
          "3B7",
          "3B7",
          "3B7",
          "3B7",
          "3B7",
          "3B7",
          "3B7",
          "3B7",
          "3B7",
          "3B7",
          "3B7",
          "3B7",
          "3B7",
          "3B7",
          "3B7",
          "3B7",
          "3B7",
          "3B7",
          "3B7"
         ],
         "legendgroup": "3B7",
         "line": {
          "color": "#FECB52",
          "dash": "solid"
         },
         "marker": {
          "symbol": "circle"
         },
         "mode": "lines",
         "name": "3B7",
         "showlegend": true,
         "type": "scattergl",
         "x": [
          1991,
          1992,
          1993,
          1994,
          1995,
          1996,
          1997,
          1998,
          1999,
          2000,
          2001,
          2002,
          2003,
          2004,
          2005,
          2006,
          2007,
          2008,
          2009,
          2010,
          2011,
          2012,
          2013,
          2014,
          2015,
          2016
         ],
         "xaxis": "x",
         "y": [
          2.09,
          4.79,
          3.01,
          3.6,
          9.57,
          14.17,
          26.34,
          23.4,
          24.19,
          21.77,
          19.82,
          18.67,
          19.57,
          20.97,
          16.63,
          13.4,
          16.47,
          17.74,
          13.51,
          19.4,
          21.83,
          17.32,
          19.74,
          17.79,
          10.8,
          8.59
         ],
         "yaxis": "y"
        },
        {
         "hovertemplate": "<b>%{hovertext}</b><br><br>fuente_de_emision_y_absorcion_id=3A1ai<br>anio=%{x}<br>valor(MtCO2eq)=%{y}<extra></extra>",
         "hovertext": [
          "3A1ai",
          "3A1ai",
          "3A1ai",
          "3A1ai",
          "3A1ai",
          "3A1ai",
          "3A1ai",
          "3A1ai",
          "3A1ai",
          "3A1ai",
          "3A1ai",
          "3A1ai",
          "3A1ai",
          "3A1ai",
          "3A1ai",
          "3A1ai",
          "3A1ai",
          "3A1ai",
          "3A1ai",
          "3A1ai",
          "3A1ai",
          "3A1ai",
          "3A1ai",
          "3A1ai",
          "3A1ai",
          "3A1ai",
          "3A1ai"
         ],
         "legendgroup": "3A1ai",
         "line": {
          "color": "#636efa",
          "dash": "solid"
         },
         "marker": {
          "symbol": "circle"
         },
         "mode": "lines",
         "name": "3A1ai",
         "showlegend": true,
         "type": "scattergl",
         "x": [
          1990,
          1991,
          1992,
          1993,
          1994,
          1995,
          1996,
          1997,
          1998,
          1999,
          2000,
          2001,
          2002,
          2003,
          2004,
          2005,
          2006,
          2007,
          2008,
          2009,
          2010,
          2011,
          2012,
          2013,
          2014,
          2015,
          2016
         ],
         "xaxis": "x",
         "y": [
          5.23,
          5.24,
          5.44,
          5.58,
          5.8,
          5.79,
          5.83,
          5.83,
          5.88,
          6.11,
          6.05,
          5.92,
          5.66,
          5.47,
          5.68,
          5.7,
          5.79,
          5.59,
          5.62,
          5.71,
          5.67,
          5.78,
          5.9,
          5.9,
          5.89,
          5.94,
          5.63
         ],
         "yaxis": "y"
        },
        {
         "hovertemplate": "<b>%{hovertext}</b><br><br>fuente_de_emision_y_absorcion_id=3A1aii<br>anio=%{x}<br>valor(MtCO2eq)=%{y}<extra></extra>",
         "hovertext": [
          "3A1aii",
          "3A1aii",
          "3A1aii",
          "3A1aii",
          "3A1aii",
          "3A1aii",
          "3A1aii",
          "3A1aii",
          "3A1aii",
          "3A1aii",
          "3A1aii",
          "3A1aii",
          "3A1aii",
          "3A1aii",
          "3A1aii",
          "3A1aii",
          "3A1aii",
          "3A1aii",
          "3A1aii",
          "3A1aii",
          "3A1aii",
          "3A1aii",
          "3A1aii",
          "3A1aii",
          "3A1aii",
          "3A1aii",
          "3A1aii"
         ],
         "legendgroup": "3A1aii",
         "line": {
          "color": "#EF553B",
          "dash": "solid"
         },
         "marker": {
          "symbol": "circle"
         },
         "mode": "lines",
         "name": "3A1aii",
         "showlegend": true,
         "type": "scattergl",
         "x": [
          1990,
          1991,
          1992,
          1993,
          1994,
          1995,
          1996,
          1997,
          1998,
          1999,
          2000,
          2001,
          2002,
          2003,
          2004,
          2005,
          2006,
          2007,
          2008,
          2009,
          2010,
          2011,
          2012,
          2013,
          2014,
          2015,
          2016
         ],
         "xaxis": "x",
         "y": [
          48.89,
          49.8,
          50.58,
          51.92,
          52.26,
          51.26,
          49.18,
          48.35,
          45.43,
          47.6,
          47.1,
          46.72,
          48.85,
          50.24,
          50.69,
          50.69,
          50.78,
          50.52,
          49.29,
          46.36,
          42.44,
          41.36,
          42.74,
          43.58,
          43.87,
          44.31,
          44.75
         ],
         "yaxis": "y"
        },
        {
         "hovertemplate": "<b>%{hovertext}</b><br><br>fuente_de_emision_y_absorcion_id=3A1b<br>anio=%{x}<br>valor(MtCO2eq)=%{y}<extra></extra>",
         "hovertext": [
          "3A1b",
          "3A1b",
          "3A1b",
          "3A1b",
          "3A1b",
          "3A1b",
          "3A1b",
          "3A1b",
          "3A1b",
          "3A1b",
          "3A1b",
          "3A1b",
          "3A1b",
          "3A1b",
          "3A1b",
          "3A1b",
          "3A1b",
          "3A1b",
          "3A1b",
          "3A1b",
          "3A1b",
          "3A1b",
          "3A1b",
          "3A1b",
          "3A1b",
          "3A1b",
          "3A1b"
         ],
         "legendgroup": "3A1b",
         "line": {
          "color": "#00cc96",
          "dash": "solid"
         },
         "marker": {
          "symbol": "circle"
         },
         "mode": "lines",
         "name": "3A1b",
         "showlegend": true,
         "type": "scattergl",
         "x": [
          1990,
          1991,
          1992,
          1993,
          1994,
          1995,
          1996,
          1997,
          1998,
          1999,
          2000,
          2001,
          2002,
          2003,
          2004,
          2005,
          2006,
          2007,
          2008,
          2009,
          2010,
          2011,
          2012,
          2013,
          2014,
          2015,
          2016
         ],
         "xaxis": "x",
         "y": [
          0,
          0,
          0,
          0,
          0,
          0,
          0.01,
          0.01,
          0.01,
          0.01,
          0.02,
          0.02,
          0.02,
          0.02,
          0.03,
          0.03,
          0.03,
          0.03,
          0.04,
          0.04,
          0.04,
          0.09,
          0.09,
          0.11,
          0.11,
          0.12,
          0.14
         ],
         "yaxis": "y"
        },
        {
         "hovertemplate": "<b>%{hovertext}</b><br><br>fuente_de_emision_y_absorcion_id=3A1c<br>anio=%{x}<br>valor(MtCO2eq)=%{y}<extra></extra>",
         "hovertext": [
          "3A1c",
          "3A1c",
          "3A1c",
          "3A1c",
          "3A1c",
          "3A1c",
          "3A1c",
          "3A1c",
          "3A1c",
          "3A1c",
          "3A1c",
          "3A1c",
          "3A1c",
          "3A1c",
          "3A1c",
          "3A1c",
          "3A1c",
          "3A1c",
          "3A1c",
          "3A1c",
          "3A1c",
          "3A1c",
          "3A1c",
          "3A1c",
          "3A1c",
          "3A1c",
          "3A1c"
         ],
         "legendgroup": "3A1c",
         "line": {
          "color": "#ab63fa",
          "dash": "solid"
         },
         "marker": {
          "symbol": "circle"
         },
         "mode": "lines",
         "name": "3A1c",
         "showlegend": true,
         "type": "scattergl",
         "x": [
          1990,
          1991,
          1992,
          1993,
          1994,
          1995,
          1996,
          1997,
          1998,
          1999,
          2000,
          2001,
          2002,
          2003,
          2004,
          2005,
          2006,
          2007,
          2008,
          2009,
          2010,
          2011,
          2012,
          2013,
          2014,
          2015,
          2016
         ],
         "xaxis": "x",
         "y": [
          2.09,
          2.04,
          1.99,
          1.94,
          1.77,
          1.6,
          1.5,
          1.39,
          1.41,
          1.44,
          1.42,
          1.37,
          1.31,
          1.45,
          1.59,
          1.63,
          1.66,
          1.7,
          1.68,
          1.6,
          1.58,
          1.55,
          1.54,
          1.53,
          1.53,
          1.56,
          1.56
         ],
         "yaxis": "y"
        },
        {
         "hovertemplate": "<b>%{hovertext}</b><br><br>fuente_de_emision_y_absorcion_id=3A1d<br>anio=%{x}<br>valor(MtCO2eq)=%{y}<extra></extra>",
         "hovertext": [
          "3A1d",
          "3A1d",
          "3A1d",
          "3A1d",
          "3A1d",
          "3A1d",
          "3A1d",
          "3A1d",
          "3A1d",
          "3A1d",
          "3A1d",
          "3A1d",
          "3A1d",
          "3A1d",
          "3A1d",
          "3A1d",
          "3A1d",
          "3A1d",
          "3A1d",
          "3A1d",
          "3A1d",
          "3A1d",
          "3A1d",
          "3A1d",
          "3A1d",
          "3A1d",
          "3A1d"
         ],
         "legendgroup": "3A1d",
         "line": {
          "color": "#FFA15A",
          "dash": "solid"
         },
         "marker": {
          "symbol": "circle"
         },
         "mode": "lines",
         "name": "3A1d",
         "showlegend": true,
         "type": "scattergl",
         "x": [
          1990,
          1991,
          1992,
          1993,
          1994,
          1995,
          1996,
          1997,
          1998,
          1999,
          2000,
          2001,
          2002,
          2003,
          2004,
          2005,
          2006,
          2007,
          2008,
          2009,
          2010,
          2011,
          2012,
          2013,
          2014,
          2015,
          2016
         ],
         "xaxis": "x",
         "y": [
          0.4,
          0.4,
          0.41,
          0.42,
          0.42,
          0.37,
          0.35,
          0.36,
          0.36,
          0.36,
          0.37,
          0.4,
          0.43,
          0.42,
          0.42,
          0.41,
          0.41,
          0.41,
          0.4,
          0.43,
          0.42,
          0.45,
          0.45,
          0.45,
          0.46,
          0.5,
          0.49
         ],
         "yaxis": "y"
        },
        {
         "hovertemplate": "<b>%{hovertext}</b><br><br>fuente_de_emision_y_absorcion_id=3A1e<br>anio=%{x}<br>valor(MtCO2eq)=%{y}<extra></extra>",
         "hovertext": [
          "3A1e",
          "3A1e",
          "3A1e",
          "3A1e",
          "3A1e",
          "3A1e",
          "3A1e",
          "3A1e",
          "3A1e",
          "3A1e",
          "3A1e",
          "3A1e",
          "3A1e",
          "3A1e",
          "3A1e",
          "3A1e",
          "3A1e",
          "3A1e",
          "3A1e",
          "3A1e",
          "3A1e",
          "3A1e",
          "3A1e",
          "3A1e",
          "3A1e",
          "3A1e",
          "3A1e"
         ],
         "legendgroup": "3A1e",
         "line": {
          "color": "#19d3f3",
          "dash": "solid"
         },
         "marker": {
          "symbol": "circle"
         },
         "mode": "lines",
         "name": "3A1e",
         "showlegend": true,
         "type": "scattergl",
         "x": [
          1990,
          1991,
          1992,
          1993,
          1994,
          1995,
          1996,
          1997,
          1998,
          1999,
          2000,
          2001,
          2002,
          2003,
          2004,
          2005,
          2006,
          2007,
          2008,
          2009,
          2010,
          2011,
          2012,
          2013,
          2014,
          2015,
          2016
         ],
         "xaxis": "x",
         "y": [
          0.03,
          0.03,
          0.03,
          0.03,
          0.03,
          0.03,
          0.03,
          0.03,
          0.03,
          0.03,
          0.03,
          0.03,
          0.03,
          0.03,
          0.03,
          0.03,
          0.03,
          0.03,
          0.03,
          0.03,
          0.03,
          0.03,
          0.03,
          0.03,
          0.04,
          0.04,
          0.04
         ],
         "yaxis": "y"
        },
        {
         "hovertemplate": "<b>%{hovertext}</b><br><br>fuente_de_emision_y_absorcion_id=3A1f<br>anio=%{x}<br>valor(MtCO2eq)=%{y}<extra></extra>",
         "hovertext": [
          "3A1f",
          "3A1f",
          "3A1f",
          "3A1f",
          "3A1f",
          "3A1f",
          "3A1f",
          "3A1f",
          "3A1f",
          "3A1f",
          "3A1f",
          "3A1f",
          "3A1f",
          "3A1f",
          "3A1f",
          "3A1f",
          "3A1f",
          "3A1f",
          "3A1f",
          "3A1f",
          "3A1f",
          "3A1f",
          "3A1f",
          "3A1f",
          "3A1f",
          "3A1f",
          "3A1f"
         ],
         "legendgroup": "3A1f",
         "line": {
          "color": "#FF6692",
          "dash": "solid"
         },
         "marker": {
          "symbol": "circle"
         },
         "mode": "lines",
         "name": "3A1f",
         "showlegend": true,
         "type": "scattergl",
         "x": [
          1990,
          1991,
          1992,
          1993,
          1994,
          1995,
          1996,
          1997,
          1998,
          1999,
          2000,
          2001,
          2002,
          2003,
          2004,
          2005,
          2006,
          2007,
          2008,
          2009,
          2010,
          2011,
          2012,
          2013,
          2014,
          2015,
          2016
         ],
         "xaxis": "x",
         "y": [
          0.75,
          0.75,
          0.75,
          0.75,
          0.75,
          0.75,
          0.75,
          0.75,
          0.75,
          0.75,
          0.75,
          0.75,
          0.75,
          0.75,
          0.75,
          0.75,
          0.75,
          0.75,
          0.72,
          0.74,
          0.72,
          0.74,
          0.79,
          0.85,
          0.88,
          0.94,
          0.94
         ],
         "yaxis": "y"
        },
        {
         "hovertemplate": "<b>%{hovertext}</b><br><br>fuente_de_emision_y_absorcion_id=3A1g<br>anio=%{x}<br>valor(MtCO2eq)=%{y}<extra></extra>",
         "hovertext": [
          "3A1g",
          "3A1g",
          "3A1g",
          "3A1g",
          "3A1g",
          "3A1g",
          "3A1g",
          "3A1g",
          "3A1g",
          "3A1g",
          "3A1g",
          "3A1g",
          "3A1g",
          "3A1g",
          "3A1g",
          "3A1g",
          "3A1g",
          "3A1g",
          "3A1g",
          "3A1g",
          "3A1g",
          "3A1g",
          "3A1g",
          "3A1g",
          "3A1g",
          "3A1g",
          "3A1g"
         ],
         "legendgroup": "3A1g",
         "line": {
          "color": "#B6E880",
          "dash": "solid"
         },
         "marker": {
          "symbol": "circle"
         },
         "mode": "lines",
         "name": "3A1g",
         "showlegend": true,
         "type": "scattergl",
         "x": [
          1990,
          1991,
          1992,
          1993,
          1994,
          1995,
          1996,
          1997,
          1998,
          1999,
          2000,
          2001,
          2002,
          2003,
          2004,
          2005,
          2006,
          2007,
          2008,
          2009,
          2010,
          2011,
          2012,
          2013,
          2014,
          2015,
          2016
         ],
         "xaxis": "x",
         "y": [
          0.03,
          0.03,
          0.02,
          0.02,
          0.02,
          0.02,
          0.02,
          0.02,
          0.02,
          0.02,
          0.02,
          0.01,
          0.01,
          0.01,
          0.01,
          0.01,
          0.01,
          0.01,
          0.01,
          0.01,
          0.01,
          0.01,
          0.01,
          0.01,
          0.01,
          0.01,
          0.01
         ],
         "yaxis": "y"
        },
        {
         "hovertemplate": "<b>%{hovertext}</b><br><br>fuente_de_emision_y_absorcion_id=3A1h<br>anio=%{x}<br>valor(MtCO2eq)=%{y}<extra></extra>",
         "hovertext": [
          "3A1h",
          "3A1h",
          "3A1h",
          "3A1h",
          "3A1h",
          "3A1h",
          "3A1h",
          "3A1h",
          "3A1h",
          "3A1h",
          "3A1h",
          "3A1h",
          "3A1h",
          "3A1h",
          "3A1h",
          "3A1h",
          "3A1h",
          "3A1h",
          "3A1h",
          "3A1h",
          "3A1h",
          "3A1h",
          "3A1h",
          "3A1h",
          "3A1h",
          "3A1h",
          "3A1h"
         ],
         "legendgroup": "3A1h",
         "line": {
          "color": "#FF97FF",
          "dash": "solid"
         },
         "marker": {
          "symbol": "circle"
         },
         "mode": "lines",
         "name": "3A1h",
         "showlegend": true,
         "type": "scattergl",
         "x": [
          1990,
          1991,
          1992,
          1993,
          1994,
          1995,
          1996,
          1997,
          1998,
          1999,
          2000,
          2001,
          2002,
          2003,
          2004,
          2005,
          2006,
          2007,
          2008,
          2009,
          2010,
          2011,
          2012,
          2013,
          2014,
          2015,
          2016
         ],
         "xaxis": "x",
         "y": [
          0.07,
          0.07,
          0.07,
          0.07,
          0.07,
          0.07,
          0.07,
          0.07,
          0.07,
          0.07,
          0.07,
          0.07,
          0.07,
          0.07,
          0.07,
          0.06,
          0.06,
          0.06,
          0.06,
          0.06,
          0.07,
          0.07,
          0.07,
          0.09,
          0.1,
          0.1,
          0.1
         ],
         "yaxis": "y"
        },
        {
         "hovertemplate": "<b>%{hovertext}</b><br><br>fuente_de_emision_y_absorcion_id=3A2ai<br>anio=%{x}<br>valor(MtCO2eq)=%{y}<extra></extra>",
         "hovertext": [
          "3A2ai",
          "3A2ai",
          "3A2ai",
          "3A2ai",
          "3A2ai",
          "3A2ai",
          "3A2ai",
          "3A2ai",
          "3A2ai",
          "3A2ai",
          "3A2ai",
          "3A2ai",
          "3A2ai",
          "3A2ai",
          "3A2ai",
          "3A2ai",
          "3A2ai",
          "3A2ai",
          "3A2ai",
          "3A2ai",
          "3A2ai",
          "3A2ai",
          "3A2ai",
          "3A2ai",
          "3A2ai",
          "3A2ai",
          "3A2ai"
         ],
         "legendgroup": "3A2ai",
         "line": {
          "color": "#FECB52",
          "dash": "solid"
         },
         "marker": {
          "symbol": "circle"
         },
         "mode": "lines",
         "name": "3A2ai",
         "showlegend": true,
         "type": "scattergl",
         "x": [
          1990,
          1991,
          1992,
          1993,
          1994,
          1995,
          1996,
          1997,
          1998,
          1999,
          2000,
          2001,
          2002,
          2003,
          2004,
          2005,
          2006,
          2007,
          2008,
          2009,
          2010,
          2011,
          2012,
          2013,
          2014,
          2015,
          2016
         ],
         "xaxis": "x",
         "y": [
          0.52,
          0.52,
          0.55,
          0.56,
          0.59,
          0.59,
          0.6,
          0.6,
          0.61,
          0.64,
          0.63,
          0.62,
          0.58,
          0.56,
          0.59,
          0.59,
          0.61,
          0.58,
          0.57,
          0.58,
          0.57,
          0.59,
          0.6,
          0.6,
          0.6,
          0.6,
          0.56
         ],
         "yaxis": "y"
        },
        {
         "hovertemplate": "<b>%{hovertext}</b><br><br>fuente_de_emision_y_absorcion_id=3A2aii<br>anio=%{x}<br>valor(MtCO2eq)=%{y}<extra></extra>",
         "hovertext": [
          "3A2aii",
          "3A2aii",
          "3A2aii",
          "3A2aii",
          "3A2aii",
          "3A2aii",
          "3A2aii",
          "3A2aii",
          "3A2aii",
          "3A2aii",
          "3A2aii",
          "3A2aii",
          "3A2aii",
          "3A2aii",
          "3A2aii",
          "3A2aii",
          "3A2aii",
          "3A2aii",
          "3A2aii",
          "3A2aii",
          "3A2aii",
          "3A2aii",
          "3A2aii",
          "3A2aii",
          "3A2aii",
          "3A2aii",
          "3A2aii",
          "3A2aii",
          "3A2aii",
          "3A2aii",
          "3A2aii",
          "3A2aii",
          "3A2aii",
          "3A2aii",
          "3A2aii",
          "3A2aii",
          "3A2aii",
          "3A2aii",
          "3A2aii",
          "3A2aii",
          "3A2aii",
          "3A2aii",
          "3A2aii",
          "3A2aii",
          "3A2aii",
          "3A2aii",
          "3A2aii",
          "3A2aii",
          "3A2aii",
          "3A2aii",
          "3A2aii",
          "3A2aii",
          "3A2aii",
          "3A2aii"
         ],
         "legendgroup": "3A2aii",
         "line": {
          "color": "#636efa",
          "dash": "solid"
         },
         "marker": {
          "symbol": "circle"
         },
         "mode": "lines",
         "name": "3A2aii",
         "showlegend": true,
         "type": "scattergl",
         "x": [
          1990,
          1991,
          1992,
          1993,
          1994,
          1995,
          1996,
          1997,
          1998,
          1999,
          2000,
          2001,
          2002,
          2003,
          2004,
          2005,
          2006,
          2007,
          2008,
          2009,
          2010,
          2011,
          2012,
          2013,
          2014,
          2015,
          2016,
          1990,
          1991,
          1992,
          1993,
          1994,
          1995,
          1996,
          1997,
          1998,
          1999,
          2000,
          2001,
          2002,
          2003,
          2004,
          2005,
          2006,
          2007,
          2008,
          2009,
          2010,
          2011,
          2012,
          2013,
          2014,
          2015,
          2016
         ],
         "xaxis": "x",
         "y": [
          0.99,
          1,
          1.02,
          1.05,
          1.06,
          1.04,
          1,
          0.98,
          0.92,
          0.97,
          0.96,
          0.94,
          0.97,
          0.99,
          0.99,
          0.98,
          0.97,
          0.96,
          0.87,
          0.82,
          0.76,
          0.74,
          0.77,
          0.78,
          0.79,
          0.8,
          0.8,
          0.18,
          0.19,
          0.19,
          0.22,
          0.19,
          0.2,
          0.17,
          0.17,
          0.17,
          0.18,
          0.16,
          0.21,
          0.29,
          0.37,
          0.45,
          0.48,
          0.54,
          0.61,
          0.42,
          0.4,
          0.36,
          0.34,
          0.33,
          0.31,
          0.31,
          0.31,
          0.31
         ],
         "yaxis": "y"
        },
        {
         "hovertemplate": "<b>%{hovertext}</b><br><br>fuente_de_emision_y_absorcion_id=3A2b<br>anio=%{x}<br>valor(MtCO2eq)=%{y}<extra></extra>",
         "hovertext": [
          "3A2b",
          "3A2b",
          "3A2b",
          "3A2b",
          "3A2b",
          "3A2b",
          "3A2b",
          "3A2b",
          "3A2b",
          "3A2b",
          "3A2b",
          "3A2b",
          "3A2b",
          "3A2b",
          "3A2b",
          "3A2b",
          "3A2b",
          "3A2b",
          "3A2b",
          "3A2b",
          "3A2b",
          "3A2b",
          "3A2b",
          "3A2b",
          "3A2b",
          "3A2b",
          "3A2b"
         ],
         "legendgroup": "3A2b",
         "line": {
          "color": "#EF553B",
          "dash": "solid"
         },
         "marker": {
          "symbol": "circle"
         },
         "mode": "lines",
         "name": "3A2b",
         "showlegend": true,
         "type": "scattergl",
         "x": [
          1990,
          1991,
          1992,
          1993,
          1994,
          1995,
          1996,
          1997,
          1998,
          1999,
          2000,
          2001,
          2002,
          2003,
          2004,
          2005,
          2006,
          2007,
          2008,
          2009,
          2010,
          2011,
          2012,
          2013,
          2014,
          2015,
          2016
         ],
         "xaxis": "x",
         "y": [
          0,
          0,
          0,
          0,
          0,
          0,
          0,
          0,
          0,
          0,
          0,
          0,
          0,
          0,
          0,
          0,
          0,
          0,
          0,
          0,
          0,
          0,
          0,
          0,
          0,
          0,
          0
         ],
         "yaxis": "y"
        },
        {
         "hovertemplate": "<b>%{hovertext}</b><br><br>fuente_de_emision_y_absorcion_id=3A2c<br>anio=%{x}<br>valor(MtCO2eq)=%{y}<extra></extra>",
         "hovertext": [
          "3A2c",
          "3A2c",
          "3A2c",
          "3A2c",
          "3A2c",
          "3A2c",
          "3A2c",
          "3A2c",
          "3A2c",
          "3A2c",
          "3A2c",
          "3A2c",
          "3A2c",
          "3A2c",
          "3A2c",
          "3A2c",
          "3A2c",
          "3A2c",
          "3A2c",
          "3A2c",
          "3A2c",
          "3A2c",
          "3A2c",
          "3A2c",
          "3A2c",
          "3A2c",
          "3A2c"
         ],
         "legendgroup": "3A2c",
         "line": {
          "color": "#00cc96",
          "dash": "solid"
         },
         "marker": {
          "symbol": "circle"
         },
         "mode": "lines",
         "name": "3A2c",
         "showlegend": true,
         "type": "scattergl",
         "x": [
          1990,
          1991,
          1992,
          1993,
          1994,
          1995,
          1996,
          1997,
          1998,
          1999,
          2000,
          2001,
          2002,
          2003,
          2004,
          2005,
          2006,
          2007,
          2008,
          2009,
          2010,
          2011,
          2012,
          2013,
          2014,
          2015,
          2016
         ],
         "xaxis": "x",
         "y": [
          0.05,
          0.05,
          0.04,
          0.04,
          0.04,
          0.04,
          0.03,
          0.03,
          0.03,
          0.03,
          0.03,
          0.03,
          0.03,
          0.03,
          0.04,
          0.04,
          0.04,
          0.04,
          0.04,
          0.04,
          0.04,
          0.03,
          0.03,
          0.04,
          0.04,
          0.04,
          0.04
         ],
         "yaxis": "y"
        },
        {
         "hovertemplate": "<b>%{hovertext}</b><br><br>fuente_de_emision_y_absorcion_id=3A2d<br>anio=%{x}<br>valor(MtCO2eq)=%{y}<extra></extra>",
         "hovertext": [
          "3A2d",
          "3A2d",
          "3A2d",
          "3A2d",
          "3A2d",
          "3A2d",
          "3A2d",
          "3A2d",
          "3A2d",
          "3A2d",
          "3A2d",
          "3A2d",
          "3A2d",
          "3A2d",
          "3A2d",
          "3A2d",
          "3A2d",
          "3A2d",
          "3A2d",
          "3A2d",
          "3A2d",
          "3A2d",
          "3A2d",
          "3A2d",
          "3A2d",
          "3A2d",
          "3A2d"
         ],
         "legendgroup": "3A2d",
         "line": {
          "color": "#ab63fa",
          "dash": "solid"
         },
         "marker": {
          "symbol": "circle"
         },
         "mode": "lines",
         "name": "3A2d",
         "showlegend": true,
         "type": "scattergl",
         "x": [
          1990,
          1991,
          1992,
          1993,
          1994,
          1995,
          1996,
          1997,
          1998,
          1999,
          2000,
          2001,
          2002,
          2003,
          2004,
          2005,
          2006,
          2007,
          2008,
          2009,
          2010,
          2011,
          2012,
          2013,
          2014,
          2015,
          2016
         ],
         "xaxis": "x",
         "y": [
          0.01,
          0.01,
          0.01,
          0.01,
          0.01,
          0.01,
          0.01,
          0.01,
          0.01,
          0.01,
          0.01,
          0.01,
          0.01,
          0.01,
          0.01,
          0.01,
          0.01,
          0.01,
          0.01,
          0.01,
          0.01,
          0.01,
          0.01,
          0.01,
          0.01,
          0.02,
          0.02
         ],
         "yaxis": "y"
        },
        {
         "hovertemplate": "<b>%{hovertext}</b><br><br>fuente_de_emision_y_absorcion_id=3A2e<br>anio=%{x}<br>valor(MtCO2eq)=%{y}<extra></extra>",
         "hovertext": [
          "3A2e",
          "3A2e",
          "3A2e",
          "3A2e",
          "3A2e",
          "3A2e",
          "3A2e",
          "3A2e",
          "3A2e",
          "3A2e",
          "3A2e",
          "3A2e",
          "3A2e",
          "3A2e",
          "3A2e",
          "3A2e",
          "3A2e",
          "3A2e",
          "3A2e",
          "3A2e",
          "3A2e",
          "3A2e",
          "3A2e",
          "3A2e",
          "3A2e",
          "3A2e",
          "3A2e"
         ],
         "legendgroup": "3A2e",
         "line": {
          "color": "#FFA15A",
          "dash": "solid"
         },
         "marker": {
          "symbol": "circle"
         },
         "mode": "lines",
         "name": "3A2e",
         "showlegend": true,
         "type": "scattergl",
         "x": [
          1990,
          1991,
          1992,
          1993,
          1994,
          1995,
          1996,
          1997,
          1998,
          1999,
          2000,
          2001,
          2002,
          2003,
          2004,
          2005,
          2006,
          2007,
          2008,
          2009,
          2010,
          2011,
          2012,
          2013,
          2014,
          2015,
          2016
         ],
         "xaxis": "x",
         "y": [
          0.01,
          0.01,
          0.01,
          0.01,
          0.01,
          0.01,
          0.01,
          0.01,
          0.01,
          0.01,
          0.01,
          0.01,
          0.01,
          0.01,
          0.01,
          0.01,
          0.01,
          0.01,
          0.01,
          0.01,
          0.01,
          0.01,
          0.01,
          0.01,
          0.01,
          0.01,
          0.01
         ],
         "yaxis": "y"
        },
        {
         "hovertemplate": "<b>%{hovertext}</b><br><br>fuente_de_emision_y_absorcion_id=3A2f<br>anio=%{x}<br>valor(MtCO2eq)=%{y}<extra></extra>",
         "hovertext": [
          "3A2f",
          "3A2f",
          "3A2f",
          "3A2f",
          "3A2f",
          "3A2f",
          "3A2f",
          "3A2f",
          "3A2f",
          "3A2f",
          "3A2f",
          "3A2f",
          "3A2f",
          "3A2f",
          "3A2f",
          "3A2f",
          "3A2f",
          "3A2f",
          "3A2f",
          "3A2f",
          "3A2f",
          "3A2f",
          "3A2f",
          "3A2f",
          "3A2f",
          "3A2f",
          "3A2f"
         ],
         "legendgroup": "3A2f",
         "line": {
          "color": "#19d3f3",
          "dash": "solid"
         },
         "marker": {
          "symbol": "circle"
         },
         "mode": "lines",
         "name": "3A2f",
         "showlegend": true,
         "type": "scattergl",
         "x": [
          1990,
          1991,
          1992,
          1993,
          1994,
          1995,
          1996,
          1997,
          1998,
          1999,
          2000,
          2001,
          2002,
          2003,
          2004,
          2005,
          2006,
          2007,
          2008,
          2009,
          2010,
          2011,
          2012,
          2013,
          2014,
          2015,
          2016
         ],
         "xaxis": "x",
         "y": [
          0.06,
          0.06,
          0.06,
          0.06,
          0.06,
          0.06,
          0.06,
          0.06,
          0.06,
          0.06,
          0.06,
          0.06,
          0.06,
          0.06,
          0.06,
          0.06,
          0.06,
          0.06,
          0.06,
          0.06,
          0.06,
          0.06,
          0.06,
          0.07,
          0.07,
          0.08,
          0.08
         ],
         "yaxis": "y"
        },
        {
         "hovertemplate": "<b>%{hovertext}</b><br><br>fuente_de_emision_y_absorcion_id=3A2g<br>anio=%{x}<br>valor(MtCO2eq)=%{y}<extra></extra>",
         "hovertext": [
          "3A2g",
          "3A2g",
          "3A2g",
          "3A2g",
          "3A2g",
          "3A2g",
          "3A2g",
          "3A2g",
          "3A2g",
          "3A2g",
          "3A2g",
          "3A2g",
          "3A2g",
          "3A2g",
          "3A2g",
          "3A2g",
          "3A2g",
          "3A2g",
          "3A2g",
          "3A2g",
          "3A2g",
          "3A2g",
          "3A2g",
          "3A2g",
          "3A2g",
          "3A2g",
          "3A2g"
         ],
         "legendgroup": "3A2g",
         "line": {
          "color": "#FF6692",
          "dash": "solid"
         },
         "marker": {
          "symbol": "circle"
         },
         "mode": "lines",
         "name": "3A2g",
         "showlegend": true,
         "type": "scattergl",
         "x": [
          1990,
          1991,
          1992,
          1993,
          1994,
          1995,
          1996,
          1997,
          1998,
          1999,
          2000,
          2001,
          2002,
          2003,
          2004,
          2005,
          2006,
          2007,
          2008,
          2009,
          2010,
          2011,
          2012,
          2013,
          2014,
          2015,
          2016
         ],
         "xaxis": "x",
         "y": [
          0,
          0,
          0,
          0,
          0,
          0,
          0,
          0,
          0,
          0,
          0,
          0,
          0,
          0,
          0,
          0,
          0,
          0,
          0,
          0,
          0,
          0,
          0,
          0,
          0,
          0,
          0
         ],
         "yaxis": "y"
        },
        {
         "hovertemplate": "<b>%{hovertext}</b><br><br>fuente_de_emision_y_absorcion_id=3A2h<br>anio=%{x}<br>valor(MtCO2eq)=%{y}<extra></extra>",
         "hovertext": [
          "3A2h",
          "3A2h",
          "3A2h",
          "3A2h",
          "3A2h",
          "3A2h",
          "3A2h",
          "3A2h",
          "3A2h",
          "3A2h",
          "3A2h",
          "3A2h",
          "3A2h",
          "3A2h",
          "3A2h",
          "3A2h",
          "3A2h",
          "3A2h",
          "3A2h",
          "3A2h",
          "3A2h",
          "3A2h",
          "3A2h",
          "3A2h",
          "3A2h",
          "3A2h",
          "3A2h",
          "3A2h",
          "3A2h",
          "3A2h",
          "3A2h",
          "3A2h",
          "3A2h",
          "3A2h",
          "3A2h",
          "3A2h",
          "3A2h",
          "3A2h",
          "3A2h",
          "3A2h",
          "3A2h",
          "3A2h",
          "3A2h",
          "3A2h",
          "3A2h",
          "3A2h",
          "3A2h",
          "3A2h",
          "3A2h",
          "3A2h",
          "3A2h",
          "3A2h",
          "3A2h",
          "3A2h"
         ],
         "legendgroup": "3A2h",
         "line": {
          "color": "#B6E880",
          "dash": "solid"
         },
         "marker": {
          "symbol": "circle"
         },
         "mode": "lines",
         "name": "3A2h",
         "showlegend": true,
         "type": "scattergl",
         "x": [
          1990,
          1991,
          1992,
          1993,
          1994,
          1995,
          1996,
          1997,
          1998,
          1999,
          2000,
          2001,
          2002,
          2003,
          2004,
          2005,
          2006,
          2007,
          2008,
          2009,
          2010,
          2011,
          2012,
          2013,
          2014,
          2015,
          2016,
          1990,
          1991,
          1992,
          1993,
          1994,
          1995,
          1996,
          1997,
          1998,
          1999,
          2000,
          2001,
          2002,
          2003,
          2004,
          2005,
          2006,
          2007,
          2008,
          2009,
          2010,
          2011,
          2012,
          2013,
          2014,
          2015,
          2016
         ],
         "xaxis": "x",
         "y": [
          0.07,
          0.07,
          0.07,
          0.07,
          0.07,
          0.07,
          0.07,
          0.07,
          0.07,
          0.07,
          0.07,
          0.07,
          0.07,
          0.07,
          0.06,
          0.06,
          0.06,
          0.06,
          0.06,
          0.06,
          0.06,
          0.06,
          0.07,
          0.08,
          0.09,
          0.09,
          0.1,
          0.19,
          0.19,
          0.19,
          0.19,
          0.18,
          0.18,
          0.18,
          0.18,
          0.18,
          0.18,
          0.18,
          0.18,
          0.18,
          0.18,
          0.18,
          0.17,
          0.17,
          0.17,
          0.17,
          0.17,
          0.18,
          0.19,
          0.2,
          0.24,
          0.26,
          0.27,
          0.29
         ],
         "yaxis": "y"
        },
        {
         "hovertemplate": "<b>%{hovertext}</b><br><br>fuente_de_emision_y_absorcion_id=3A2i<br>anio=%{x}<br>valor(MtCO2eq)=%{y}<extra></extra>",
         "hovertext": [
          "3A2i",
          "3A2i",
          "3A2i",
          "3A2i",
          "3A2i",
          "3A2i",
          "3A2i",
          "3A2i",
          "3A2i",
          "3A2i",
          "3A2i",
          "3A2i",
          "3A2i",
          "3A2i",
          "3A2i",
          "3A2i",
          "3A2i",
          "3A2i",
          "3A2i",
          "3A2i",
          "3A2i",
          "3A2i",
          "3A2i",
          "3A2i",
          "3A2i",
          "3A2i",
          "3A2i",
          "3A2i",
          "3A2i",
          "3A2i",
          "3A2i",
          "3A2i",
          "3A2i",
          "3A2i",
          "3A2i",
          "3A2i",
          "3A2i",
          "3A2i",
          "3A2i",
          "3A2i",
          "3A2i",
          "3A2i",
          "3A2i",
          "3A2i",
          "3A2i",
          "3A2i",
          "3A2i",
          "3A2i",
          "3A2i",
          "3A2i",
          "3A2i",
          "3A2i",
          "3A2i",
          "3A2i"
         ],
         "legendgroup": "3A2i",
         "line": {
          "color": "#FF97FF",
          "dash": "solid"
         },
         "marker": {
          "symbol": "circle"
         },
         "mode": "lines",
         "name": "3A2i",
         "showlegend": true,
         "type": "scattergl",
         "x": [
          1990,
          1991,
          1992,
          1993,
          1994,
          1995,
          1996,
          1997,
          1998,
          1999,
          2000,
          2001,
          2002,
          2003,
          2004,
          2005,
          2006,
          2007,
          2008,
          2009,
          2010,
          2011,
          2012,
          2013,
          2014,
          2015,
          2016,
          1990,
          1991,
          1992,
          1993,
          1994,
          1995,
          1996,
          1997,
          1998,
          1999,
          2000,
          2001,
          2002,
          2003,
          2004,
          2005,
          2006,
          2007,
          2008,
          2009,
          2010,
          2011,
          2012,
          2013,
          2014,
          2015,
          2016
         ],
         "xaxis": "x",
         "y": [
          0.01,
          0.01,
          0.01,
          0.01,
          0.01,
          0.01,
          0.02,
          0.02,
          0.02,
          0.02,
          0.02,
          0.03,
          0.03,
          0.03,
          0.03,
          0.04,
          0.04,
          0.05,
          0.05,
          0.05,
          0.05,
          0.06,
          0.06,
          0.06,
          0.06,
          0.06,
          0.06,
          0.01,
          0.01,
          0.01,
          0.01,
          0.01,
          0.01,
          0.01,
          0.01,
          0.01,
          0.01,
          0.01,
          0.01,
          0.02,
          0.02,
          0.02,
          0.02,
          0.02,
          0.02,
          0.03,
          0.03,
          0.03,
          0.03,
          0.03,
          0.03,
          0.03,
          0.03,
          0.03
         ],
         "yaxis": "y"
        },
        {
         "hovertemplate": "<b>%{hovertext}</b><br><br>fuente_de_emision_y_absorcion_id=3C1ai<br>anio=%{x}<br>valor(MtCO2eq)=%{y}<extra></extra>",
         "hovertext": [
          "3C1ai",
          "3C1ai",
          "3C1ai",
          "3C1ai",
          "3C1ai",
          "3C1ai",
          "3C1ai",
          "3C1ai",
          "3C1ai",
          "3C1ai",
          "3C1ai",
          "3C1ai",
          "3C1ai",
          "3C1ai",
          "3C1ai",
          "3C1ai",
          "3C1ai",
          "3C1ai",
          "3C1ai",
          "3C1ai",
          "3C1ai",
          "3C1ai",
          "3C1ai",
          "3C1ai",
          "3C1ai",
          "3C1ai",
          "3C1ai",
          "3C1ai",
          "3C1ai",
          "3C1ai",
          "3C1ai",
          "3C1ai",
          "3C1ai",
          "3C1ai",
          "3C1ai",
          "3C1ai",
          "3C1ai",
          "3C1ai",
          "3C1ai",
          "3C1ai",
          "3C1ai",
          "3C1ai",
          "3C1ai",
          "3C1ai",
          "3C1ai",
          "3C1ai",
          "3C1ai",
          "3C1ai",
          "3C1ai",
          "3C1ai",
          "3C1ai",
          "3C1ai",
          "3C1ai",
          "3C1ai"
         ],
         "legendgroup": "3C1ai",
         "line": {
          "color": "#FECB52",
          "dash": "solid"
         },
         "marker": {
          "symbol": "circle"
         },
         "mode": "lines",
         "name": "3C1ai",
         "showlegend": true,
         "type": "scattergl",
         "x": [
          1990,
          1991,
          1992,
          1993,
          1994,
          1995,
          1996,
          1997,
          1998,
          1999,
          2000,
          2001,
          2002,
          2003,
          2004,
          2005,
          2006,
          2007,
          2008,
          2009,
          2010,
          2011,
          2012,
          2013,
          2014,
          2015,
          2016,
          1990,
          1991,
          1992,
          1993,
          1994,
          1995,
          1996,
          1997,
          1998,
          1999,
          2000,
          2001,
          2002,
          2003,
          2004,
          2005,
          2006,
          2007,
          2008,
          2009,
          2010,
          2011,
          2012,
          2013,
          2014,
          2015,
          2016
         ],
         "xaxis": "x",
         "y": [
          4.15,
          4.15,
          4.15,
          4.15,
          1.32,
          1.18,
          0.57,
          0.3,
          0.91,
          0.52,
          3.06,
          3.16,
          2.56,
          3.25,
          0.25,
          0.67,
          0.42,
          0.1,
          0.29,
          0.36,
          0.16,
          0.17,
          0.15,
          0.33,
          0.51,
          0.42,
          0.57,
          1.8,
          1.8,
          1.8,
          1.8,
          0.57,
          0.51,
          0.25,
          0.13,
          0.39,
          0.22,
          1.33,
          1.37,
          1.11,
          1.41,
          0.11,
          0.29,
          0.18,
          0.04,
          0.13,
          0.15,
          0.07,
          0.08,
          0.06,
          0.14,
          0.22,
          0.18,
          0.25
         ],
         "yaxis": "y"
        },
        {
         "hovertemplate": "<b>%{hovertext}</b><br><br>fuente_de_emision_y_absorcion_id=3C1aii<br>anio=%{x}<br>valor(MtCO2eq)=%{y}<extra></extra>",
         "hovertext": [
          "3C1aii",
          "3C1aii",
          "3C1aii",
          "3C1aii",
          "3C1aii",
          "3C1aii",
          "3C1aii",
          "3C1aii",
          "3C1aii",
          "3C1aii",
          "3C1aii",
          "3C1aii",
          "3C1aii",
          "3C1aii",
          "3C1aii",
          "3C1aii",
          "3C1aii",
          "3C1aii",
          "3C1aii",
          "3C1aii",
          "3C1aii",
          "3C1aii",
          "3C1aii",
          "3C1aii",
          "3C1aii",
          "3C1aii",
          "3C1aii",
          "3C1aii",
          "3C1aii",
          "3C1aii",
          "3C1aii",
          "3C1aii",
          "3C1aii",
          "3C1aii",
          "3C1aii",
          "3C1aii",
          "3C1aii",
          "3C1aii",
          "3C1aii",
          "3C1aii",
          "3C1aii",
          "3C1aii",
          "3C1aii",
          "3C1aii",
          "3C1aii",
          "3C1aii",
          "3C1aii",
          "3C1aii",
          "3C1aii",
          "3C1aii",
          "3C1aii",
          "3C1aii",
          "3C1aii",
          "3C1aii"
         ],
         "legendgroup": "3C1aii",
         "line": {
          "color": "#636efa",
          "dash": "solid"
         },
         "marker": {
          "symbol": "circle"
         },
         "mode": "lines",
         "name": "3C1aii",
         "showlegend": true,
         "type": "scattergl",
         "x": [
          1990,
          1991,
          1992,
          1993,
          1994,
          1995,
          1996,
          1997,
          1998,
          1999,
          2000,
          2001,
          2002,
          2003,
          2004,
          2005,
          2006,
          2007,
          2008,
          2009,
          2010,
          2011,
          2012,
          2013,
          2014,
          2015,
          2016,
          1990,
          1991,
          1992,
          1993,
          1994,
          1995,
          1996,
          1997,
          1998,
          1999,
          2000,
          2001,
          2002,
          2003,
          2004,
          2005,
          2006,
          2007,
          2008,
          2009,
          2010,
          2011,
          2012,
          2013,
          2014,
          2015,
          2016
         ],
         "xaxis": "x",
         "y": [
          0,
          0,
          0,
          0,
          0,
          0.02,
          0.03,
          0.02,
          0.01,
          0.06,
          0.03,
          0.07,
          0.05,
          0.05,
          0.04,
          0.06,
          0.06,
          0.01,
          0.07,
          0.05,
          0.01,
          0.01,
          0.05,
          0.05,
          0.01,
          0.01,
          0.01,
          0,
          0,
          0,
          0,
          0,
          0.01,
          0.01,
          0.01,
          0.01,
          0.03,
          0.01,
          0.03,
          0.02,
          0.02,
          0.02,
          0.03,
          0.03,
          0.01,
          0.03,
          0.02,
          0,
          0.01,
          0.02,
          0.02,
          0,
          0,
          0
         ],
         "yaxis": "y"
        },
        {
         "hovertemplate": "<b>%{hovertext}</b><br><br>fuente_de_emision_y_absorcion_id=3C1bi<br>anio=%{x}<br>valor(MtCO2eq)=%{y}<extra></extra>",
         "hovertext": [
          "3C1bi",
          "3C1bi",
          "3C1bi",
          "3C1bi",
          "3C1bi",
          "3C1bi",
          "3C1bi",
          "3C1bi",
          "3C1bi",
          "3C1bi",
          "3C1bi",
          "3C1bi",
          "3C1bi",
          "3C1bi",
          "3C1bi",
          "3C1bi",
          "3C1bi",
          "3C1bi",
          "3C1bi",
          "3C1bi",
          "3C1bi",
          "3C1bi",
          "3C1bi",
          "3C1bi",
          "3C1bi",
          "3C1bi",
          "3C1bi",
          "3C1bi",
          "3C1bi",
          "3C1bi",
          "3C1bi",
          "3C1bi",
          "3C1bi",
          "3C1bi",
          "3C1bi",
          "3C1bi",
          "3C1bi",
          "3C1bi",
          "3C1bi",
          "3C1bi",
          "3C1bi",
          "3C1bi",
          "3C1bi",
          "3C1bi",
          "3C1bi",
          "3C1bi",
          "3C1bi",
          "3C1bi",
          "3C1bi",
          "3C1bi",
          "3C1bi",
          "3C1bi"
         ],
         "legendgroup": "3C1bi",
         "line": {
          "color": "#EF553B",
          "dash": "solid"
         },
         "marker": {
          "symbol": "circle"
         },
         "mode": "lines",
         "name": "3C1bi",
         "showlegend": true,
         "type": "scattergl",
         "x": [
          1990,
          1991,
          1992,
          1993,
          1994,
          1995,
          1996,
          1997,
          1998,
          1999,
          2000,
          2001,
          2002,
          2003,
          2004,
          2005,
          2006,
          2007,
          2008,
          2009,
          2010,
          2011,
          2012,
          2013,
          2014,
          2015,
          1990,
          1991,
          1992,
          1993,
          1994,
          1995,
          1996,
          1997,
          1998,
          1999,
          2000,
          2001,
          2002,
          2003,
          2004,
          2005,
          2006,
          2007,
          2008,
          2009,
          2010,
          2011,
          2012,
          2013,
          2014,
          2015
         ],
         "xaxis": "x",
         "y": [
          0.13,
          0.14,
          0.11,
          0.08,
          0.08,
          0.09,
          0.09,
          0.08,
          0.09,
          0.09,
          0.08,
          0.08,
          0.08,
          0.07,
          0.07,
          0.07,
          0.07,
          0.07,
          0.06,
          0.06,
          0.07,
          0.07,
          0.08,
          0.05,
          0.02,
          0.01,
          0.05,
          0.05,
          0.04,
          0.03,
          0.03,
          0.03,
          0.04,
          0.03,
          0.03,
          0.03,
          0.03,
          0.03,
          0.03,
          0.03,
          0.03,
          0.03,
          0.03,
          0.03,
          0.02,
          0.02,
          0.03,
          0.03,
          0.03,
          0.02,
          0.01,
          0
         ],
         "yaxis": "y"
        },
        {
         "hovertemplate": "<b>%{hovertext}</b><br><br>fuente_de_emision_y_absorcion_id=3C1bii<br>anio=%{x}<br>valor(MtCO2eq)=%{y}<extra></extra>",
         "hovertext": [
          "3C1bii",
          "3C1bii",
          "3C1bii",
          "3C1bii",
          "3C1bii",
          "3C1bii",
          "3C1bii",
          "3C1bii",
          "3C1bii",
          "3C1bii",
          "3C1bii",
          "3C1bii",
          "3C1bii",
          "3C1bii",
          "3C1bii",
          "3C1bii",
          "3C1bii",
          "3C1bii",
          "3C1bii",
          "3C1bii",
          "3C1bii",
          "3C1bii",
          "3C1bii",
          "3C1bii",
          "3C1bii",
          "3C1bii",
          "3C1bii",
          "3C1bii",
          "3C1bii",
          "3C1bii",
          "3C1bii",
          "3C1bii",
          "3C1bii",
          "3C1bii",
          "3C1bii",
          "3C1bii",
          "3C1bii",
          "3C1bii",
          "3C1bii",
          "3C1bii",
          "3C1bii",
          "3C1bii",
          "3C1bii",
          "3C1bii",
          "3C1bii",
          "3C1bii",
          "3C1bii",
          "3C1bii",
          "3C1bii",
          "3C1bii",
          "3C1bii",
          "3C1bii",
          "3C1bii",
          "3C1bii"
         ],
         "legendgroup": "3C1bii",
         "line": {
          "color": "#00cc96",
          "dash": "solid"
         },
         "marker": {
          "symbol": "circle"
         },
         "mode": "lines",
         "name": "3C1bii",
         "showlegend": true,
         "type": "scattergl",
         "x": [
          1990,
          1991,
          1992,
          1993,
          1994,
          1995,
          1996,
          1997,
          1998,
          1999,
          2000,
          2001,
          2002,
          2003,
          2004,
          2005,
          2006,
          2007,
          2008,
          2009,
          2010,
          2011,
          2012,
          2013,
          2014,
          2015,
          2016,
          1990,
          1991,
          1992,
          1993,
          1994,
          1995,
          1996,
          1997,
          1998,
          1999,
          2000,
          2001,
          2002,
          2003,
          2004,
          2005,
          2006,
          2007,
          2008,
          2009,
          2010,
          2011,
          2012,
          2013,
          2014,
          2015,
          2016
         ],
         "xaxis": "x",
         "y": [
          0.86,
          0.68,
          1,
          0.67,
          1.33,
          1.02,
          0.95,
          1.63,
          1.01,
          1.19,
          0.6,
          1.25,
          1.23,
          1.18,
          1.43,
          0.78,
          1.06,
          1.83,
          0.39,
          0.39,
          1.15,
          1.29,
          1.17,
          0.92,
          0.21,
          0.51,
          0.61,
          0.37,
          0.29,
          0.43,
          0.29,
          0.58,
          0.44,
          0.41,
          0.71,
          0.44,
          0.52,
          0.26,
          0.54,
          0.53,
          0.51,
          0.62,
          0.34,
          0.46,
          0.79,
          0.17,
          0.17,
          0.5,
          0.56,
          0.51,
          0.4,
          0.09,
          0.22,
          0.26
         ],
         "yaxis": "y"
        },
        {
         "hovertemplate": "<b>%{hovertext}</b><br><br>fuente_de_emision_y_absorcion_id=3C1ci<br>anio=%{x}<br>valor(MtCO2eq)=%{y}<extra></extra>",
         "hovertext": [
          "3C1ci",
          "3C1ci",
          "3C1ci",
          "3C1ci",
          "3C1ci",
          "3C1ci",
          "3C1ci",
          "3C1ci",
          "3C1ci",
          "3C1ci",
          "3C1ci",
          "3C1ci",
          "3C1ci",
          "3C1ci",
          "3C1ci",
          "3C1ci",
          "3C1ci",
          "3C1ci",
          "3C1ci",
          "3C1ci",
          "3C1ci",
          "3C1ci",
          "3C1ci",
          "3C1ci",
          "3C1ci",
          "3C1ci",
          "3C1ci",
          "3C1ci",
          "3C1ci",
          "3C1ci",
          "3C1ci",
          "3C1ci",
          "3C1ci",
          "3C1ci",
          "3C1ci",
          "3C1ci",
          "3C1ci",
          "3C1ci",
          "3C1ci",
          "3C1ci",
          "3C1ci",
          "3C1ci",
          "3C1ci",
          "3C1ci",
          "3C1ci",
          "3C1ci",
          "3C1ci",
          "3C1ci",
          "3C1ci",
          "3C1ci",
          "3C1ci",
          "3C1ci",
          "3C1ci",
          "3C1ci"
         ],
         "legendgroup": "3C1ci",
         "line": {
          "color": "#ab63fa",
          "dash": "solid"
         },
         "marker": {
          "symbol": "circle"
         },
         "mode": "lines",
         "name": "3C1ci",
         "showlegend": true,
         "type": "scattergl",
         "x": [
          1990,
          1991,
          1992,
          1993,
          1994,
          1995,
          1996,
          1997,
          1998,
          1999,
          2000,
          2001,
          2002,
          2003,
          2004,
          2005,
          2006,
          2007,
          2008,
          2009,
          2010,
          2011,
          2012,
          2013,
          2014,
          2015,
          2016,
          1990,
          1991,
          1992,
          1993,
          1994,
          1995,
          1996,
          1997,
          1998,
          1999,
          2000,
          2001,
          2002,
          2003,
          2004,
          2005,
          2006,
          2007,
          2008,
          2009,
          2010,
          2011,
          2012,
          2013,
          2014,
          2015,
          2016
         ],
         "xaxis": "x",
         "y": [
          0.07,
          0.07,
          0.07,
          0.07,
          0.08,
          0.06,
          0.05,
          0.04,
          0.41,
          0.21,
          1.74,
          3.56,
          1.29,
          1.23,
          0.24,
          0.37,
          0.24,
          0.1,
          0.2,
          0.49,
          0.04,
          0.06,
          0.05,
          0.11,
          0.34,
          0.21,
          0.41,
          0.1,
          0.1,
          0.1,
          0.1,
          0.1,
          0.08,
          0.07,
          0.06,
          0.55,
          0.28,
          2.34,
          4.79,
          1.74,
          1.66,
          0.32,
          0.5,
          0.32,
          0.13,
          0.27,
          0.66,
          0.06,
          0.08,
          0.06,
          0.15,
          0.45,
          0.29,
          0.56
         ],
         "yaxis": "y"
        },
        {
         "hovertemplate": "<b>%{hovertext}</b><br><br>fuente_de_emision_y_absorcion_id=3C1Cii<br>anio=%{x}<br>valor(MtCO2eq)=%{y}<extra></extra>",
         "hovertext": [
          "3C1Cii",
          "3C1Cii",
          "3C1Cii",
          "3C1Cii",
          "3C1Cii",
          "3C1Cii",
          "3C1Cii",
          "3C1Cii",
          "3C1Cii",
          "3C1Cii",
          "3C1Cii",
          "3C1Cii",
          "3C1Cii",
          "3C1Cii",
          "3C1Cii",
          "3C1Cii",
          "3C1Cii",
          "3C1Cii",
          "3C1Cii",
          "3C1Cii",
          "3C1Cii",
          "3C1Cii",
          "3C1Cii",
          "3C1Cii",
          "3C1Cii",
          "3C1Cii",
          "3C1Cii",
          "3C1Cii",
          "3C1Cii",
          "3C1Cii",
          "3C1Cii",
          "3C1Cii",
          "3C1Cii",
          "3C1Cii",
          "3C1Cii",
          "3C1Cii",
          "3C1Cii",
          "3C1Cii",
          "3C1Cii",
          "3C1Cii",
          "3C1Cii",
          "3C1Cii",
          "3C1Cii",
          "3C1Cii",
          "3C1Cii",
          "3C1Cii",
          "3C1Cii",
          "3C1Cii",
          "3C1Cii",
          "3C1Cii",
          "3C1Cii",
          "3C1Cii",
          "3C1Cii",
          "3C1Cii"
         ],
         "legendgroup": "3C1Cii",
         "line": {
          "color": "#FFA15A",
          "dash": "solid"
         },
         "marker": {
          "symbol": "circle"
         },
         "mode": "lines",
         "name": "3C1Cii",
         "showlegend": true,
         "type": "scattergl",
         "x": [
          1990,
          1991,
          1992,
          1993,
          1994,
          1995,
          1996,
          1997,
          1998,
          1999,
          2000,
          2001,
          2002,
          2003,
          2004,
          2005,
          2006,
          2007,
          2008,
          2009,
          2010,
          2011,
          2012,
          2013,
          2014,
          2015,
          2016,
          1990,
          1991,
          1992,
          1993,
          1994,
          1995,
          1996,
          1997,
          1998,
          1999,
          2000,
          2001,
          2002,
          2003,
          2004,
          2005,
          2006,
          2007,
          2008,
          2009,
          2010,
          2011,
          2012,
          2013,
          2014,
          2015,
          2016
         ],
         "xaxis": "x",
         "y": [
          1.1,
          1.33,
          1.06,
          1.44,
          0.82,
          1.37,
          1.69,
          1.24,
          1.55,
          1.38,
          1.97,
          1.31,
          1.89,
          1.94,
          1.69,
          2.34,
          2.42,
          2.02,
          2.77,
          1.79,
          0.96,
          0.59,
          1.65,
          1.84,
          1.41,
          0.7,
          0.51,
          0.48,
          0.58,
          0.46,
          0.62,
          0.36,
          0.6,
          0.73,
          0.54,
          0.67,
          0.6,
          0.85,
          0.57,
          0.82,
          0.84,
          0.73,
          1.02,
          1.05,
          0.88,
          1.2,
          0.78,
          0.41,
          0.26,
          0.72,
          0.8,
          0.61,
          0.3,
          0.22
         ],
         "yaxis": "y"
        },
        {
         "hovertemplate": "<b>%{hovertext}</b><br><br>fuente_de_emision_y_absorcion_id=3C7<br>anio=%{x}<br>valor(MtCO2eq)=%{y}<extra></extra>",
         "hovertext": [
          "3C7",
          "3C7",
          "3C7",
          "3C7",
          "3C7",
          "3C7",
          "3C7",
          "3C7",
          "3C7",
          "3C7",
          "3C7",
          "3C7",
          "3C7",
          "3C7",
          "3C7",
          "3C7",
          "3C7",
          "3C7",
          "3C7",
          "3C7",
          "3C7",
          "3C7",
          "3C7",
          "3C7",
          "3C7",
          "3C7",
          "3C7"
         ],
         "legendgroup": "3C7",
         "line": {
          "color": "#19d3f3",
          "dash": "solid"
         },
         "marker": {
          "symbol": "circle"
         },
         "mode": "lines",
         "name": "3C7",
         "showlegend": true,
         "type": "scattergl",
         "x": [
          1990,
          1991,
          1992,
          1993,
          1994,
          1995,
          1996,
          1997,
          1998,
          1999,
          2000,
          2001,
          2002,
          2003,
          2004,
          2005,
          2006,
          2007,
          2008,
          2009,
          2010,
          2011,
          2012,
          2013,
          2014,
          2015,
          2016
         ],
         "xaxis": "x",
         "y": [
          0.22,
          0.16,
          0.25,
          0.26,
          0.26,
          0.34,
          0.36,
          0.42,
          0.39,
          0.54,
          0.35,
          0.28,
          0.23,
          0.25,
          0.31,
          0.3,
          0.31,
          0.31,
          0.34,
          0.37,
          0.4,
          0.48,
          0.44,
          0.43,
          0.45,
          0.43,
          0.39
         ],
         "yaxis": "y"
        },
        {
         "hovertemplate": "<b>%{hovertext}</b><br><br>fuente_de_emision_y_absorcion_id=3C4a<br>anio=%{x}<br>valor(MtCO2eq)=%{y}<extra></extra>",
         "hovertext": [
          "3C4a",
          "3C4a",
          "3C4a",
          "3C4a",
          "3C4a",
          "3C4a",
          "3C4a",
          "3C4a",
          "3C4a",
          "3C4a",
          "3C4a",
          "3C4a",
          "3C4a",
          "3C4a",
          "3C4a",
          "3C4a",
          "3C4a",
          "3C4a",
          "3C4a",
          "3C4a",
          "3C4a",
          "3C4a",
          "3C4a",
          "3C4a",
          "3C4a",
          "3C4a",
          "3C4a"
         ],
         "legendgroup": "3C4a",
         "line": {
          "color": "#FF6692",
          "dash": "solid"
         },
         "marker": {
          "symbol": "circle"
         },
         "mode": "lines",
         "name": "3C4a",
         "showlegend": true,
         "type": "scattergl",
         "x": [
          1990,
          1991,
          1992,
          1993,
          1994,
          1995,
          1996,
          1997,
          1998,
          1999,
          2000,
          2001,
          2002,
          2003,
          2004,
          2005,
          2006,
          2007,
          2008,
          2009,
          2010,
          2011,
          2012,
          2013,
          2014,
          2015,
          2016
         ],
         "xaxis": "x",
         "y": [
          0.57,
          0.57,
          0.57,
          0.57,
          0.88,
          0.99,
          1.69,
          0.5,
          1.62,
          2.18,
          2.19,
          2.35,
          2.17,
          2.86,
          3.33,
          2.89,
          3.66,
          3.35,
          3.05,
          2.95,
          3.81,
          4.24,
          3.56,
          3.81,
          3.83,
          2.93,
          4.42
         ],
         "yaxis": "y"
        },
        {
         "hovertemplate": "<b>%{hovertext}</b><br><br>fuente_de_emision_y_absorcion_id=3C4b<br>anio=%{x}<br>valor(MtCO2eq)=%{y}<extra></extra>",
         "hovertext": [
          "3C4b",
          "3C4b",
          "3C4b",
          "3C4b",
          "3C4b",
          "3C4b",
          "3C4b",
          "3C4b",
          "3C4b",
          "3C4b",
          "3C4b",
          "3C4b",
          "3C4b",
          "3C4b",
          "3C4b",
          "3C4b",
          "3C4b",
          "3C4b",
          "3C4b",
          "3C4b",
          "3C4b",
          "3C4b",
          "3C4b",
          "3C4b",
          "3C4b",
          "3C4b",
          "3C4b"
         ],
         "legendgroup": "3C4b",
         "line": {
          "color": "#B6E880",
          "dash": "solid"
         },
         "marker": {
          "symbol": "circle"
         },
         "mode": "lines",
         "name": "3C4b",
         "showlegend": true,
         "type": "scattergl",
         "x": [
          1990,
          1991,
          1992,
          1993,
          1994,
          1995,
          1996,
          1997,
          1998,
          1999,
          2000,
          2001,
          2002,
          2003,
          2004,
          2005,
          2006,
          2007,
          2008,
          2009,
          2010,
          2011,
          2012,
          2013,
          2014,
          2015,
          2016
         ],
         "xaxis": "x",
         "y": [
          2.07,
          2.08,
          2.15,
          2.2,
          2.29,
          2.28,
          2.29,
          2.29,
          2.31,
          2.4,
          2.38,
          2.33,
          2.23,
          2.16,
          2.23,
          2.24,
          2.27,
          2.19,
          2.2,
          2.24,
          2.22,
          2.26,
          2.31,
          2.31,
          2.3,
          2.32,
          2.21
         ],
         "yaxis": "y"
        },
        {
         "hovertemplate": "<b>%{hovertext}</b><br><br>fuente_de_emision_y_absorcion_id=3C4c<br>anio=%{x}<br>valor(MtCO2eq)=%{y}<extra></extra>",
         "hovertext": [
          "3C4c",
          "3C4c",
          "3C4c",
          "3C4c",
          "3C4c",
          "3C4c",
          "3C4c",
          "3C4c",
          "3C4c",
          "3C4c",
          "3C4c",
          "3C4c",
          "3C4c",
          "3C4c",
          "3C4c",
          "3C4c",
          "3C4c",
          "3C4c",
          "3C4c",
          "3C4c",
          "3C4c",
          "3C4c",
          "3C4c",
          "3C4c",
          "3C4c",
          "3C4c",
          "3C4c"
         ],
         "legendgroup": "3C4c",
         "line": {
          "color": "#FF97FF",
          "dash": "solid"
         },
         "marker": {
          "symbol": "circle"
         },
         "mode": "lines",
         "name": "3C4c",
         "showlegend": true,
         "type": "scattergl",
         "x": [
          1990,
          1991,
          1992,
          1993,
          1994,
          1995,
          1996,
          1997,
          1998,
          1999,
          2000,
          2001,
          2002,
          2003,
          2004,
          2005,
          2006,
          2007,
          2008,
          2009,
          2010,
          2011,
          2012,
          2013,
          2014,
          2015,
          2016
         ],
         "xaxis": "x",
         "y": [
          18.03,
          18.36,
          18.66,
          19.1,
          19.13,
          18.81,
          18.01,
          17.69,
          16.69,
          17.4,
          17.13,
          16.76,
          17.29,
          17.53,
          17.42,
          17.13,
          16.89,
          16.53,
          14.11,
          13.19,
          12.07,
          11.84,
          12.22,
          12.45,
          12.56,
          12.68,
          12.81
         ],
         "yaxis": "y"
        },
        {
         "hovertemplate": "<b>%{hovertext}</b><br><br>fuente_de_emision_y_absorcion_id=3C4di<br>anio=%{x}<br>valor(MtCO2eq)=%{y}<extra></extra>",
         "hovertext": [
          "3C4di",
          "3C4di",
          "3C4di",
          "3C4di",
          "3C4di",
          "3C4di",
          "3C4di",
          "3C4di",
          "3C4di",
          "3C4di",
          "3C4di",
          "3C4di",
          "3C4di",
          "3C4di",
          "3C4di",
          "3C4di",
          "3C4di",
          "3C4di",
          "3C4di",
          "3C4di",
          "3C4di",
          "3C4di",
          "3C4di",
          "3C4di",
          "3C4di",
          "3C4di",
          "3C4di"
         ],
         "legendgroup": "3C4di",
         "line": {
          "color": "#FECB52",
          "dash": "solid"
         },
         "marker": {
          "symbol": "circle"
         },
         "mode": "lines",
         "name": "3C4di",
         "showlegend": true,
         "type": "scattergl",
         "x": [
          1990,
          1991,
          1992,
          1993,
          1994,
          1995,
          1996,
          1997,
          1998,
          1999,
          2000,
          2001,
          2002,
          2003,
          2004,
          2005,
          2006,
          2007,
          2008,
          2009,
          2010,
          2011,
          2012,
          2013,
          2014,
          2015,
          2016
         ],
         "xaxis": "x",
         "y": [
          0,
          0,
          0,
          0,
          0,
          0,
          0,
          0,
          0,
          0,
          0.01,
          0.01,
          0.01,
          0.01,
          0.01,
          0.01,
          0.01,
          0.01,
          0.02,
          0.02,
          0.02,
          0.03,
          0.04,
          0.04,
          0.04,
          0.05,
          0.05
         ],
         "yaxis": "y"
        },
        {
         "hovertemplate": "<b>%{hovertext}</b><br><br>fuente_de_emision_y_absorcion_id=3C4dii<br>anio=%{x}<br>valor(MtCO2eq)=%{y}<extra></extra>",
         "hovertext": [
          "3C4dii",
          "3C4dii",
          "3C4dii",
          "3C4dii",
          "3C4dii",
          "3C4dii",
          "3C4dii",
          "3C4dii",
          "3C4dii",
          "3C4dii",
          "3C4dii",
          "3C4dii",
          "3C4dii",
          "3C4dii",
          "3C4dii",
          "3C4dii",
          "3C4dii",
          "3C4dii",
          "3C4dii",
          "3C4dii",
          "3C4dii",
          "3C4dii",
          "3C4dii",
          "3C4dii",
          "3C4dii",
          "3C4dii",
          "3C4dii"
         ],
         "legendgroup": "3C4dii",
         "line": {
          "color": "#636efa",
          "dash": "solid"
         },
         "marker": {
          "symbol": "circle"
         },
         "mode": "lines",
         "name": "3C4dii",
         "showlegend": true,
         "type": "scattergl",
         "x": [
          1990,
          1991,
          1992,
          1993,
          1994,
          1995,
          1996,
          1997,
          1998,
          1999,
          2000,
          2001,
          2002,
          2003,
          2004,
          2005,
          2006,
          2007,
          2008,
          2009,
          2010,
          2011,
          2012,
          2013,
          2014,
          2015,
          2016
         ],
         "xaxis": "x",
         "y": [
          1.16,
          1.13,
          1.1,
          1.07,
          0.98,
          0.89,
          0.83,
          0.77,
          0.78,
          0.8,
          0.79,
          0.76,
          0.73,
          0.81,
          0.88,
          0.9,
          0.92,
          0.94,
          0.93,
          0.89,
          0.88,
          0.86,
          0.86,
          0.85,
          0.85,
          0.87,
          0.87
         ],
         "yaxis": "y"
        },
        {
         "hovertemplate": "<b>%{hovertext}</b><br><br>fuente_de_emision_y_absorcion_id=3C4diii<br>anio=%{x}<br>valor(MtCO2eq)=%{y}<extra></extra>",
         "hovertext": [
          "3C4diii",
          "3C4diii",
          "3C4diii",
          "3C4diii",
          "3C4diii",
          "3C4diii",
          "3C4diii",
          "3C4diii",
          "3C4diii",
          "3C4diii",
          "3C4diii",
          "3C4diii",
          "3C4diii",
          "3C4diii",
          "3C4diii",
          "3C4diii",
          "3C4diii",
          "3C4diii",
          "3C4diii",
          "3C4diii",
          "3C4diii",
          "3C4diii",
          "3C4diii",
          "3C4diii",
          "3C4diii",
          "3C4diii",
          "3C4diii"
         ],
         "legendgroup": "3C4diii",
         "line": {
          "color": "#EF553B",
          "dash": "solid"
         },
         "marker": {
          "symbol": "circle"
         },
         "mode": "lines",
         "name": "3C4diii",
         "showlegend": true,
         "type": "scattergl",
         "x": [
          1990,
          1991,
          1992,
          1993,
          1994,
          1995,
          1996,
          1997,
          1998,
          1999,
          2000,
          2001,
          2002,
          2003,
          2004,
          2005,
          2006,
          2007,
          2008,
          2009,
          2010,
          2011,
          2012,
          2013,
          2014,
          2015,
          2016
         ],
         "xaxis": "x",
         "y": [
          0.28,
          0.28,
          0.29,
          0.29,
          0.29,
          0.26,
          0.25,
          0.25,
          0.25,
          0.25,
          0.26,
          0.28,
          0.3,
          0.29,
          0.29,
          0.29,
          0.29,
          0.28,
          0.28,
          0.3,
          0.3,
          0.31,
          0.31,
          0.31,
          0.32,
          0.34,
          0.34
         ],
         "yaxis": "y"
        },
        {
         "hovertemplate": "<b>%{hovertext}</b><br><br>fuente_de_emision_y_absorcion_id=3C4div<br>anio=%{x}<br>valor(MtCO2eq)=%{y}<extra></extra>",
         "hovertext": [
          "3C4div",
          "3C4div",
          "3C4div",
          "3C4div",
          "3C4div",
          "3C4div",
          "3C4div",
          "3C4div",
          "3C4div",
          "3C4div",
          "3C4div",
          "3C4div",
          "3C4div",
          "3C4div",
          "3C4div",
          "3C4div",
          "3C4div",
          "3C4div",
          "3C4div",
          "3C4div",
          "3C4div",
          "3C4div",
          "3C4div",
          "3C4div",
          "3C4div",
          "3C4div",
          "3C4div"
         ],
         "legendgroup": "3C4div",
         "line": {
          "color": "#00cc96",
          "dash": "solid"
         },
         "marker": {
          "symbol": "circle"
         },
         "mode": "lines",
         "name": "3C4div",
         "showlegend": true,
         "type": "scattergl",
         "x": [
          1990,
          1991,
          1992,
          1993,
          1994,
          1995,
          1996,
          1997,
          1998,
          1999,
          2000,
          2001,
          2002,
          2003,
          2004,
          2005,
          2006,
          2007,
          2008,
          2009,
          2010,
          2011,
          2012,
          2013,
          2014,
          2015,
          2016
         ],
         "xaxis": "x",
         "y": [
          0.01,
          0.01,
          0.01,
          0.01,
          0.01,
          0.01,
          0.01,
          0.01,
          0.01,
          0.01,
          0.01,
          0.01,
          0.01,
          0.01,
          0.01,
          0.01,
          0.01,
          0.01,
          0.01,
          0.01,
          0.01,
          0.01,
          0.01,
          0.01,
          0.01,
          0.01,
          0.01
         ],
         "yaxis": "y"
        },
        {
         "hovertemplate": "<b>%{hovertext}</b><br><br>fuente_de_emision_y_absorcion_id=3C4dv<br>anio=%{x}<br>valor(MtCO2eq)=%{y}<extra></extra>",
         "hovertext": [
          "3C4dv",
          "3C4dv",
          "3C4dv",
          "3C4dv",
          "3C4dv",
          "3C4dv",
          "3C4dv",
          "3C4dv",
          "3C4dv",
          "3C4dv",
          "3C4dv",
          "3C4dv",
          "3C4dv",
          "3C4dv",
          "3C4dv",
          "3C4dv",
          "3C4dv",
          "3C4dv",
          "3C4dv",
          "3C4dv",
          "3C4dv",
          "3C4dv",
          "3C4dv",
          "3C4dv",
          "3C4dv",
          "3C4dv",
          "3C4dv"
         ],
         "legendgroup": "3C4dv",
         "line": {
          "color": "#ab63fa",
          "dash": "solid"
         },
         "marker": {
          "symbol": "circle"
         },
         "mode": "lines",
         "name": "3C4dv",
         "showlegend": true,
         "type": "scattergl",
         "x": [
          1990,
          1991,
          1992,
          1993,
          1994,
          1995,
          1996,
          1997,
          1998,
          1999,
          2000,
          2001,
          2002,
          2003,
          2004,
          2005,
          2006,
          2007,
          2008,
          2009,
          2010,
          2011,
          2012,
          2013,
          2014,
          2015,
          2016
         ],
         "xaxis": "x",
         "y": [
          0.39,
          0.39,
          0.39,
          0.39,
          0.39,
          0.39,
          0.39,
          0.39,
          0.39,
          0.39,
          0.39,
          0.39,
          0.39,
          0.39,
          0.39,
          0.39,
          0.39,
          0.39,
          0.37,
          0.38,
          0.37,
          0.38,
          0.41,
          0.44,
          0.45,
          0.48,
          0.48
         ],
         "yaxis": "y"
        },
        {
         "hovertemplate": "<b>%{hovertext}</b><br><br>fuente_de_emision_y_absorcion_id=3C4dvi<br>anio=%{x}<br>valor(MtCO2eq)=%{y}<extra></extra>",
         "hovertext": [
          "3C4dvi",
          "3C4dvi",
          "3C4dvi",
          "3C4dvi",
          "3C4dvi",
          "3C4dvi",
          "3C4dvi",
          "3C4dvi",
          "3C4dvi",
          "3C4dvi",
          "3C4dvi",
          "3C4dvi",
          "3C4dvi",
          "3C4dvi",
          "3C4dvi",
          "3C4dvi",
          "3C4dvi",
          "3C4dvi",
          "3C4dvi",
          "3C4dvi",
          "3C4dvi",
          "3C4dvi",
          "3C4dvi",
          "3C4dvi",
          "3C4dvi",
          "3C4dvi",
          "3C4dvi"
         ],
         "legendgroup": "3C4dvi",
         "line": {
          "color": "#FFA15A",
          "dash": "solid"
         },
         "marker": {
          "symbol": "circle"
         },
         "mode": "lines",
         "name": "3C4dvi",
         "showlegend": true,
         "type": "scattergl",
         "x": [
          1990,
          1991,
          1992,
          1993,
          1994,
          1995,
          1996,
          1997,
          1998,
          1999,
          2000,
          2001,
          2002,
          2003,
          2004,
          2005,
          2006,
          2007,
          2008,
          2009,
          2010,
          2011,
          2012,
          2013,
          2014,
          2015,
          2016
         ],
         "xaxis": "x",
         "y": [
          0.01,
          0.01,
          0.01,
          0.01,
          0.01,
          0.01,
          0.01,
          0.01,
          0.01,
          0.01,
          0.01,
          0.01,
          0.01,
          0.01,
          0.01,
          0,
          0,
          0,
          0,
          0,
          0,
          0,
          0,
          0.01,
          0.01,
          0.01,
          0.01
         ],
         "yaxis": "y"
        },
        {
         "hovertemplate": "<b>%{hovertext}</b><br><br>fuente_de_emision_y_absorcion_id=3C4dvii<br>anio=%{x}<br>valor(MtCO2eq)=%{y}<extra></extra>",
         "hovertext": [
          "3C4dvii",
          "3C4dvii",
          "3C4dvii",
          "3C4dvii",
          "3C4dvii",
          "3C4dvii",
          "3C4dvii",
          "3C4dvii",
          "3C4dvii",
          "3C4dvii",
          "3C4dvii",
          "3C4dvii",
          "3C4dvii",
          "3C4dvii",
          "3C4dvii",
          "3C4dvii",
          "3C4dvii",
          "3C4dvii",
          "3C4dvii",
          "3C4dvii",
          "3C4dvii",
          "3C4dvii",
          "3C4dvii",
          "3C4dvii",
          "3C4dvii",
          "3C4dvii",
          "3C4dvii"
         ],
         "legendgroup": "3C4dvii",
         "line": {
          "color": "#19d3f3",
          "dash": "solid"
         },
         "marker": {
          "symbol": "circle"
         },
         "mode": "lines",
         "name": "3C4dvii",
         "showlegend": true,
         "type": "scattergl",
         "x": [
          1990,
          1991,
          1992,
          1993,
          1994,
          1995,
          1996,
          1997,
          1998,
          1999,
          2000,
          2001,
          2002,
          2003,
          2004,
          2005,
          2006,
          2007,
          2008,
          2009,
          2010,
          2011,
          2012,
          2013,
          2014,
          2015,
          2016
         ],
         "xaxis": "x",
         "y": [
          0.17,
          0.17,
          0.17,
          0.17,
          0.17,
          0.17,
          0.17,
          0.17,
          0.17,
          0.17,
          0.16,
          0.16,
          0.16,
          0.16,
          0.16,
          0.16,
          0.16,
          0.16,
          0.16,
          0.16,
          0.16,
          0.17,
          0.18,
          0.22,
          0.24,
          0.25,
          0.26
         ],
         "yaxis": "y"
        },
        {
         "hovertemplate": "<b>%{hovertext}</b><br><br>fuente_de_emision_y_absorcion_id=3C4e<br>anio=%{x}<br>valor(MtCO2eq)=%{y}<extra></extra>",
         "hovertext": [
          "3C4e",
          "3C4e",
          "3C4e",
          "3C4e",
          "3C4e",
          "3C4e",
          "3C4e",
          "3C4e",
          "3C4e",
          "3C4e",
          "3C4e",
          "3C4e",
          "3C4e",
          "3C4e",
          "3C4e",
          "3C4e",
          "3C4e",
          "3C4e",
          "3C4e",
          "3C4e",
          "3C4e",
          "3C4e",
          "3C4e",
          "3C4e",
          "3C4e",
          "3C4e",
          "3C4e"
         ],
         "legendgroup": "3C4e",
         "line": {
          "color": "#FF6692",
          "dash": "solid"
         },
         "marker": {
          "symbol": "circle"
         },
         "mode": "lines",
         "name": "3C4e",
         "showlegend": true,
         "type": "scattergl",
         "x": [
          1990,
          1991,
          1992,
          1993,
          1994,
          1995,
          1996,
          1997,
          1998,
          1999,
          2000,
          2001,
          2002,
          2003,
          2004,
          2005,
          2006,
          2007,
          2008,
          2009,
          2010,
          2011,
          2012,
          2013,
          2014,
          2015,
          2016
         ],
         "xaxis": "x",
         "y": [
          8.68,
          8.21,
          7.71,
          7.25,
          7.32,
          7.11,
          6.62,
          6.11,
          6.73,
          6.18,
          6.27,
          6.45,
          6.45,
          6.58,
          6.68,
          7.59,
          7.53,
          8.25,
          8.38,
          6.87,
          8.25,
          8.77,
          8.14,
          8.9,
          9.81,
          10.36,
          10.5
         ],
         "yaxis": "y"
        },
        {
         "hovertemplate": "<b>%{hovertext}</b><br><br>fuente_de_emision_y_absorcion_id=3C4gi<br>anio=%{x}<br>valor(MtCO2eq)=%{y}<extra></extra>",
         "hovertext": [
          "3C4gi",
          "3C4gi",
          "3C4gi",
          "3C4gi",
          "3C4gi",
          "3C4gi",
          "3C4gi",
          "3C4gi",
          "3C4gi",
          "3C4gi",
          "3C4gi",
          "3C4gi",
          "3C4gi",
          "3C4gi",
          "3C4gi",
          "3C4gi",
          "3C4gi",
          "3C4gi",
          "3C4gi",
          "3C4gi",
          "3C4gi",
          "3C4gi",
          "3C4gi",
          "3C4gi",
          "3C4gi",
          "3C4gi",
          "3C4gi"
         ],
         "legendgroup": "3C4gi",
         "line": {
          "color": "#B6E880",
          "dash": "solid"
         },
         "marker": {
          "symbol": "circle"
         },
         "mode": "lines",
         "name": "3C4gi",
         "showlegend": true,
         "type": "scattergl",
         "x": [
          1990,
          1991,
          1992,
          1993,
          1994,
          1995,
          1996,
          1997,
          1998,
          1999,
          2000,
          2001,
          2002,
          2003,
          2004,
          2005,
          2006,
          2007,
          2008,
          2009,
          2010,
          2011,
          2012,
          2013,
          2014,
          2015,
          2016
         ],
         "xaxis": "x",
         "y": [
          0.02,
          0.02,
          0.02,
          0.02,
          0.02,
          0.02,
          0.02,
          0.02,
          0.02,
          0.02,
          0.02,
          0.02,
          0.02,
          0.02,
          0.02,
          0.02,
          0.02,
          0.02,
          0.02,
          0.02,
          0.02,
          0.02,
          0.02,
          0.02,
          0.02,
          0.02,
          0.02
         ],
         "yaxis": "y"
        },
        {
         "hovertemplate": "<b>%{hovertext}</b><br><br>fuente_de_emision_y_absorcion_id=3C4gii<br>anio=%{x}<br>valor(MtCO2eq)=%{y}<extra></extra>",
         "hovertext": [
          "3C4gii",
          "3C4gii",
          "3C4gii",
          "3C4gii",
          "3C4gii",
          "3C4gii",
          "3C4gii",
          "3C4gii",
          "3C4gii",
          "3C4gii",
          "3C4gii",
          "3C4gii",
          "3C4gii",
          "3C4gii",
          "3C4gii",
          "3C4gii",
          "3C4gii",
          "3C4gii",
          "3C4gii",
          "3C4gii",
          "3C4gii",
          "3C4gii",
          "3C4gii",
          "3C4gii",
          "3C4gii",
          "3C4gii",
          "3C4gii"
         ],
         "legendgroup": "3C4gii",
         "line": {
          "color": "#FF97FF",
          "dash": "solid"
         },
         "marker": {
          "symbol": "circle"
         },
         "mode": "lines",
         "name": "3C4gii",
         "showlegend": true,
         "type": "scattergl",
         "x": [
          1990,
          1991,
          1992,
          1993,
          1994,
          1995,
          1996,
          1997,
          1998,
          1999,
          2000,
          2001,
          2002,
          2003,
          2004,
          2005,
          2006,
          2007,
          2008,
          2009,
          2010,
          2011,
          2012,
          2013,
          2014,
          2015,
          2016
         ],
         "xaxis": "x",
         "y": [
          0.06,
          0.06,
          0.06,
          0.07,
          0.06,
          0.06,
          0.05,
          0.05,
          0.05,
          0.06,
          0.05,
          0.15,
          0.28,
          0.42,
          0.57,
          0.68,
          0.78,
          0.91,
          0.76,
          0.73,
          0.64,
          0.6,
          0.58,
          0.55,
          0.54,
          0.54,
          0.53
         ],
         "yaxis": "y"
        },
        {
         "hovertemplate": "<b>%{hovertext}</b><br><br>fuente_de_emision_y_absorcion_id=3C4n<br>anio=%{x}<br>valor(MtCO2eq)=%{y}<extra></extra>",
         "hovertext": [
          "3C4n",
          "3C4n",
          "3C4n",
          "3C4n",
          "3C4n",
          "3C4n",
          "3C4n",
          "3C4n",
          "3C4n",
          "3C4n",
          "3C4n",
          "3C4n",
          "3C4n",
          "3C4n",
          "3C4n",
          "3C4n",
          "3C4n",
          "3C4n",
          "3C4n",
          "3C4n",
          "3C4n",
          "3C4n",
          "3C4n",
          "3C4n",
          "3C4n",
          "3C4n",
          "3C4n"
         ],
         "legendgroup": "3C4n",
         "line": {
          "color": "#FECB52",
          "dash": "solid"
         },
         "marker": {
          "symbol": "circle"
         },
         "mode": "lines",
         "name": "3C4n",
         "showlegend": true,
         "type": "scattergl",
         "x": [
          1990,
          1991,
          1992,
          1993,
          1994,
          1995,
          1996,
          1997,
          1998,
          1999,
          2000,
          2001,
          2002,
          2003,
          2004,
          2005,
          2006,
          2007,
          2008,
          2009,
          2010,
          2011,
          2012,
          2013,
          2014,
          2015,
          2016
         ],
         "xaxis": "x",
         "y": [
          0.11,
          0.11,
          0.11,
          0.11,
          0.11,
          0.11,
          0.11,
          0.11,
          0.11,
          0.11,
          0.11,
          0.11,
          0.11,
          0.1,
          0.1,
          0.1,
          0.1,
          0.1,
          0.1,
          0.1,
          0.1,
          0.11,
          0.12,
          0.14,
          0.16,
          0.16,
          0.17
         ],
         "yaxis": "y"
        },
        {
         "hovertemplate": "<b>%{hovertext}</b><br><br>fuente_de_emision_y_absorcion_id=3C4o<br>anio=%{x}<br>valor(MtCO2eq)=%{y}<extra></extra>",
         "hovertext": [
          "3C4o",
          "3C4o",
          "3C4o",
          "3C4o",
          "3C4o",
          "3C4o",
          "3C4o",
          "3C4o",
          "3C4o",
          "3C4o",
          "3C4o",
          "3C4o",
          "3C4o",
          "3C4o",
          "3C4o",
          "3C4o",
          "3C4o",
          "3C4o",
          "3C4o",
          "3C4o",
          "3C4o",
          "3C4o",
          "3C4o",
          "3C4o",
          "3C4o",
          "3C4o",
          "3C4o"
         ],
         "legendgroup": "3C4o",
         "line": {
          "color": "#636efa",
          "dash": "solid"
         },
         "marker": {
          "symbol": "circle"
         },
         "mode": "lines",
         "name": "3C4o",
         "showlegend": true,
         "type": "scattergl",
         "x": [
          1990,
          1991,
          1992,
          1993,
          1994,
          1995,
          1996,
          1997,
          1998,
          1999,
          2000,
          2001,
          2002,
          2003,
          2004,
          2005,
          2006,
          2007,
          2008,
          2009,
          2010,
          2011,
          2012,
          2013,
          2014,
          2015,
          2016
         ],
         "xaxis": "x",
         "y": [
          0.03,
          0.03,
          0.03,
          0.03,
          0.03,
          0.04,
          0.04,
          0.05,
          0.05,
          0.06,
          0.07,
          0.07,
          0.08,
          0.08,
          0.09,
          0.1,
          0.11,
          0.12,
          0.13,
          0.13,
          0.14,
          0.15,
          0.15,
          0.15,
          0.16,
          0.16,
          0.16
         ],
         "yaxis": "y"
        },
        {
         "hovertemplate": "<b>%{hovertext}</b><br><br>fuente_de_emision_y_absorcion_id=3C5ai<br>anio=%{x}<br>valor(MtCO2eq)=%{y}<extra></extra>",
         "hovertext": [
          "3C5ai",
          "3C5ai",
          "3C5ai",
          "3C5ai",
          "3C5ai",
          "3C5ai",
          "3C5ai",
          "3C5ai",
          "3C5ai",
          "3C5ai",
          "3C5ai",
          "3C5ai",
          "3C5ai",
          "3C5ai",
          "3C5ai",
          "3C5ai",
          "3C5ai",
          "3C5ai",
          "3C5ai",
          "3C5ai",
          "3C5ai",
          "3C5ai",
          "3C5ai",
          "3C5ai",
          "3C5ai",
          "3C5ai",
          "3C5ai"
         ],
         "legendgroup": "3C5ai",
         "line": {
          "color": "#EF553B",
          "dash": "solid"
         },
         "marker": {
          "symbol": "circle"
         },
         "mode": "lines",
         "name": "3C5ai",
         "showlegend": true,
         "type": "scattergl",
         "x": [
          1990,
          1991,
          1992,
          1993,
          1994,
          1995,
          1996,
          1997,
          1998,
          1999,
          2000,
          2001,
          2002,
          2003,
          2004,
          2005,
          2006,
          2007,
          2008,
          2009,
          2010,
          2011,
          2012,
          2013,
          2014,
          2015,
          2016
         ],
         "xaxis": "x",
         "y": [
          0.06,
          0.06,
          0.06,
          0.06,
          0.09,
          0.1,
          0.17,
          0.05,
          0.16,
          0.22,
          0.22,
          0.24,
          0.22,
          0.29,
          0.33,
          0.29,
          0.37,
          0.34,
          0.3,
          0.3,
          0.38,
          0.42,
          0.36,
          0.38,
          0.38,
          0.29,
          0.44
         ],
         "yaxis": "y"
        },
        {
         "hovertemplate": "<b>%{hovertext}</b><br><br>fuente_de_emision_y_absorcion_id=3C5aii<br>anio=%{x}<br>valor(MtCO2eq)=%{y}<extra></extra>",
         "hovertext": [
          "3C5aii",
          "3C5aii",
          "3C5aii",
          "3C5aii",
          "3C5aii",
          "3C5aii",
          "3C5aii",
          "3C5aii",
          "3C5aii",
          "3C5aii",
          "3C5aii",
          "3C5aii",
          "3C5aii",
          "3C5aii",
          "3C5aii",
          "3C5aii",
          "3C5aii",
          "3C5aii",
          "3C5aii",
          "3C5aii",
          "3C5aii",
          "3C5aii",
          "3C5aii",
          "3C5aii",
          "3C5aii",
          "3C5aii",
          "3C5aii"
         ],
         "legendgroup": "3C5aii",
         "line": {
          "color": "#00cc96",
          "dash": "solid"
         },
         "marker": {
          "symbol": "circle"
         },
         "mode": "lines",
         "name": "3C5aii",
         "showlegend": true,
         "type": "scattergl",
         "x": [
          1990,
          1991,
          1992,
          1993,
          1994,
          1995,
          1996,
          1997,
          1998,
          1999,
          2000,
          2001,
          2002,
          2003,
          2004,
          2005,
          2006,
          2007,
          2008,
          2009,
          2010,
          2011,
          2012,
          2013,
          2014,
          2015,
          2016
         ],
         "xaxis": "x",
         "y": [
          0.13,
          0.13,
          0.13,
          0.13,
          0.2,
          0.22,
          0.38,
          0.11,
          0.36,
          0.49,
          0.49,
          0.53,
          0.49,
          0.64,
          0.75,
          0.65,
          0.82,
          0.75,
          0.69,
          0.66,
          0.86,
          0.95,
          0.8,
          0.86,
          0.86,
          0.66,
          1
         ],
         "yaxis": "y"
        },
        {
         "hovertemplate": "<b>%{hovertext}</b><br><br>fuente_de_emision_y_absorcion_id=3C5bi<br>anio=%{x}<br>valor(MtCO2eq)=%{y}<extra></extra>",
         "hovertext": [
          "3C5bi",
          "3C5bi",
          "3C5bi",
          "3C5bi",
          "3C5bi",
          "3C5bi",
          "3C5bi",
          "3C5bi",
          "3C5bi",
          "3C5bi",
          "3C5bi",
          "3C5bi",
          "3C5bi",
          "3C5bi",
          "3C5bi",
          "3C5bi",
          "3C5bi",
          "3C5bi",
          "3C5bi",
          "3C5bi",
          "3C5bi",
          "3C5bi",
          "3C5bi",
          "3C5bi",
          "3C5bi",
          "3C5bi",
          "3C5bi"
         ],
         "legendgroup": "3C5bi",
         "line": {
          "color": "#ab63fa",
          "dash": "solid"
         },
         "marker": {
          "symbol": "circle"
         },
         "mode": "lines",
         "name": "3C5bi",
         "showlegend": true,
         "type": "scattergl",
         "x": [
          1990,
          1991,
          1992,
          1993,
          1994,
          1995,
          1996,
          1997,
          1998,
          1999,
          2000,
          2001,
          2002,
          2003,
          2004,
          2005,
          2006,
          2007,
          2008,
          2009,
          2010,
          2011,
          2012,
          2013,
          2014,
          2015,
          2016
         ],
         "xaxis": "x",
         "y": [
          0.21,
          0.21,
          0.22,
          0.22,
          0.23,
          0.23,
          0.23,
          0.23,
          0.23,
          0.24,
          0.24,
          0.23,
          0.22,
          0.22,
          0.22,
          0.22,
          0.23,
          0.22,
          0.22,
          0.22,
          0.22,
          0.23,
          0.23,
          0.23,
          0.23,
          0.23,
          0.22
         ],
         "yaxis": "y"
        },
        {
         "hovertemplate": "<b>%{hovertext}</b><br><br>fuente_de_emision_y_absorcion_id=3C5bii<br>anio=%{x}<br>valor(MtCO2eq)=%{y}<extra></extra>",
         "hovertext": [
          "3C5bii",
          "3C5bii",
          "3C5bii",
          "3C5bii",
          "3C5bii",
          "3C5bii",
          "3C5bii",
          "3C5bii",
          "3C5bii",
          "3C5bii",
          "3C5bii",
          "3C5bii",
          "3C5bii",
          "3C5bii",
          "3C5bii",
          "3C5bii",
          "3C5bii",
          "3C5bii",
          "3C5bii",
          "3C5bii",
          "3C5bii",
          "3C5bii",
          "3C5bii",
          "3C5bii",
          "3C5bii",
          "3C5bii",
          "3C5bii"
         ],
         "legendgroup": "3C5bii",
         "line": {
          "color": "#FFA15A",
          "dash": "solid"
         },
         "marker": {
          "symbol": "circle"
         },
         "mode": "lines",
         "name": "3C5bii",
         "showlegend": true,
         "type": "scattergl",
         "x": [
          1990,
          1991,
          1992,
          1993,
          1994,
          1995,
          1996,
          1997,
          1998,
          1999,
          2000,
          2001,
          2002,
          2003,
          2004,
          2005,
          2006,
          2007,
          2008,
          2009,
          2010,
          2011,
          2012,
          2013,
          2014,
          2015,
          2016
         ],
         "xaxis": "x",
         "y": [
          0.23,
          0.23,
          0.24,
          0.25,
          0.26,
          0.26,
          0.26,
          0.26,
          0.26,
          0.27,
          0.27,
          0.26,
          0.25,
          0.24,
          0.25,
          0.25,
          0.26,
          0.25,
          0.25,
          0.25,
          0.25,
          0.25,
          0.26,
          0.26,
          0.26,
          0.26,
          0.25
         ],
         "yaxis": "y"
        },
        {
         "hovertemplate": "<b>%{hovertext}</b><br><br>fuente_de_emision_y_absorcion_id=3C5ci<br>anio=%{x}<br>valor(MtCO2eq)=%{y}<extra></extra>",
         "hovertext": [
          "3C5ci",
          "3C5ci",
          "3C5ci",
          "3C5ci",
          "3C5ci",
          "3C5ci",
          "3C5ci",
          "3C5ci",
          "3C5ci",
          "3C5ci",
          "3C5ci",
          "3C5ci",
          "3C5ci",
          "3C5ci",
          "3C5ci",
          "3C5ci",
          "3C5ci",
          "3C5ci",
          "3C5ci",
          "3C5ci",
          "3C5ci",
          "3C5ci",
          "3C5ci",
          "3C5ci",
          "3C5ci",
          "3C5ci",
          "3C5ci"
         ],
         "legendgroup": "3C5ci",
         "line": {
          "color": "#19d3f3",
          "dash": "solid"
         },
         "marker": {
          "symbol": "circle"
         },
         "mode": "lines",
         "name": "3C5ci",
         "showlegend": true,
         "type": "scattergl",
         "x": [
          1990,
          1991,
          1992,
          1993,
          1994,
          1995,
          1996,
          1997,
          1998,
          1999,
          2000,
          2001,
          2002,
          2003,
          2004,
          2005,
          2006,
          2007,
          2008,
          2009,
          2010,
          2011,
          2012,
          2013,
          2014,
          2015,
          2016
         ],
         "xaxis": "x",
         "y": [
          1.8,
          1.84,
          1.87,
          1.91,
          1.91,
          1.88,
          1.8,
          1.77,
          1.67,
          1.74,
          1.71,
          1.68,
          1.73,
          1.75,
          1.74,
          1.71,
          1.69,
          1.65,
          1.41,
          1.32,
          1.21,
          1.18,
          1.22,
          1.25,
          1.26,
          1.27,
          1.28
         ],
         "yaxis": "y"
        },
        {
         "hovertemplate": "<b>%{hovertext}</b><br><br>fuente_de_emision_y_absorcion_id=3C5cii<br>anio=%{x}<br>valor(MtCO2eq)=%{y}<extra></extra>",
         "hovertext": [
          "3C5cii",
          "3C5cii",
          "3C5cii",
          "3C5cii",
          "3C5cii",
          "3C5cii",
          "3C5cii",
          "3C5cii",
          "3C5cii",
          "3C5cii",
          "3C5cii",
          "3C5cii",
          "3C5cii",
          "3C5cii",
          "3C5cii",
          "3C5cii",
          "3C5cii",
          "3C5cii",
          "3C5cii",
          "3C5cii",
          "3C5cii",
          "3C5cii",
          "3C5cii",
          "3C5cii",
          "3C5cii",
          "3C5cii",
          "3C5cii"
         ],
         "legendgroup": "3C5cii",
         "line": {
          "color": "#FF6692",
          "dash": "solid"
         },
         "marker": {
          "symbol": "circle"
         },
         "mode": "lines",
         "name": "3C5cii",
         "showlegend": true,
         "type": "scattergl",
         "x": [
          1990,
          1991,
          1992,
          1993,
          1994,
          1995,
          1996,
          1997,
          1998,
          1999,
          2000,
          2001,
          2002,
          2003,
          2004,
          2005,
          2006,
          2007,
          2008,
          2009,
          2010,
          2011,
          2012,
          2013,
          2014,
          2015,
          2016
         ],
         "xaxis": "x",
         "y": [
          2.03,
          2.07,
          2.1,
          2.15,
          2.15,
          2.12,
          2.03,
          1.99,
          1.88,
          1.96,
          1.93,
          1.89,
          1.95,
          1.97,
          1.96,
          1.93,
          1.9,
          1.86,
          1.59,
          1.48,
          1.36,
          1.33,
          1.37,
          1.4,
          1.41,
          1.43,
          1.44
         ],
         "yaxis": "y"
        },
        {
         "hovertemplate": "<b>%{hovertext}</b><br><br>fuente_de_emision_y_absorcion_id=3C5di1<br>anio=%{x}<br>valor(MtCO2eq)=%{y}<extra></extra>",
         "hovertext": [
          "3C5di1",
          "3C5di1",
          "3C5di1",
          "3C5di1",
          "3C5di1",
          "3C5di1",
          "3C5di1",
          "3C5di1",
          "3C5di1",
          "3C5di1",
          "3C5di1",
          "3C5di1",
          "3C5di1",
          "3C5di1",
          "3C5di1",
          "3C5di1",
          "3C5di1",
          "3C5di1",
          "3C5di1",
          "3C5di1",
          "3C5di1",
          "3C5di1",
          "3C5di1",
          "3C5di1",
          "3C5di1",
          "3C5di1",
          "3C5di1"
         ],
         "legendgroup": "3C5di1",
         "line": {
          "color": "#B6E880",
          "dash": "solid"
         },
         "marker": {
          "symbol": "circle"
         },
         "mode": "lines",
         "name": "3C5di1",
         "showlegend": true,
         "type": "scattergl",
         "x": [
          1990,
          1991,
          1992,
          1993,
          1994,
          1995,
          1996,
          1997,
          1998,
          1999,
          2000,
          2001,
          2002,
          2003,
          2004,
          2005,
          2006,
          2007,
          2008,
          2009,
          2010,
          2011,
          2012,
          2013,
          2014,
          2015,
          2016
         ],
         "xaxis": "x",
         "y": [
          0,
          0,
          0,
          0,
          0,
          0,
          0,
          0,
          0,
          0,
          0,
          0,
          0,
          0,
          0,
          0,
          0,
          0,
          0,
          0,
          0,
          0,
          0,
          0,
          0,
          0,
          0.01
         ],
         "yaxis": "y"
        },
        {
         "hovertemplate": "<b>%{hovertext}</b><br><br>fuente_de_emision_y_absorcion_id=3C5di2<br>anio=%{x}<br>valor(MtCO2eq)=%{y}<extra></extra>",
         "hovertext": [
          "3C5di2",
          "3C5di2",
          "3C5di2",
          "3C5di2",
          "3C5di2",
          "3C5di2",
          "3C5di2",
          "3C5di2",
          "3C5di2",
          "3C5di2",
          "3C5di2",
          "3C5di2",
          "3C5di2",
          "3C5di2",
          "3C5di2",
          "3C5di2",
          "3C5di2",
          "3C5di2",
          "3C5di2",
          "3C5di2",
          "3C5di2",
          "3C5di2",
          "3C5di2",
          "3C5di2",
          "3C5di2",
          "3C5di2",
          "3C5di2"
         ],
         "legendgroup": "3C5di2",
         "line": {
          "color": "#FF97FF",
          "dash": "solid"
         },
         "marker": {
          "symbol": "circle"
         },
         "mode": "lines",
         "name": "3C5di2",
         "showlegend": true,
         "type": "scattergl",
         "x": [
          1990,
          1991,
          1992,
          1993,
          1994,
          1995,
          1996,
          1997,
          1998,
          1999,
          2000,
          2001,
          2002,
          2003,
          2004,
          2005,
          2006,
          2007,
          2008,
          2009,
          2010,
          2011,
          2012,
          2013,
          2014,
          2015,
          2016
         ],
         "xaxis": "x",
         "y": [
          0,
          0,
          0,
          0,
          0,
          0,
          0,
          0,
          0,
          0,
          0,
          0,
          0,
          0,
          0,
          0,
          0,
          0,
          0,
          0,
          0,
          0,
          0,
          0,
          0,
          0.01,
          0.01
         ],
         "yaxis": "y"
        },
        {
         "hovertemplate": "<b>%{hovertext}</b><br><br>fuente_de_emision_y_absorcion_id=3C5dii1<br>anio=%{x}<br>valor(MtCO2eq)=%{y}<extra></extra>",
         "hovertext": [
          "3C5dii1",
          "3C5dii1",
          "3C5dii1",
          "3C5dii1",
          "3C5dii1",
          "3C5dii1",
          "3C5dii1",
          "3C5dii1",
          "3C5dii1",
          "3C5dii1",
          "3C5dii1",
          "3C5dii1",
          "3C5dii1",
          "3C5dii1",
          "3C5dii1",
          "3C5dii1",
          "3C5dii1",
          "3C5dii1",
          "3C5dii1",
          "3C5dii1",
          "3C5dii1",
          "3C5dii1",
          "3C5dii1",
          "3C5dii1",
          "3C5dii1",
          "3C5dii1",
          "3C5dii1"
         ],
         "legendgroup": "3C5dii1",
         "line": {
          "color": "#FECB52",
          "dash": "solid"
         },
         "marker": {
          "symbol": "circle"
         },
         "mode": "lines",
         "name": "3C5dii1",
         "showlegend": true,
         "type": "scattergl",
         "x": [
          1990,
          1991,
          1992,
          1993,
          1994,
          1995,
          1996,
          1997,
          1998,
          1999,
          2000,
          2001,
          2002,
          2003,
          2004,
          2005,
          2006,
          2007,
          2008,
          2009,
          2010,
          2011,
          2012,
          2013,
          2014,
          2015,
          2016
         ],
         "xaxis": "x",
         "y": [
          0.23,
          0.23,
          0.22,
          0.21,
          0.2,
          0.18,
          0.17,
          0.15,
          0.16,
          0.16,
          0.16,
          0.15,
          0.15,
          0.16,
          0.18,
          0.18,
          0.18,
          0.19,
          0.19,
          0.18,
          0.18,
          0.17,
          0.17,
          0.17,
          0.17,
          0.17,
          0.17
         ],
         "yaxis": "y"
        },
        {
         "hovertemplate": "<b>%{hovertext}</b><br><br>fuente_de_emision_y_absorcion_id=3C5dii2<br>anio=%{x}<br>valor(MtCO2eq)=%{y}<extra></extra>",
         "hovertext": [
          "3C5dii2",
          "3C5dii2",
          "3C5dii2",
          "3C5dii2",
          "3C5dii2",
          "3C5dii2",
          "3C5dii2",
          "3C5dii2",
          "3C5dii2",
          "3C5dii2",
          "3C5dii2",
          "3C5dii2",
          "3C5dii2",
          "3C5dii2",
          "3C5dii2",
          "3C5dii2",
          "3C5dii2",
          "3C5dii2",
          "3C5dii2",
          "3C5dii2",
          "3C5dii2",
          "3C5dii2",
          "3C5dii2",
          "3C5dii2",
          "3C5dii2",
          "3C5dii2",
          "3C5dii2"
         ],
         "legendgroup": "3C5dii2",
         "line": {
          "color": "#636efa",
          "dash": "solid"
         },
         "marker": {
          "symbol": "circle"
         },
         "mode": "lines",
         "name": "3C5dii2",
         "showlegend": true,
         "type": "scattergl",
         "x": [
          1990,
          1991,
          1992,
          1993,
          1994,
          1995,
          1996,
          1997,
          1998,
          1999,
          2000,
          2001,
          2002,
          2003,
          2004,
          2005,
          2006,
          2007,
          2008,
          2009,
          2010,
          2011,
          2012,
          2013,
          2014,
          2015,
          2016
         ],
         "xaxis": "x",
         "y": [
          0.26,
          0.25,
          0.25,
          0.24,
          0.22,
          0.2,
          0.19,
          0.17,
          0.18,
          0.18,
          0.18,
          0.17,
          0.16,
          0.18,
          0.2,
          0.2,
          0.21,
          0.21,
          0.21,
          0.2,
          0.2,
          0.19,
          0.19,
          0.19,
          0.19,
          0.19,
          0.19
         ],
         "yaxis": "y"
        },
        {
         "hovertemplate": "<b>%{hovertext}</b><br><br>fuente_de_emision_y_absorcion_id=3C5diii1<br>anio=%{x}<br>valor(MtCO2eq)=%{y}<extra></extra>",
         "hovertext": [
          "3C5diii1",
          "3C5diii1",
          "3C5diii1",
          "3C5diii1",
          "3C5diii1",
          "3C5diii1",
          "3C5diii1",
          "3C5diii1",
          "3C5diii1",
          "3C5diii1",
          "3C5diii1",
          "3C5diii1",
          "3C5diii1",
          "3C5diii1",
          "3C5diii1",
          "3C5diii1",
          "3C5diii1",
          "3C5diii1",
          "3C5diii1",
          "3C5diii1",
          "3C5diii1",
          "3C5diii1",
          "3C5diii1",
          "3C5diii1",
          "3C5diii1",
          "3C5diii1",
          "3C5diii1"
         ],
         "legendgroup": "3C5diii1",
         "line": {
          "color": "#EF553B",
          "dash": "solid"
         },
         "marker": {
          "symbol": "circle"
         },
         "mode": "lines",
         "name": "3C5diii1",
         "showlegend": true,
         "type": "scattergl",
         "x": [
          1990,
          1991,
          1992,
          1993,
          1994,
          1995,
          1996,
          1997,
          1998,
          1999,
          2000,
          2001,
          2002,
          2003,
          2004,
          2005,
          2006,
          2007,
          2008,
          2009,
          2010,
          2011,
          2012,
          2013,
          2014,
          2015,
          2016
         ],
         "xaxis": "x",
         "y": [
          0.06,
          0.06,
          0.06,
          0.06,
          0.06,
          0.05,
          0.05,
          0.05,
          0.05,
          0.05,
          0.05,
          0.06,
          0.06,
          0.06,
          0.06,
          0.06,
          0.06,
          0.06,
          0.06,
          0.06,
          0.06,
          0.06,
          0.06,
          0.06,
          0.06,
          0.07,
          0.07
         ],
         "yaxis": "y"
        },
        {
         "hovertemplate": "<b>%{hovertext}</b><br><br>fuente_de_emision_y_absorcion_id=3C5diii2<br>anio=%{x}<br>valor(MtCO2eq)=%{y}<extra></extra>",
         "hovertext": [
          "3C5diii2",
          "3C5diii2",
          "3C5diii2",
          "3C5diii2",
          "3C5diii2",
          "3C5diii2",
          "3C5diii2",
          "3C5diii2",
          "3C5diii2",
          "3C5diii2",
          "3C5diii2",
          "3C5diii2",
          "3C5diii2",
          "3C5diii2",
          "3C5diii2",
          "3C5diii2",
          "3C5diii2",
          "3C5diii2",
          "3C5diii2",
          "3C5diii2",
          "3C5diii2",
          "3C5diii2",
          "3C5diii2",
          "3C5diii2",
          "3C5diii2",
          "3C5diii2",
          "3C5diii2"
         ],
         "legendgroup": "3C5diii2",
         "line": {
          "color": "#00cc96",
          "dash": "solid"
         },
         "marker": {
          "symbol": "circle"
         },
         "mode": "lines",
         "name": "3C5diii2",
         "showlegend": true,
         "type": "scattergl",
         "x": [
          1990,
          1991,
          1992,
          1993,
          1994,
          1995,
          1996,
          1997,
          1998,
          1999,
          2000,
          2001,
          2002,
          2003,
          2004,
          2005,
          2006,
          2007,
          2008,
          2009,
          2010,
          2011,
          2012,
          2013,
          2014,
          2015,
          2016
         ],
         "xaxis": "x",
         "y": [
          0.06,
          0.06,
          0.06,
          0.07,
          0.07,
          0.06,
          0.06,
          0.06,
          0.06,
          0.06,
          0.06,
          0.06,
          0.07,
          0.07,
          0.07,
          0.06,
          0.06,
          0.06,
          0.06,
          0.07,
          0.07,
          0.07,
          0.07,
          0.07,
          0.07,
          0.08,
          0.08
         ],
         "yaxis": "y"
        },
        {
         "hovertemplate": "<b>%{hovertext}</b><br><br>fuente_de_emision_y_absorcion_id=3C5div1<br>anio=%{x}<br>valor(MtCO2eq)=%{y}<extra></extra>",
         "hovertext": [
          "3C5div1",
          "3C5div1",
          "3C5div1",
          "3C5div1",
          "3C5div1",
          "3C5div1",
          "3C5div1",
          "3C5div1",
          "3C5div1",
          "3C5div1",
          "3C5div1",
          "3C5div1",
          "3C5div1",
          "3C5div1",
          "3C5div1",
          "3C5div1",
          "3C5div1",
          "3C5div1",
          "3C5div1",
          "3C5div1",
          "3C5div1",
          "3C5div1",
          "3C5div1",
          "3C5div1",
          "3C5div1",
          "3C5div1",
          "3C5div1"
         ],
         "legendgroup": "3C5div1",
         "line": {
          "color": "#ab63fa",
          "dash": "solid"
         },
         "marker": {
          "symbol": "circle"
         },
         "mode": "lines",
         "name": "3C5div1",
         "showlegend": true,
         "type": "scattergl",
         "x": [
          1990,
          1991,
          1992,
          1993,
          1994,
          1995,
          1996,
          1997,
          1998,
          1999,
          2000,
          2001,
          2002,
          2003,
          2004,
          2005,
          2006,
          2007,
          2008,
          2009,
          2010,
          2011,
          2012,
          2013,
          2014,
          2015,
          2016
         ],
         "xaxis": "x",
         "y": [
          0,
          0,
          0,
          0,
          0,
          0,
          0,
          0,
          0,
          0,
          0,
          0,
          0,
          0,
          0,
          0,
          0,
          0,
          0,
          0,
          0,
          0,
          0,
          0,
          0,
          0,
          0
         ],
         "yaxis": "y"
        },
        {
         "hovertemplate": "<b>%{hovertext}</b><br><br>fuente_de_emision_y_absorcion_id=3C5div2<br>anio=%{x}<br>valor(MtCO2eq)=%{y}<extra></extra>",
         "hovertext": [
          "3C5div2",
          "3C5div2",
          "3C5div2",
          "3C5div2",
          "3C5div2",
          "3C5div2",
          "3C5div2",
          "3C5div2",
          "3C5div2",
          "3C5div2",
          "3C5div2",
          "3C5div2",
          "3C5div2",
          "3C5div2",
          "3C5div2",
          "3C5div2",
          "3C5div2",
          "3C5div2",
          "3C5div2",
          "3C5div2",
          "3C5div2",
          "3C5div2",
          "3C5div2",
          "3C5div2",
          "3C5div2",
          "3C5div2",
          "3C5div2"
         ],
         "legendgroup": "3C5div2",
         "line": {
          "color": "#FFA15A",
          "dash": "solid"
         },
         "marker": {
          "symbol": "circle"
         },
         "mode": "lines",
         "name": "3C5div2",
         "showlegend": true,
         "type": "scattergl",
         "x": [
          1990,
          1991,
          1992,
          1993,
          1994,
          1995,
          1996,
          1997,
          1998,
          1999,
          2000,
          2001,
          2002,
          2003,
          2004,
          2005,
          2006,
          2007,
          2008,
          2009,
          2010,
          2011,
          2012,
          2013,
          2014,
          2015,
          2016
         ],
         "xaxis": "x",
         "y": [
          0,
          0,
          0,
          0,
          0,
          0,
          0,
          0,
          0,
          0,
          0,
          0,
          0,
          0,
          0,
          0,
          0,
          0,
          0,
          0,
          0,
          0,
          0,
          0,
          0,
          0,
          0
         ],
         "yaxis": "y"
        },
        {
         "hovertemplate": "<b>%{hovertext}</b><br><br>fuente_de_emision_y_absorcion_id=3C5dv1<br>anio=%{x}<br>valor(MtCO2eq)=%{y}<extra></extra>",
         "hovertext": [
          "3C5dv1",
          "3C5dv1",
          "3C5dv1",
          "3C5dv1",
          "3C5dv1",
          "3C5dv1",
          "3C5dv1",
          "3C5dv1",
          "3C5dv1",
          "3C5dv1",
          "3C5dv1",
          "3C5dv1",
          "3C5dv1",
          "3C5dv1",
          "3C5dv1",
          "3C5dv1",
          "3C5dv1",
          "3C5dv1",
          "3C5dv1",
          "3C5dv1",
          "3C5dv1",
          "3C5dv1",
          "3C5dv1",
          "3C5dv1",
          "3C5dv1",
          "3C5dv1",
          "3C5dv1"
         ],
         "legendgroup": "3C5dv1",
         "line": {
          "color": "#19d3f3",
          "dash": "solid"
         },
         "marker": {
          "symbol": "circle"
         },
         "mode": "lines",
         "name": "3C5dv1",
         "showlegend": true,
         "type": "scattergl",
         "x": [
          1990,
          1991,
          1992,
          1993,
          1994,
          1995,
          1996,
          1997,
          1998,
          1999,
          2000,
          2001,
          2002,
          2003,
          2004,
          2005,
          2006,
          2007,
          2008,
          2009,
          2010,
          2011,
          2012,
          2013,
          2014,
          2015,
          2016
         ],
         "xaxis": "x",
         "y": [
          0.08,
          0.08,
          0.08,
          0.08,
          0.08,
          0.08,
          0.08,
          0.08,
          0.08,
          0.08,
          0.08,
          0.08,
          0.08,
          0.08,
          0.08,
          0.08,
          0.08,
          0.08,
          0.07,
          0.08,
          0.07,
          0.08,
          0.08,
          0.09,
          0.09,
          0.1,
          0.1
         ],
         "yaxis": "y"
        },
        {
         "hovertemplate": "<b>%{hovertext}</b><br><br>fuente_de_emision_y_absorcion_id=3C5dv2<br>anio=%{x}<br>valor(MtCO2eq)=%{y}<extra></extra>",
         "hovertext": [
          "3C5dv2",
          "3C5dv2",
          "3C5dv2",
          "3C5dv2",
          "3C5dv2",
          "3C5dv2",
          "3C5dv2",
          "3C5dv2",
          "3C5dv2",
          "3C5dv2",
          "3C5dv2",
          "3C5dv2",
          "3C5dv2",
          "3C5dv2",
          "3C5dv2",
          "3C5dv2",
          "3C5dv2",
          "3C5dv2",
          "3C5dv2",
          "3C5dv2",
          "3C5dv2",
          "3C5dv2",
          "3C5dv2",
          "3C5dv2",
          "3C5dv2",
          "3C5dv2",
          "3C5dv2"
         ],
         "legendgroup": "3C5dv2",
         "line": {
          "color": "#FF6692",
          "dash": "solid"
         },
         "marker": {
          "symbol": "circle"
         },
         "mode": "lines",
         "name": "3C5dv2",
         "showlegend": true,
         "type": "scattergl",
         "x": [
          1990,
          1991,
          1992,
          1993,
          1994,
          1995,
          1996,
          1997,
          1998,
          1999,
          2000,
          2001,
          2002,
          2003,
          2004,
          2005,
          2006,
          2007,
          2008,
          2009,
          2010,
          2011,
          2012,
          2013,
          2014,
          2015,
          2016
         ],
         "xaxis": "x",
         "y": [
          0.09,
          0.09,
          0.09,
          0.09,
          0.09,
          0.09,
          0.09,
          0.09,
          0.09,
          0.09,
          0.09,
          0.09,
          0.09,
          0.09,
          0.09,
          0.09,
          0.09,
          0.09,
          0.08,
          0.09,
          0.08,
          0.09,
          0.09,
          0.1,
          0.1,
          0.11,
          0.11
         ],
         "yaxis": "y"
        },
        {
         "hovertemplate": "<b>%{hovertext}</b><br><br>fuente_de_emision_y_absorcion_id=3C5dvi1<br>anio=%{x}<br>valor(MtCO2eq)=%{y}<extra></extra>",
         "hovertext": [
          "3C5dvi1",
          "3C5dvi1",
          "3C5dvi1",
          "3C5dvi1",
          "3C5dvi1",
          "3C5dvi1",
          "3C5dvi1",
          "3C5dvi1",
          "3C5dvi1",
          "3C5dvi1",
          "3C5dvi1",
          "3C5dvi1",
          "3C5dvi1",
          "3C5dvi1",
          "3C5dvi1",
          "3C5dvi1",
          "3C5dvi1",
          "3C5dvi1",
          "3C5dvi1",
          "3C5dvi1",
          "3C5dvi1",
          "3C5dvi1",
          "3C5dvi1",
          "3C5dvi1",
          "3C5dvi1",
          "3C5dvi1",
          "3C5dvi1"
         ],
         "legendgroup": "3C5dvi1",
         "line": {
          "color": "#B6E880",
          "dash": "solid"
         },
         "marker": {
          "symbol": "circle"
         },
         "mode": "lines",
         "name": "3C5dvi1",
         "showlegend": true,
         "type": "scattergl",
         "x": [
          1990,
          1991,
          1992,
          1993,
          1994,
          1995,
          1996,
          1997,
          1998,
          1999,
          2000,
          2001,
          2002,
          2003,
          2004,
          2005,
          2006,
          2007,
          2008,
          2009,
          2010,
          2011,
          2012,
          2013,
          2014,
          2015,
          2016
         ],
         "xaxis": "x",
         "y": [
          0,
          0,
          0,
          0,
          0,
          0,
          0,
          0,
          0,
          0,
          0,
          0,
          0,
          0,
          0,
          0,
          0,
          0,
          0,
          0,
          0,
          0,
          0,
          0,
          0,
          0,
          0
         ],
         "yaxis": "y"
        },
        {
         "hovertemplate": "<b>%{hovertext}</b><br><br>fuente_de_emision_y_absorcion_id=3C5dvi2<br>anio=%{x}<br>valor(MtCO2eq)=%{y}<extra></extra>",
         "hovertext": [
          "3C5dvi2",
          "3C5dvi2",
          "3C5dvi2",
          "3C5dvi2",
          "3C5dvi2",
          "3C5dvi2",
          "3C5dvi2",
          "3C5dvi2",
          "3C5dvi2",
          "3C5dvi2",
          "3C5dvi2",
          "3C5dvi2",
          "3C5dvi2",
          "3C5dvi2",
          "3C5dvi2",
          "3C5dvi2",
          "3C5dvi2",
          "3C5dvi2",
          "3C5dvi2",
          "3C5dvi2",
          "3C5dvi2",
          "3C5dvi2",
          "3C5dvi2",
          "3C5dvi2",
          "3C5dvi2",
          "3C5dvi2",
          "3C5dvi2"
         ],
         "legendgroup": "3C5dvi2",
         "line": {
          "color": "#FF97FF",
          "dash": "solid"
         },
         "marker": {
          "symbol": "circle"
         },
         "mode": "lines",
         "name": "3C5dvi2",
         "showlegend": true,
         "type": "scattergl",
         "x": [
          1990,
          1991,
          1992,
          1993,
          1994,
          1995,
          1996,
          1997,
          1998,
          1999,
          2000,
          2001,
          2002,
          2003,
          2004,
          2005,
          2006,
          2007,
          2008,
          2009,
          2010,
          2011,
          2012,
          2013,
          2014,
          2015,
          2016
         ],
         "xaxis": "x",
         "y": [
          0,
          0,
          0,
          0,
          0,
          0,
          0,
          0,
          0,
          0,
          0,
          0,
          0,
          0,
          0,
          0,
          0,
          0,
          0,
          0,
          0,
          0,
          0,
          0,
          0,
          0,
          0
         ],
         "yaxis": "y"
        },
        {
         "hovertemplate": "<b>%{hovertext}</b><br><br>fuente_de_emision_y_absorcion_id=3C5dvii1<br>anio=%{x}<br>valor(MtCO2eq)=%{y}<extra></extra>",
         "hovertext": [
          "3C5dvii1",
          "3C5dvii1",
          "3C5dvii1",
          "3C5dvii1",
          "3C5dvii1",
          "3C5dvii1",
          "3C5dvii1",
          "3C5dvii1",
          "3C5dvii1",
          "3C5dvii1",
          "3C5dvii1",
          "3C5dvii1",
          "3C5dvii1",
          "3C5dvii1",
          "3C5dvii1",
          "3C5dvii1",
          "3C5dvii1",
          "3C5dvii1",
          "3C5dvii1",
          "3C5dvii1",
          "3C5dvii1",
          "3C5dvii1",
          "3C5dvii1",
          "3C5dvii1",
          "3C5dvii1",
          "3C5dvii1",
          "3C5dvii1"
         ],
         "legendgroup": "3C5dvii1",
         "line": {
          "color": "#FECB52",
          "dash": "solid"
         },
         "marker": {
          "symbol": "circle"
         },
         "mode": "lines",
         "name": "3C5dvii1",
         "showlegend": true,
         "type": "scattergl",
         "x": [
          1990,
          1991,
          1992,
          1993,
          1994,
          1995,
          1996,
          1997,
          1998,
          1999,
          2000,
          2001,
          2002,
          2003,
          2004,
          2005,
          2006,
          2007,
          2008,
          2009,
          2010,
          2011,
          2012,
          2013,
          2014,
          2015,
          2016
         ],
         "xaxis": "x",
         "y": [
          0.02,
          0.02,
          0.02,
          0.02,
          0.02,
          0.02,
          0.02,
          0.02,
          0.02,
          0.02,
          0.02,
          0.02,
          0.02,
          0.02,
          0.02,
          0.02,
          0.02,
          0.02,
          0.02,
          0.02,
          0.02,
          0.02,
          0.02,
          0.02,
          0.02,
          0.03,
          0.03
         ],
         "yaxis": "y"
        },
        {
         "hovertemplate": "<b>%{hovertext}</b><br><br>fuente_de_emision_y_absorcion_id=3C5dvii2<br>anio=%{x}<br>valor(MtCO2eq)=%{y}<extra></extra>",
         "hovertext": [
          "3C5dvii2",
          "3C5dvii2",
          "3C5dvii2",
          "3C5dvii2",
          "3C5dvii2",
          "3C5dvii2",
          "3C5dvii2",
          "3C5dvii2",
          "3C5dvii2",
          "3C5dvii2",
          "3C5dvii2",
          "3C5dvii2",
          "3C5dvii2",
          "3C5dvii2",
          "3C5dvii2",
          "3C5dvii2",
          "3C5dvii2",
          "3C5dvii2",
          "3C5dvii2",
          "3C5dvii2",
          "3C5dvii2",
          "3C5dvii2",
          "3C5dvii2",
          "3C5dvii2",
          "3C5dvii2",
          "3C5dvii2",
          "3C5dvii2"
         ],
         "legendgroup": "3C5dvii2",
         "line": {
          "color": "#636efa",
          "dash": "solid"
         },
         "marker": {
          "symbol": "circle"
         },
         "mode": "lines",
         "name": "3C5dvii2",
         "showlegend": true,
         "type": "scattergl",
         "x": [
          1990,
          1991,
          1992,
          1993,
          1994,
          1995,
          1996,
          1997,
          1998,
          1999,
          2000,
          2001,
          2002,
          2003,
          2004,
          2005,
          2006,
          2007,
          2008,
          2009,
          2010,
          2011,
          2012,
          2013,
          2014,
          2015,
          2016
         ],
         "xaxis": "x",
         "y": [
          0.02,
          0.02,
          0.02,
          0.02,
          0.02,
          0.02,
          0.02,
          0.02,
          0.02,
          0.02,
          0.02,
          0.02,
          0.02,
          0.02,
          0.02,
          0.02,
          0.02,
          0.02,
          0.02,
          0.02,
          0.02,
          0.02,
          0.02,
          0.02,
          0.03,
          0.03,
          0.03
         ],
         "yaxis": "y"
        },
        {
         "hovertemplate": "<b>%{hovertext}</b><br><br>fuente_de_emision_y_absorcion_id=3C5e<br>anio=%{x}<br>valor(MtCO2eq)=%{y}<extra></extra>",
         "hovertext": [
          "3C5e",
          "3C5e",
          "3C5e",
          "3C5e",
          "3C5e",
          "3C5e",
          "3C5e",
          "3C5e",
          "3C5e",
          "3C5e",
          "3C5e",
          "3C5e",
          "3C5e",
          "3C5e",
          "3C5e",
          "3C5e",
          "3C5e",
          "3C5e",
          "3C5e",
          "3C5e",
          "3C5e",
          "3C5e",
          "3C5e",
          "3C5e",
          "3C5e",
          "3C5e",
          "3C5e"
         ],
         "legendgroup": "3C5e",
         "line": {
          "color": "#EF553B",
          "dash": "solid"
         },
         "marker": {
          "symbol": "circle"
         },
         "mode": "lines",
         "name": "3C5e",
         "showlegend": true,
         "type": "scattergl",
         "x": [
          1990,
          1991,
          1992,
          1993,
          1994,
          1995,
          1996,
          1997,
          1998,
          1999,
          2000,
          2001,
          2002,
          2003,
          2004,
          2005,
          2006,
          2007,
          2008,
          2009,
          2010,
          2011,
          2012,
          2013,
          2014,
          2015,
          2016
         ],
         "xaxis": "x",
         "y": [
          1.95,
          1.85,
          1.74,
          1.63,
          1.65,
          1.6,
          1.49,
          1.37,
          1.52,
          1.39,
          1.41,
          1.45,
          1.45,
          1.48,
          1.5,
          1.71,
          1.69,
          1.86,
          1.89,
          1.55,
          1.86,
          1.97,
          1.83,
          2,
          2.21,
          2.33,
          2.36
         ],
         "yaxis": "y"
        },
        {
         "hovertemplate": "<b>%{hovertext}</b><br><br>fuente_de_emision_y_absorcion_id=3C5gi1<br>anio=%{x}<br>valor(MtCO2eq)=%{y}<extra></extra>",
         "hovertext": [
          "3C5gi1",
          "3C5gi1",
          "3C5gi1",
          "3C5gi1",
          "3C5gi1",
          "3C5gi1",
          "3C5gi1",
          "3C5gi1",
          "3C5gi1",
          "3C5gi1",
          "3C5gi1",
          "3C5gi1",
          "3C5gi1",
          "3C5gi1",
          "3C5gi1",
          "3C5gi1",
          "3C5gi1",
          "3C5gi1",
          "3C5gi1",
          "3C5gi1",
          "3C5gi1",
          "3C5gi1",
          "3C5gi1",
          "3C5gi1",
          "3C5gi1",
          "3C5gi1",
          "3C5gi1"
         ],
         "legendgroup": "3C5gi1",
         "line": {
          "color": "#00cc96",
          "dash": "solid"
         },
         "marker": {
          "symbol": "circle"
         },
         "mode": "lines",
         "name": "3C5gi1",
         "showlegend": true,
         "type": "scattergl",
         "x": [
          1990,
          1991,
          1992,
          1993,
          1994,
          1995,
          1996,
          1997,
          1998,
          1999,
          2000,
          2001,
          2002,
          2003,
          2004,
          2005,
          2006,
          2007,
          2008,
          2009,
          2010,
          2011,
          2012,
          2013,
          2014,
          2015,
          2016
         ],
         "xaxis": "x",
         "y": [
          0,
          0,
          0,
          0,
          0,
          0,
          0,
          0,
          0,
          0,
          0,
          0,
          0,
          0,
          0,
          0,
          0,
          0,
          0,
          0,
          0,
          0,
          0,
          0,
          0,
          0,
          0
         ],
         "yaxis": "y"
        },
        {
         "hovertemplate": "<b>%{hovertext}</b><br><br>fuente_de_emision_y_absorcion_id=3C5gi2<br>anio=%{x}<br>valor(MtCO2eq)=%{y}<extra></extra>",
         "hovertext": [
          "3C5gi2",
          "3C5gi2",
          "3C5gi2",
          "3C5gi2",
          "3C5gi2",
          "3C5gi2",
          "3C5gi2",
          "3C5gi2",
          "3C5gi2",
          "3C5gi2",
          "3C5gi2",
          "3C5gi2",
          "3C5gi2",
          "3C5gi2",
          "3C5gi2",
          "3C5gi2",
          "3C5gi2",
          "3C5gi2",
          "3C5gi2",
          "3C5gi2",
          "3C5gi2",
          "3C5gi2",
          "3C5gi2",
          "3C5gi2",
          "3C5gi2",
          "3C5gi2",
          "3C5gi2"
         ],
         "legendgroup": "3C5gi2",
         "line": {
          "color": "#ab63fa",
          "dash": "solid"
         },
         "marker": {
          "symbol": "circle"
         },
         "mode": "lines",
         "name": "3C5gi2",
         "showlegend": true,
         "type": "scattergl",
         "x": [
          1990,
          1991,
          1992,
          1993,
          1994,
          1995,
          1996,
          1997,
          1998,
          1999,
          2000,
          2001,
          2002,
          2003,
          2004,
          2005,
          2006,
          2007,
          2008,
          2009,
          2010,
          2011,
          2012,
          2013,
          2014,
          2015,
          2016
         ],
         "xaxis": "x",
         "y": [
          0,
          0,
          0,
          0,
          0,
          0,
          0,
          0,
          0,
          0,
          0,
          0,
          0,
          0,
          0,
          0,
          0,
          0,
          0,
          0,
          0,
          0,
          0,
          0,
          0,
          0,
          0
         ],
         "yaxis": "y"
        },
        {
         "hovertemplate": "<b>%{hovertext}</b><br><br>fuente_de_emision_y_absorcion_id=3C5gii1<br>anio=%{x}<br>valor(MtCO2eq)=%{y}<extra></extra>",
         "hovertext": [
          "3C5gii1",
          "3C5gii1",
          "3C5gii1",
          "3C5gii1",
          "3C5gii1",
          "3C5gii1",
          "3C5gii1",
          "3C5gii1",
          "3C5gii1",
          "3C5gii1",
          "3C5gii1",
          "3C5gii1",
          "3C5gii1",
          "3C5gii1",
          "3C5gii1",
          "3C5gii1",
          "3C5gii1",
          "3C5gii1",
          "3C5gii1",
          "3C5gii1",
          "3C5gii1",
          "3C5gii1",
          "3C5gii1",
          "3C5gii1",
          "3C5gii1",
          "3C5gii1",
          "3C5gii1"
         ],
         "legendgroup": "3C5gii1",
         "line": {
          "color": "#FFA15A",
          "dash": "solid"
         },
         "marker": {
          "symbol": "circle"
         },
         "mode": "lines",
         "name": "3C5gii1",
         "showlegend": true,
         "type": "scattergl",
         "x": [
          1990,
          1991,
          1992,
          1993,
          1994,
          1995,
          1996,
          1997,
          1998,
          1999,
          2000,
          2001,
          2002,
          2003,
          2004,
          2005,
          2006,
          2007,
          2008,
          2009,
          2010,
          2011,
          2012,
          2013,
          2014,
          2015,
          2016
         ],
         "xaxis": "x",
         "y": [
          0.01,
          0.01,
          0.01,
          0.01,
          0.01,
          0.01,
          0.01,
          0.01,
          0.01,
          0.01,
          0.01,
          0.03,
          0.06,
          0.08,
          0.11,
          0.14,
          0.16,
          0.18,
          0.15,
          0.15,
          0.13,
          0.12,
          0.12,
          0.11,
          0.11,
          0.11,
          0.11
         ],
         "yaxis": "y"
        },
        {
         "hovertemplate": "<b>%{hovertext}</b><br><br>fuente_de_emision_y_absorcion_id=3C5gii2<br>anio=%{x}<br>valor(MtCO2eq)=%{y}<extra></extra>",
         "hovertext": [
          "3C5gii2",
          "3C5gii2",
          "3C5gii2",
          "3C5gii2",
          "3C5gii2",
          "3C5gii2",
          "3C5gii2",
          "3C5gii2",
          "3C5gii2",
          "3C5gii2",
          "3C5gii2",
          "3C5gii2",
          "3C5gii2",
          "3C5gii2",
          "3C5gii2",
          "3C5gii2",
          "3C5gii2",
          "3C5gii2",
          "3C5gii2",
          "3C5gii2",
          "3C5gii2",
          "3C5gii2",
          "3C5gii2",
          "3C5gii2",
          "3C5gii2",
          "3C5gii2",
          "3C5gii2"
         ],
         "legendgroup": "3C5gii2",
         "line": {
          "color": "#19d3f3",
          "dash": "solid"
         },
         "marker": {
          "symbol": "circle"
         },
         "mode": "lines",
         "name": "3C5gii2",
         "showlegend": true,
         "type": "scattergl",
         "x": [
          1990,
          1991,
          1992,
          1993,
          1994,
          1995,
          1996,
          1997,
          1998,
          1999,
          2000,
          2001,
          2002,
          2003,
          2004,
          2005,
          2006,
          2007,
          2008,
          2009,
          2010,
          2011,
          2012,
          2013,
          2014,
          2015,
          2016
         ],
         "xaxis": "x",
         "y": [
          0.01,
          0.01,
          0.01,
          0.01,
          0.01,
          0.01,
          0.01,
          0.01,
          0.01,
          0.01,
          0.01,
          0.03,
          0.06,
          0.09,
          0.13,
          0.15,
          0.18,
          0.21,
          0.17,
          0.16,
          0.14,
          0.13,
          0.13,
          0.12,
          0.12,
          0.12,
          0.12
         ],
         "yaxis": "y"
        },
        {
         "hovertemplate": "<b>%{hovertext}</b><br><br>fuente_de_emision_y_absorcion_id=3C5ni<br>anio=%{x}<br>valor(MtCO2eq)=%{y}<extra></extra>",
         "hovertext": [
          "3C5ni",
          "3C5ni",
          "3C5ni",
          "3C5ni",
          "3C5ni",
          "3C5ni",
          "3C5ni",
          "3C5ni",
          "3C5ni",
          "3C5ni",
          "3C5ni",
          "3C5ni",
          "3C5ni",
          "3C5ni",
          "3C5ni",
          "3C5ni",
          "3C5ni",
          "3C5ni",
          "3C5ni",
          "3C5ni",
          "3C5ni",
          "3C5ni",
          "3C5ni",
          "3C5ni",
          "3C5ni",
          "3C5ni",
          "3C5ni"
         ],
         "legendgroup": "3C5ni",
         "line": {
          "color": "#FF6692",
          "dash": "solid"
         },
         "marker": {
          "symbol": "circle"
         },
         "mode": "lines",
         "name": "3C5ni",
         "showlegend": true,
         "type": "scattergl",
         "x": [
          1990,
          1991,
          1992,
          1993,
          1994,
          1995,
          1996,
          1997,
          1998,
          1999,
          2000,
          2001,
          2002,
          2003,
          2004,
          2005,
          2006,
          2007,
          2008,
          2009,
          2010,
          2011,
          2012,
          2013,
          2014,
          2015,
          2016
         ],
         "xaxis": "x",
         "y": [
          0.02,
          0.02,
          0.02,
          0.02,
          0.02,
          0.02,
          0.02,
          0.02,
          0.02,
          0.02,
          0.02,
          0.02,
          0.02,
          0.02,
          0.02,
          0.02,
          0.02,
          0.02,
          0.02,
          0.02,
          0.02,
          0.02,
          0.02,
          0.03,
          0.03,
          0.03,
          0.03
         ],
         "yaxis": "y"
        },
        {
         "hovertemplate": "<b>%{hovertext}</b><br><br>fuente_de_emision_y_absorcion_id=3C5nii<br>anio=%{x}<br>valor(MtCO2eq)=%{y}<extra></extra>",
         "hovertext": [
          "3C5nii",
          "3C5nii",
          "3C5nii",
          "3C5nii",
          "3C5nii",
          "3C5nii",
          "3C5nii",
          "3C5nii",
          "3C5nii",
          "3C5nii",
          "3C5nii",
          "3C5nii",
          "3C5nii",
          "3C5nii",
          "3C5nii",
          "3C5nii",
          "3C5nii",
          "3C5nii",
          "3C5nii",
          "3C5nii",
          "3C5nii",
          "3C5nii",
          "3C5nii",
          "3C5nii",
          "3C5nii",
          "3C5nii",
          "3C5nii"
         ],
         "legendgroup": "3C5nii",
         "line": {
          "color": "#B6E880",
          "dash": "solid"
         },
         "marker": {
          "symbol": "circle"
         },
         "mode": "lines",
         "name": "3C5nii",
         "showlegend": true,
         "type": "scattergl",
         "x": [
          1990,
          1991,
          1992,
          1993,
          1994,
          1995,
          1996,
          1997,
          1998,
          1999,
          2000,
          2001,
          2002,
          2003,
          2004,
          2005,
          2006,
          2007,
          2008,
          2009,
          2010,
          2011,
          2012,
          2013,
          2014,
          2015,
          2016
         ],
         "xaxis": "x",
         "y": [
          0.03,
          0.02,
          0.02,
          0.02,
          0.02,
          0.02,
          0.02,
          0.02,
          0.02,
          0.02,
          0.02,
          0.02,
          0.02,
          0.02,
          0.02,
          0.02,
          0.02,
          0.02,
          0.02,
          0.02,
          0.02,
          0.02,
          0.03,
          0.03,
          0.04,
          0.04,
          0.04
         ],
         "yaxis": "y"
        },
        {
         "hovertemplate": "<b>%{hovertext}</b><br><br>fuente_de_emision_y_absorcion_id=3C5oi<br>anio=%{x}<br>valor(MtCO2eq)=%{y}<extra></extra>",
         "hovertext": [
          "3C5oi",
          "3C5oi",
          "3C5oi",
          "3C5oi",
          "3C5oi",
          "3C5oi",
          "3C5oi",
          "3C5oi",
          "3C5oi",
          "3C5oi",
          "3C5oi",
          "3C5oi",
          "3C5oi",
          "3C5oi",
          "3C5oi",
          "3C5oi",
          "3C5oi",
          "3C5oi",
          "3C5oi",
          "3C5oi",
          "3C5oi",
          "3C5oi",
          "3C5oi",
          "3C5oi",
          "3C5oi",
          "3C5oi",
          "3C5oi"
         ],
         "legendgroup": "3C5oi",
         "line": {
          "color": "#FF97FF",
          "dash": "solid"
         },
         "marker": {
          "symbol": "circle"
         },
         "mode": "lines",
         "name": "3C5oi",
         "showlegend": true,
         "type": "scattergl",
         "x": [
          1990,
          1991,
          1992,
          1993,
          1994,
          1995,
          1996,
          1997,
          1998,
          1999,
          2000,
          2001,
          2002,
          2003,
          2004,
          2005,
          2006,
          2007,
          2008,
          2009,
          2010,
          2011,
          2012,
          2013,
          2014,
          2015,
          2016
         ],
         "xaxis": "x",
         "y": [
          0.01,
          0.01,
          0.01,
          0.01,
          0.01,
          0.01,
          0.01,
          0.01,
          0.01,
          0.01,
          0.01,
          0.01,
          0.02,
          0.02,
          0.02,
          0.02,
          0.02,
          0.02,
          0.03,
          0.03,
          0.03,
          0.03,
          0.03,
          0.03,
          0.03,
          0.03,
          0.03
         ],
         "yaxis": "y"
        },
        {
         "hovertemplate": "<b>%{hovertext}</b><br><br>fuente_de_emision_y_absorcion_id=3C5oii<br>anio=%{x}<br>valor(MtCO2eq)=%{y}<extra></extra>",
         "hovertext": [
          "3C5oii",
          "3C5oii",
          "3C5oii",
          "3C5oii",
          "3C5oii",
          "3C5oii",
          "3C5oii",
          "3C5oii",
          "3C5oii",
          "3C5oii",
          "3C5oii",
          "3C5oii",
          "3C5oii",
          "3C5oii",
          "3C5oii",
          "3C5oii",
          "3C5oii",
          "3C5oii",
          "3C5oii",
          "3C5oii",
          "3C5oii",
          "3C5oii",
          "3C5oii",
          "3C5oii",
          "3C5oii",
          "3C5oii",
          "3C5oii"
         ],
         "legendgroup": "3C5oii",
         "line": {
          "color": "#FECB52",
          "dash": "solid"
         },
         "marker": {
          "symbol": "circle"
         },
         "mode": "lines",
         "name": "3C5oii",
         "showlegend": true,
         "type": "scattergl",
         "x": [
          1990,
          1991,
          1992,
          1993,
          1994,
          1995,
          1996,
          1997,
          1998,
          1999,
          2000,
          2001,
          2002,
          2003,
          2004,
          2005,
          2006,
          2007,
          2008,
          2009,
          2010,
          2011,
          2012,
          2013,
          2014,
          2015,
          2016
         ],
         "xaxis": "x",
         "y": [
          0.01,
          0.01,
          0.01,
          0.01,
          0.01,
          0.01,
          0.01,
          0.01,
          0.01,
          0.01,
          0.01,
          0.02,
          0.02,
          0.02,
          0.02,
          0.02,
          0.02,
          0.03,
          0.03,
          0.03,
          0.03,
          0.03,
          0.03,
          0.03,
          0.04,
          0.04,
          0.04
         ],
         "yaxis": "y"
        },
        {
         "hovertemplate": "<b>%{hovertext}</b><br><br>fuente_de_emision_y_absorcion_id=3C6ai1<br>anio=%{x}<br>valor(MtCO2eq)=%{y}<extra></extra>",
         "hovertext": [
          "3C6ai1",
          "3C6ai1",
          "3C6ai1",
          "3C6ai1",
          "3C6ai1",
          "3C6ai1",
          "3C6ai1",
          "3C6ai1",
          "3C6ai1",
          "3C6ai1",
          "3C6ai1",
          "3C6ai1",
          "3C6ai1",
          "3C6ai1",
          "3C6ai1",
          "3C6ai1",
          "3C6ai1",
          "3C6ai1",
          "3C6ai1",
          "3C6ai1",
          "3C6ai1",
          "3C6ai1",
          "3C6ai1",
          "3C6ai1",
          "3C6ai1",
          "3C6ai1",
          "3C6ai1"
         ],
         "legendgroup": "3C6ai1",
         "line": {
          "color": "#636efa",
          "dash": "solid"
         },
         "marker": {
          "symbol": "circle"
         },
         "mode": "lines",
         "name": "3C6ai1",
         "showlegend": true,
         "type": "scattergl",
         "x": [
          1990,
          1991,
          1992,
          1993,
          1994,
          1995,
          1996,
          1997,
          1998,
          1999,
          2000,
          2001,
          2002,
          2003,
          2004,
          2005,
          2006,
          2007,
          2008,
          2009,
          2010,
          2011,
          2012,
          2013,
          2014,
          2015,
          2016
         ],
         "xaxis": "x",
         "y": [
          0.03,
          0.03,
          0.03,
          0.03,
          0.03,
          0.03,
          0.03,
          0.03,
          0.03,
          0.03,
          0.03,
          0.03,
          0.03,
          0.03,
          0.03,
          0.03,
          0.03,
          0.03,
          0.03,
          0.03,
          0.03,
          0.03,
          0.03,
          0.03,
          0.03,
          0.03,
          0.03
         ],
         "yaxis": "y"
        },
        {
         "hovertemplate": "<b>%{hovertext}</b><br><br>fuente_de_emision_y_absorcion_id=3C6aii1<br>anio=%{x}<br>valor(MtCO2eq)=%{y}<extra></extra>",
         "hovertext": [
          "3C6aii1",
          "3C6aii1",
          "3C6aii1",
          "3C6aii1",
          "3C6aii1",
          "3C6aii1",
          "3C6aii1",
          "3C6aii1",
          "3C6aii1",
          "3C6aii1",
          "3C6aii1",
          "3C6aii1",
          "3C6aii1",
          "3C6aii1",
          "3C6aii1",
          "3C6aii1",
          "3C6aii1",
          "3C6aii1",
          "3C6aii1",
          "3C6aii1",
          "3C6aii1",
          "3C6aii1",
          "3C6aii1",
          "3C6aii1",
          "3C6aii1",
          "3C6aii1",
          "3C6aii1"
         ],
         "legendgroup": "3C6aii1",
         "line": {
          "color": "#EF553B",
          "dash": "solid"
         },
         "marker": {
          "symbol": "circle"
         },
         "mode": "lines",
         "name": "3C6aii1",
         "showlegend": true,
         "type": "scattergl",
         "x": [
          1990,
          1991,
          1992,
          1993,
          1994,
          1995,
          1996,
          1997,
          1998,
          1999,
          2000,
          2001,
          2002,
          2003,
          2004,
          2005,
          2006,
          2007,
          2008,
          2009,
          2010,
          2011,
          2012,
          2013,
          2014,
          2015,
          2016
         ],
         "xaxis": "x",
         "y": [
          0.03,
          0.03,
          0.03,
          0.03,
          0.03,
          0.03,
          0.03,
          0.03,
          0.03,
          0.03,
          0.02,
          0.04,
          0.06,
          0.08,
          0.11,
          0.12,
          0.14,
          0.16,
          0.12,
          0.12,
          0.1,
          0.1,
          0.09,
          0.09,
          0.09,
          0.09,
          0.09
         ],
         "yaxis": "y"
        },
        {
         "hovertemplate": "<b>%{hovertext}</b><br><br>fuente_de_emision_y_absorcion_id=3C6aii2<br>anio=%{x}<br>valor(MtCO2eq)=%{y}<extra></extra>",
         "hovertext": [
          "3C6aii2",
          "3C6aii2",
          "3C6aii2",
          "3C6aii2",
          "3C6aii2",
          "3C6aii2",
          "3C6aii2",
          "3C6aii2",
          "3C6aii2",
          "3C6aii2",
          "3C6aii2",
          "3C6aii2",
          "3C6aii2",
          "3C6aii2",
          "3C6aii2",
          "3C6aii2",
          "3C6aii2",
          "3C6aii2",
          "3C6aii2",
          "3C6aii2",
          "3C6aii2",
          "3C6aii2",
          "3C6aii2",
          "3C6aii2",
          "3C6aii2",
          "3C6aii2",
          "3C6aii2"
         ],
         "legendgroup": "3C6aii2",
         "line": {
          "color": "#00cc96",
          "dash": "solid"
         },
         "marker": {
          "symbol": "circle"
         },
         "mode": "lines",
         "name": "3C6aii2",
         "showlegend": true,
         "type": "scattergl",
         "x": [
          1990,
          1991,
          1992,
          1993,
          1994,
          1995,
          1996,
          1997,
          1998,
          1999,
          2000,
          2001,
          2002,
          2003,
          2004,
          2005,
          2006,
          2007,
          2008,
          2009,
          2010,
          2011,
          2012,
          2013,
          2014,
          2015,
          2016
         ],
         "xaxis": "x",
         "y": [
          0.01,
          0.01,
          0.01,
          0.01,
          0.01,
          0.01,
          0.01,
          0.01,
          0.01,
          0.01,
          0.01,
          0.02,
          0.03,
          0.04,
          0.06,
          0.07,
          0.08,
          0.09,
          0.08,
          0.07,
          0.06,
          0.06,
          0.06,
          0.06,
          0.06,
          0.05,
          0.05
         ],
         "yaxis": "y"
        },
        {
         "hovertemplate": "<b>%{hovertext}</b><br><br>fuente_de_emision_y_absorcion_id=3C6hi<br>anio=%{x}<br>valor(MtCO2eq)=%{y}<extra></extra>",
         "hovertext": [
          "3C6hi",
          "3C6hi",
          "3C6hi",
          "3C6hi",
          "3C6hi",
          "3C6hi",
          "3C6hi",
          "3C6hi",
          "3C6hi",
          "3C6hi",
          "3C6hi",
          "3C6hi",
          "3C6hi",
          "3C6hi",
          "3C6hi",
          "3C6hi",
          "3C6hi",
          "3C6hi",
          "3C6hi",
          "3C6hi",
          "3C6hi",
          "3C6hi",
          "3C6hi",
          "3C6hi",
          "3C6hi",
          "3C6hi",
          "3C6hi"
         ],
         "legendgroup": "3C6hi",
         "line": {
          "color": "#ab63fa",
          "dash": "solid"
         },
         "marker": {
          "symbol": "circle"
         },
         "mode": "lines",
         "name": "3C6hi",
         "showlegend": true,
         "type": "scattergl",
         "x": [
          1990,
          1991,
          1992,
          1993,
          1994,
          1995,
          1996,
          1997,
          1998,
          1999,
          2000,
          2001,
          2002,
          2003,
          2004,
          2005,
          2006,
          2007,
          2008,
          2009,
          2010,
          2011,
          2012,
          2013,
          2014,
          2015,
          2016
         ],
         "xaxis": "x",
         "y": [
          0.01,
          0.01,
          0.01,
          0.01,
          0.01,
          0.01,
          0.01,
          0.01,
          0.01,
          0.01,
          0.01,
          0.01,
          0.01,
          0.01,
          0.01,
          0.01,
          0.01,
          0.01,
          0.01,
          0.01,
          0.01,
          0.01,
          0.01,
          0.01,
          0.02,
          0.02,
          0.02
         ],
         "yaxis": "y"
        },
        {
         "hovertemplate": "<b>%{hovertext}</b><br><br>fuente_de_emision_y_absorcion_id=3C6hii<br>anio=%{x}<br>valor(MtCO2eq)=%{y}<extra></extra>",
         "hovertext": [
          "3C6hii",
          "3C6hii",
          "3C6hii",
          "3C6hii",
          "3C6hii",
          "3C6hii",
          "3C6hii",
          "3C6hii",
          "3C6hii",
          "3C6hii",
          "3C6hii",
          "3C6hii",
          "3C6hii",
          "3C6hii",
          "3C6hii",
          "3C6hii",
          "3C6hii",
          "3C6hii",
          "3C6hii",
          "3C6hii",
          "3C6hii",
          "3C6hii",
          "3C6hii",
          "3C6hii",
          "3C6hii",
          "3C6hii",
          "3C6hii"
         ],
         "legendgroup": "3C6hii",
         "line": {
          "color": "#FFA15A",
          "dash": "solid"
         },
         "marker": {
          "symbol": "circle"
         },
         "mode": "lines",
         "name": "3C6hii",
         "showlegend": true,
         "type": "scattergl",
         "x": [
          1990,
          1991,
          1992,
          1993,
          1994,
          1995,
          1996,
          1997,
          1998,
          1999,
          2000,
          2001,
          2002,
          2003,
          2004,
          2005,
          2006,
          2007,
          2008,
          2009,
          2010,
          2011,
          2012,
          2013,
          2014,
          2015,
          2016
         ],
         "xaxis": "x",
         "y": [
          0.01,
          0.01,
          0.01,
          0.01,
          0.01,
          0.01,
          0.01,
          0.01,
          0.01,
          0.01,
          0.01,
          0.01,
          0.01,
          0.01,
          0.01,
          0.01,
          0.01,
          0.01,
          0.01,
          0.01,
          0.01,
          0.01,
          0.01,
          0.01,
          0.01,
          0.01,
          0.01
         ],
         "yaxis": "y"
        },
        {
         "hovertemplate": "<b>%{hovertext}</b><br><br>fuente_de_emision_y_absorcion_id=3C6ii<br>anio=%{x}<br>valor(MtCO2eq)=%{y}<extra></extra>",
         "hovertext": [
          "3C6ii",
          "3C6ii",
          "3C6ii",
          "3C6ii",
          "3C6ii",
          "3C6ii",
          "3C6ii",
          "3C6ii",
          "3C6ii",
          "3C6ii",
          "3C6ii",
          "3C6ii",
          "3C6ii",
          "3C6ii",
          "3C6ii",
          "3C6ii",
          "3C6ii",
          "3C6ii",
          "3C6ii",
          "3C6ii",
          "3C6ii",
          "3C6ii",
          "3C6ii",
          "3C6ii",
          "3C6ii",
          "3C6ii",
          "3C6ii"
         ],
         "legendgroup": "3C6ii",
         "line": {
          "color": "#19d3f3",
          "dash": "solid"
         },
         "marker": {
          "symbol": "circle"
         },
         "mode": "lines",
         "name": "3C6ii",
         "showlegend": true,
         "type": "scattergl",
         "x": [
          1990,
          1991,
          1992,
          1993,
          1994,
          1995,
          1996,
          1997,
          1998,
          1999,
          2000,
          2001,
          2002,
          2003,
          2004,
          2005,
          2006,
          2007,
          2008,
          2009,
          2010,
          2011,
          2012,
          2013,
          2014,
          2015,
          2016
         ],
         "xaxis": "x",
         "y": [
          0.03,
          0.03,
          0.03,
          0.03,
          0.03,
          0.03,
          0.04,
          0.04,
          0.05,
          0.06,
          0.06,
          0.07,
          0.07,
          0.08,
          0.08,
          0.1,
          0.11,
          0.11,
          0.12,
          0.13,
          0.14,
          0.14,
          0.14,
          0.14,
          0.15,
          0.15,
          0.15
         ],
         "yaxis": "y"
        },
        {
         "hovertemplate": "<b>%{hovertext}</b><br><br>fuente_de_emision_y_absorcion_id=3C6iii<br>anio=%{x}<br>valor(MtCO2eq)=%{y}<extra></extra>",
         "hovertext": [
          "3C6iii",
          "3C6iii",
          "3C6iii",
          "3C6iii",
          "3C6iii",
          "3C6iii",
          "3C6iii",
          "3C6iii",
          "3C6iii",
          "3C6iii",
          "3C6iii",
          "3C6iii",
          "3C6iii",
          "3C6iii",
          "3C6iii",
          "3C6iii",
          "3C6iii",
          "3C6iii",
          "3C6iii",
          "3C6iii",
          "3C6iii",
          "3C6iii",
          "3C6iii",
          "3C6iii",
          "3C6iii",
          "3C6iii",
          "3C6iii"
         ],
         "legendgroup": "3C6iii",
         "line": {
          "color": "#FF6692",
          "dash": "solid"
         },
         "marker": {
          "symbol": "circle"
         },
         "mode": "lines",
         "name": "3C6iii",
         "showlegend": true,
         "type": "scattergl",
         "x": [
          1990,
          1991,
          1992,
          1993,
          1994,
          1995,
          1996,
          1997,
          1998,
          1999,
          2000,
          2001,
          2002,
          2003,
          2004,
          2005,
          2006,
          2007,
          2008,
          2009,
          2010,
          2011,
          2012,
          2013,
          2014,
          2015,
          2016
         ],
         "xaxis": "x",
         "y": [
          0,
          0,
          0,
          0,
          0,
          0.01,
          0.01,
          0.01,
          0.01,
          0.01,
          0.01,
          0.01,
          0.01,
          0.01,
          0.01,
          0.02,
          0.02,
          0.02,
          0.02,
          0.02,
          0.02,
          0.02,
          0.02,
          0.02,
          0.02,
          0.02,
          0.02
         ],
         "yaxis": "y"
        },
        {
         "hovertemplate": "<b>%{hovertext}</b><br><br>fuente_de_emision_y_absorcion_id=3C4f<br>anio=%{x}<br>valor(MtCO2eq)=%{y}<extra></extra>",
         "hovertext": [
          "3C4f",
          "3C4f",
          "3C4f",
          "3C4f",
          "3C4f",
          "3C4f",
          "3C4f",
          "3C4f",
          "3C4f",
          "3C4f",
          "3C4f",
          "3C4f",
          "3C4f",
          "3C4f",
          "3C4f",
          "3C4f",
          "3C4f",
          "3C4f",
          "3C4f",
          "3C4f",
          "3C4f",
          "3C4f",
          "3C4f",
          "3C4f",
          "3C4f",
          "3C4f"
         ],
         "legendgroup": "3C4f",
         "line": {
          "color": "#B6E880",
          "dash": "solid"
         },
         "marker": {
          "symbol": "circle"
         },
         "mode": "lines",
         "name": "3C4f",
         "showlegend": true,
         "type": "scattergl",
         "x": [
          1991,
          1992,
          1993,
          1994,
          1995,
          1996,
          1997,
          1998,
          1999,
          2000,
          2001,
          2002,
          2003,
          2004,
          2005,
          2006,
          2007,
          2008,
          2009,
          2010,
          2011,
          2012,
          2013,
          2014,
          2015,
          2016
         ],
         "xaxis": "x",
         "y": [
          1.22,
          1.58,
          1.38,
          1.39,
          1.72,
          1.88,
          2.69,
          2.44,
          2.58,
          2.41,
          2.34,
          2.31,
          2.47,
          2.65,
          2.4,
          2.38,
          2.52,
          2.68,
          2.5,
          2.78,
          3,
          2.62,
          2.58,
          2.42,
          1.94,
          1.85
         ],
         "yaxis": "y"
        },
        {
         "hovertemplate": "<b>%{hovertext}</b><br><br>fuente_de_emision_y_absorcion_id=3C5fii<br>anio=%{x}<br>valor(MtCO2eq)=%{y}<extra></extra>",
         "hovertext": [
          "3C5fii",
          "3C5fii",
          "3C5fii",
          "3C5fii",
          "3C5fii",
          "3C5fii",
          "3C5fii",
          "3C5fii",
          "3C5fii",
          "3C5fii",
          "3C5fii",
          "3C5fii",
          "3C5fii",
          "3C5fii",
          "3C5fii",
          "3C5fii",
          "3C5fii",
          "3C5fii",
          "3C5fii",
          "3C5fii",
          "3C5fii",
          "3C5fii",
          "3C5fii",
          "3C5fii",
          "3C5fii",
          "3C5fii"
         ],
         "legendgroup": "3C5fii",
         "line": {
          "color": "#FF97FF",
          "dash": "solid"
         },
         "marker": {
          "symbol": "circle"
         },
         "mode": "lines",
         "name": "3C5fii",
         "showlegend": true,
         "type": "scattergl",
         "x": [
          1991,
          1992,
          1993,
          1994,
          1995,
          1996,
          1997,
          1998,
          1999,
          2000,
          2001,
          2002,
          2003,
          2004,
          2005,
          2006,
          2007,
          2008,
          2009,
          2010,
          2011,
          2012,
          2013,
          2014,
          2015,
          2016
         ],
         "xaxis": "x",
         "y": [
          0.27,
          0.35,
          0.31,
          0.31,
          0.39,
          0.42,
          0.61,
          0.55,
          0.58,
          0.54,
          0.53,
          0.52,
          0.56,
          0.6,
          0.54,
          0.54,
          0.57,
          0.6,
          0.56,
          0.63,
          0.68,
          0.59,
          0.58,
          0.55,
          0.44,
          0.42
         ],
         "yaxis": "y"
        }
       ],
       "layout": {
        "legend": {
         "title": {
          "text": "fuente_de_emision_y_absorcion_id"
         },
         "tracegroupgap": 0
        },
        "margin": {
         "t": 60
        },
        "template": {
         "data": {
          "bar": [
           {
            "error_x": {
             "color": "#2a3f5f"
            },
            "error_y": {
             "color": "#2a3f5f"
            },
            "marker": {
             "line": {
              "color": "#E5ECF6",
              "width": 0.5
             },
             "pattern": {
              "fillmode": "overlay",
              "size": 10,
              "solidity": 0.2
             }
            },
            "type": "bar"
           }
          ],
          "barpolar": [
           {
            "marker": {
             "line": {
              "color": "#E5ECF6",
              "width": 0.5
             },
             "pattern": {
              "fillmode": "overlay",
              "size": 10,
              "solidity": 0.2
             }
            },
            "type": "barpolar"
           }
          ],
          "carpet": [
           {
            "aaxis": {
             "endlinecolor": "#2a3f5f",
             "gridcolor": "white",
             "linecolor": "white",
             "minorgridcolor": "white",
             "startlinecolor": "#2a3f5f"
            },
            "baxis": {
             "endlinecolor": "#2a3f5f",
             "gridcolor": "white",
             "linecolor": "white",
             "minorgridcolor": "white",
             "startlinecolor": "#2a3f5f"
            },
            "type": "carpet"
           }
          ],
          "choropleth": [
           {
            "colorbar": {
             "outlinewidth": 0,
             "ticks": ""
            },
            "type": "choropleth"
           }
          ],
          "contour": [
           {
            "colorbar": {
             "outlinewidth": 0,
             "ticks": ""
            },
            "colorscale": [
             [
              0,
              "#0d0887"
             ],
             [
              0.1111111111111111,
              "#46039f"
             ],
             [
              0.2222222222222222,
              "#7201a8"
             ],
             [
              0.3333333333333333,
              "#9c179e"
             ],
             [
              0.4444444444444444,
              "#bd3786"
             ],
             [
              0.5555555555555556,
              "#d8576b"
             ],
             [
              0.6666666666666666,
              "#ed7953"
             ],
             [
              0.7777777777777778,
              "#fb9f3a"
             ],
             [
              0.8888888888888888,
              "#fdca26"
             ],
             [
              1,
              "#f0f921"
             ]
            ],
            "type": "contour"
           }
          ],
          "contourcarpet": [
           {
            "colorbar": {
             "outlinewidth": 0,
             "ticks": ""
            },
            "type": "contourcarpet"
           }
          ],
          "heatmap": [
           {
            "colorbar": {
             "outlinewidth": 0,
             "ticks": ""
            },
            "colorscale": [
             [
              0,
              "#0d0887"
             ],
             [
              0.1111111111111111,
              "#46039f"
             ],
             [
              0.2222222222222222,
              "#7201a8"
             ],
             [
              0.3333333333333333,
              "#9c179e"
             ],
             [
              0.4444444444444444,
              "#bd3786"
             ],
             [
              0.5555555555555556,
              "#d8576b"
             ],
             [
              0.6666666666666666,
              "#ed7953"
             ],
             [
              0.7777777777777778,
              "#fb9f3a"
             ],
             [
              0.8888888888888888,
              "#fdca26"
             ],
             [
              1,
              "#f0f921"
             ]
            ],
            "type": "heatmap"
           }
          ],
          "heatmapgl": [
           {
            "colorbar": {
             "outlinewidth": 0,
             "ticks": ""
            },
            "colorscale": [
             [
              0,
              "#0d0887"
             ],
             [
              0.1111111111111111,
              "#46039f"
             ],
             [
              0.2222222222222222,
              "#7201a8"
             ],
             [
              0.3333333333333333,
              "#9c179e"
             ],
             [
              0.4444444444444444,
              "#bd3786"
             ],
             [
              0.5555555555555556,
              "#d8576b"
             ],
             [
              0.6666666666666666,
              "#ed7953"
             ],
             [
              0.7777777777777778,
              "#fb9f3a"
             ],
             [
              0.8888888888888888,
              "#fdca26"
             ],
             [
              1,
              "#f0f921"
             ]
            ],
            "type": "heatmapgl"
           }
          ],
          "histogram": [
           {
            "marker": {
             "pattern": {
              "fillmode": "overlay",
              "size": 10,
              "solidity": 0.2
             }
            },
            "type": "histogram"
           }
          ],
          "histogram2d": [
           {
            "colorbar": {
             "outlinewidth": 0,
             "ticks": ""
            },
            "colorscale": [
             [
              0,
              "#0d0887"
             ],
             [
              0.1111111111111111,
              "#46039f"
             ],
             [
              0.2222222222222222,
              "#7201a8"
             ],
             [
              0.3333333333333333,
              "#9c179e"
             ],
             [
              0.4444444444444444,
              "#bd3786"
             ],
             [
              0.5555555555555556,
              "#d8576b"
             ],
             [
              0.6666666666666666,
              "#ed7953"
             ],
             [
              0.7777777777777778,
              "#fb9f3a"
             ],
             [
              0.8888888888888888,
              "#fdca26"
             ],
             [
              1,
              "#f0f921"
             ]
            ],
            "type": "histogram2d"
           }
          ],
          "histogram2dcontour": [
           {
            "colorbar": {
             "outlinewidth": 0,
             "ticks": ""
            },
            "colorscale": [
             [
              0,
              "#0d0887"
             ],
             [
              0.1111111111111111,
              "#46039f"
             ],
             [
              0.2222222222222222,
              "#7201a8"
             ],
             [
              0.3333333333333333,
              "#9c179e"
             ],
             [
              0.4444444444444444,
              "#bd3786"
             ],
             [
              0.5555555555555556,
              "#d8576b"
             ],
             [
              0.6666666666666666,
              "#ed7953"
             ],
             [
              0.7777777777777778,
              "#fb9f3a"
             ],
             [
              0.8888888888888888,
              "#fdca26"
             ],
             [
              1,
              "#f0f921"
             ]
            ],
            "type": "histogram2dcontour"
           }
          ],
          "mesh3d": [
           {
            "colorbar": {
             "outlinewidth": 0,
             "ticks": ""
            },
            "type": "mesh3d"
           }
          ],
          "parcoords": [
           {
            "line": {
             "colorbar": {
              "outlinewidth": 0,
              "ticks": ""
             }
            },
            "type": "parcoords"
           }
          ],
          "pie": [
           {
            "automargin": true,
            "type": "pie"
           }
          ],
          "scatter": [
           {
            "fillpattern": {
             "fillmode": "overlay",
             "size": 10,
             "solidity": 0.2
            },
            "type": "scatter"
           }
          ],
          "scatter3d": [
           {
            "line": {
             "colorbar": {
              "outlinewidth": 0,
              "ticks": ""
             }
            },
            "marker": {
             "colorbar": {
              "outlinewidth": 0,
              "ticks": ""
             }
            },
            "type": "scatter3d"
           }
          ],
          "scattercarpet": [
           {
            "marker": {
             "colorbar": {
              "outlinewidth": 0,
              "ticks": ""
             }
            },
            "type": "scattercarpet"
           }
          ],
          "scattergeo": [
           {
            "marker": {
             "colorbar": {
              "outlinewidth": 0,
              "ticks": ""
             }
            },
            "type": "scattergeo"
           }
          ],
          "scattergl": [
           {
            "marker": {
             "colorbar": {
              "outlinewidth": 0,
              "ticks": ""
             }
            },
            "type": "scattergl"
           }
          ],
          "scattermapbox": [
           {
            "marker": {
             "colorbar": {
              "outlinewidth": 0,
              "ticks": ""
             }
            },
            "type": "scattermapbox"
           }
          ],
          "scatterpolar": [
           {
            "marker": {
             "colorbar": {
              "outlinewidth": 0,
              "ticks": ""
             }
            },
            "type": "scatterpolar"
           }
          ],
          "scatterpolargl": [
           {
            "marker": {
             "colorbar": {
              "outlinewidth": 0,
              "ticks": ""
             }
            },
            "type": "scatterpolargl"
           }
          ],
          "scatterternary": [
           {
            "marker": {
             "colorbar": {
              "outlinewidth": 0,
              "ticks": ""
             }
            },
            "type": "scatterternary"
           }
          ],
          "surface": [
           {
            "colorbar": {
             "outlinewidth": 0,
             "ticks": ""
            },
            "colorscale": [
             [
              0,
              "#0d0887"
             ],
             [
              0.1111111111111111,
              "#46039f"
             ],
             [
              0.2222222222222222,
              "#7201a8"
             ],
             [
              0.3333333333333333,
              "#9c179e"
             ],
             [
              0.4444444444444444,
              "#bd3786"
             ],
             [
              0.5555555555555556,
              "#d8576b"
             ],
             [
              0.6666666666666666,
              "#ed7953"
             ],
             [
              0.7777777777777778,
              "#fb9f3a"
             ],
             [
              0.8888888888888888,
              "#fdca26"
             ],
             [
              1,
              "#f0f921"
             ]
            ],
            "type": "surface"
           }
          ],
          "table": [
           {
            "cells": {
             "fill": {
              "color": "#EBF0F8"
             },
             "line": {
              "color": "white"
             }
            },
            "header": {
             "fill": {
              "color": "#C8D4E3"
             },
             "line": {
              "color": "white"
             }
            },
            "type": "table"
           }
          ]
         },
         "layout": {
          "annotationdefaults": {
           "arrowcolor": "#2a3f5f",
           "arrowhead": 0,
           "arrowwidth": 1
          },
          "autotypenumbers": "strict",
          "coloraxis": {
           "colorbar": {
            "outlinewidth": 0,
            "ticks": ""
           }
          },
          "colorscale": {
           "diverging": [
            [
             0,
             "#8e0152"
            ],
            [
             0.1,
             "#c51b7d"
            ],
            [
             0.2,
             "#de77ae"
            ],
            [
             0.3,
             "#f1b6da"
            ],
            [
             0.4,
             "#fde0ef"
            ],
            [
             0.5,
             "#f7f7f7"
            ],
            [
             0.6,
             "#e6f5d0"
            ],
            [
             0.7,
             "#b8e186"
            ],
            [
             0.8,
             "#7fbc41"
            ],
            [
             0.9,
             "#4d9221"
            ],
            [
             1,
             "#276419"
            ]
           ],
           "sequential": [
            [
             0,
             "#0d0887"
            ],
            [
             0.1111111111111111,
             "#46039f"
            ],
            [
             0.2222222222222222,
             "#7201a8"
            ],
            [
             0.3333333333333333,
             "#9c179e"
            ],
            [
             0.4444444444444444,
             "#bd3786"
            ],
            [
             0.5555555555555556,
             "#d8576b"
            ],
            [
             0.6666666666666666,
             "#ed7953"
            ],
            [
             0.7777777777777778,
             "#fb9f3a"
            ],
            [
             0.8888888888888888,
             "#fdca26"
            ],
            [
             1,
             "#f0f921"
            ]
           ],
           "sequentialminus": [
            [
             0,
             "#0d0887"
            ],
            [
             0.1111111111111111,
             "#46039f"
            ],
            [
             0.2222222222222222,
             "#7201a8"
            ],
            [
             0.3333333333333333,
             "#9c179e"
            ],
            [
             0.4444444444444444,
             "#bd3786"
            ],
            [
             0.5555555555555556,
             "#d8576b"
            ],
            [
             0.6666666666666666,
             "#ed7953"
            ],
            [
             0.7777777777777778,
             "#fb9f3a"
            ],
            [
             0.8888888888888888,
             "#fdca26"
            ],
            [
             1,
             "#f0f921"
            ]
           ]
          },
          "colorway": [
           "#636efa",
           "#EF553B",
           "#00cc96",
           "#ab63fa",
           "#FFA15A",
           "#19d3f3",
           "#FF6692",
           "#B6E880",
           "#FF97FF",
           "#FECB52"
          ],
          "font": {
           "color": "#2a3f5f"
          },
          "geo": {
           "bgcolor": "white",
           "lakecolor": "white",
           "landcolor": "#E5ECF6",
           "showlakes": true,
           "showland": true,
           "subunitcolor": "white"
          },
          "hoverlabel": {
           "align": "left"
          },
          "hovermode": "closest",
          "mapbox": {
           "style": "light"
          },
          "paper_bgcolor": "white",
          "plot_bgcolor": "#E5ECF6",
          "polar": {
           "angularaxis": {
            "gridcolor": "white",
            "linecolor": "white",
            "ticks": ""
           },
           "bgcolor": "#E5ECF6",
           "radialaxis": {
            "gridcolor": "white",
            "linecolor": "white",
            "ticks": ""
           }
          },
          "scene": {
           "xaxis": {
            "backgroundcolor": "#E5ECF6",
            "gridcolor": "white",
            "gridwidth": 2,
            "linecolor": "white",
            "showbackground": true,
            "ticks": "",
            "zerolinecolor": "white"
           },
           "yaxis": {
            "backgroundcolor": "#E5ECF6",
            "gridcolor": "white",
            "gridwidth": 2,
            "linecolor": "white",
            "showbackground": true,
            "ticks": "",
            "zerolinecolor": "white"
           },
           "zaxis": {
            "backgroundcolor": "#E5ECF6",
            "gridcolor": "white",
            "gridwidth": 2,
            "linecolor": "white",
            "showbackground": true,
            "ticks": "",
            "zerolinecolor": "white"
           }
          },
          "shapedefaults": {
           "line": {
            "color": "#2a3f5f"
           }
          },
          "ternary": {
           "aaxis": {
            "gridcolor": "white",
            "linecolor": "white",
            "ticks": ""
           },
           "baxis": {
            "gridcolor": "white",
            "linecolor": "white",
            "ticks": ""
           },
           "bgcolor": "#E5ECF6",
           "caxis": {
            "gridcolor": "white",
            "linecolor": "white",
            "ticks": ""
           }
          },
          "title": {
           "x": 0.05
          },
          "xaxis": {
           "automargin": true,
           "gridcolor": "white",
           "linecolor": "white",
           "ticks": "",
           "title": {
            "standoff": 15
           },
           "zerolinecolor": "white",
           "zerolinewidth": 2
          },
          "yaxis": {
           "automargin": true,
           "gridcolor": "white",
           "linecolor": "white",
           "ticks": "",
           "title": {
            "standoff": 15
           },
           "zerolinecolor": "white",
           "zerolinewidth": 2
          }
         }
        },
        "xaxis": {
         "anchor": "y",
         "domain": [
          0,
          1
         ],
         "title": {
          "text": "anio"
         }
        },
        "yaxis": {
         "anchor": "x",
         "domain": [
          0,
          1
         ],
         "title": {
          "text": "valor(MtCO2eq)"
         }
        }
       }
      }
     },
     "metadata": {},
     "output_type": "display_data"
    }
   ],
   "source": [
    "fig = px.line(df, x=\"anio\", y=\"valor(MtCO2eq)\", color=\"fuente_de_emision_y_absorcion_id\", hover_name=\"fuente_de_emision_y_absorcion_id\")\n",
    "fig.show()\n"
   ]
  },
  {
   "cell_type": "code",
   "execution_count": 6,
   "metadata": {},
   "outputs": [
    {
     "data": {
      "application/vnd.plotly.v1+json": {
       "config": {
        "plotlyServerURL": "https://plot.ly"
       },
       "data": [
        {
         "alignmentgroup": "True",
         "hovertemplate": "<b>%{hovertext}</b><br><br>fuente_de_emision_y_absorcion=%{y}<br>valor(MtCO2eq)=%{x}<extra></extra>",
         "hovertext": [
          "Directas Residuos de Cosecha"
         ],
         "legendgroup": "Directas Residuos de Cosecha",
         "marker": {
          "color": "#636efa",
          "pattern": {
           "shape": ""
          }
         },
         "name": "Directas Residuos de Cosecha",
         "offsetgroup": "Directas Residuos de Cosecha",
         "orientation": "h",
         "showlegend": true,
         "textposition": "auto",
         "type": "bar",
         "x": [
          20.86
         ],
         "xaxis": "x",
         "y": [
          "Directas Residuos de Cosecha"
         ],
         "yaxis": "y"
        },
        {
         "alignmentgroup": "True",
         "hovertemplate": "<b>%{hovertext}</b><br><br>fuente_de_emision_y_absorcion=%{y}<br>valor(MtCO2eq)=%{x}<extra></extra>",
         "hovertext": [
          "Suelos cultivados convertidos en pastizales"
         ],
         "legendgroup": "Suelos cultivados convertidos en pastizales",
         "marker": {
          "color": "#EF553B",
          "pattern": {
           "shape": ""
          }
         },
         "name": "Suelos cultivados convertidos en pastizales",
         "offsetgroup": "Suelos cultivados convertidos en pastizales",
         "orientation": "h",
         "showlegend": true,
         "textposition": "auto",
         "type": "bar",
         "x": [
          36.89
         ],
         "xaxis": "x",
         "y": [
          "Suelos cultivados convertidos en pastizales"
         ],
         "yaxis": "y"
        },
        {
         "alignmentgroup": "True",
         "hovertemplate": "<b>%{hovertext}</b><br><br>fuente_de_emision_y_absorcion=%{y}<br>valor(MtCO2eq)=%{x}<extra></extra>",
         "hovertext": [
          "Variacion de materia organica del suelo (Carbono) "
         ],
         "legendgroup": "Variacion de materia organica del suelo (Carbono) ",
         "marker": {
          "color": "#00cc96",
          "pattern": {
           "shape": ""
          }
         },
         "name": "Variacion de materia organica del suelo (Carbono) ",
         "offsetgroup": "Variacion de materia organica del suelo (Carbono) ",
         "orientation": "h",
         "showlegend": true,
         "textposition": "auto",
         "type": "bar",
         "x": [
          373.53
         ],
         "xaxis": "x",
         "y": [
          "Variacion de materia organica del suelo (Carbono) "
         ],
         "yaxis": "y"
        },
        {
         "alignmentgroup": "True",
         "hovertemplate": "<b>%{hovertext}</b><br><br>fuente_de_emision_y_absorcion=%{y}<br>valor(MtCO2eq)=%{x}<extra></extra>",
         "hovertext": [
          "Tierras forestales que permanecen como tales (Remocion Bosque Cultivado)"
         ],
         "legendgroup": "Tierras forestales que permanecen como tales (Remocion Bosque Cultivado)",
         "marker": {
          "color": "#ab63fa",
          "pattern": {
           "shape": ""
          }
         },
         "name": "Tierras forestales que permanecen como tales (Remocion Bosque Cultivado)",
         "offsetgroup": "Tierras forestales que permanecen como tales (Remocion Bosque Cultivado)",
         "orientation": "h",
         "showlegend": true,
         "textposition": "auto",
         "type": "bar",
         "x": [
          377.08
         ],
         "xaxis": "x",
         "y": [
          "Tierras forestales que permanecen como tales (Remocion Bosque Cultivado)"
         ],
         "yaxis": "y"
        },
        {
         "alignmentgroup": "True",
         "hovertemplate": "<b>%{hovertext}</b><br><br>fuente_de_emision_y_absorcion=%{y}<br>valor(MtCO2eq)=%{x}<extra></extra>",
         "hovertext": [
          "Directas excretas en pasturas Bovinos de Carne"
         ],
         "legendgroup": "Directas excretas en pasturas Bovinos de Carne",
         "marker": {
          "color": "#FFA15A",
          "pattern": {
           "shape": ""
          }
         },
         "name": "Directas excretas en pasturas Bovinos de Carne",
         "offsetgroup": "Directas excretas en pasturas Bovinos de Carne",
         "orientation": "h",
         "showlegend": true,
         "textposition": "auto",
         "type": "bar",
         "x": [
          432.49
         ],
         "xaxis": "x",
         "y": [
          "Directas excretas en pasturas Bovinos de Carne"
         ],
         "yaxis": "y"
        },
        {
         "alignmentgroup": "True",
         "hovertemplate": "<b>%{hovertext}</b><br><br>fuente_de_emision_y_absorcion=%{y}<br>valor(MtCO2eq)=%{x}<extra></extra>",
         "hovertext": [
          "Tierras forestales que permanecen como tales (emision Bosque Nativo)"
         ],
         "legendgroup": "Tierras forestales que permanecen como tales (emision Bosque Nativo)",
         "marker": {
          "color": "#19d3f3",
          "pattern": {
           "shape": ""
          }
         },
         "name": "Tierras forestales que permanecen como tales (emision Bosque Nativo)",
         "offsetgroup": "Tierras forestales que permanecen como tales (emision Bosque Nativo)",
         "orientation": "h",
         "showlegend": true,
         "textposition": "auto",
         "type": "bar",
         "x": [
          503.22
         ],
         "xaxis": "x",
         "y": [
          "Tierras forestales que permanecen como tales (emision Bosque Nativo)"
         ],
         "yaxis": "y"
        },
        {
         "alignmentgroup": "True",
         "hovertemplate": "<b>%{hovertext}</b><br><br>fuente_de_emision_y_absorcion=%{y}<br>valor(MtCO2eq)=%{x}<extra></extra>",
         "hovertext": [
          "Tierras forestales convertidas en suelos cultivados"
         ],
         "legendgroup": "Tierras forestales convertidas en suelos cultivados",
         "marker": {
          "color": "#FF6692",
          "pattern": {
           "shape": ""
          }
         },
         "name": "Tierras forestales convertidas en suelos cultivados",
         "offsetgroup": "Tierras forestales convertidas en suelos cultivados",
         "orientation": "h",
         "showlegend": true,
         "textposition": "auto",
         "type": "bar",
         "x": [
          852.06
         ],
         "xaxis": "x",
         "y": [
          "Tierras forestales convertidas en suelos cultivados"
         ],
         "yaxis": "y"
        },
        {
         "alignmentgroup": "True",
         "hovertemplate": "<b>%{hovertext}</b><br><br>fuente_de_emision_y_absorcion=%{y}<br>valor(MtCO2eq)=%{x}<extra></extra>",
         "hovertext": [
          "Fermentacion enterica Bovinos de Carne"
         ],
         "legendgroup": "Fermentacion enterica Bovinos de Carne",
         "marker": {
          "color": "#B6E880",
          "pattern": {
           "shape": ""
          }
         },
         "name": "Fermentacion enterica Bovinos de Carne",
         "offsetgroup": "Fermentacion enterica Bovinos de Carne",
         "orientation": "h",
         "showlegend": true,
         "textposition": "auto",
         "type": "bar",
         "x": [
          1289.56
         ],
         "xaxis": "x",
         "y": [
          "Fermentacion enterica Bovinos de Carne"
         ],
         "yaxis": "y"
        },
        {
         "alignmentgroup": "True",
         "hovertemplate": "<b>%{hovertext}</b><br><br>fuente_de_emision_y_absorcion=%{y}<br>valor(MtCO2eq)=%{x}<extra></extra>",
         "hovertext": [
          "Tierras forestales convertidas en pastizales"
         ],
         "legendgroup": "Tierras forestales convertidas en pastizales",
         "marker": {
          "color": "#FF97FF",
          "pattern": {
           "shape": ""
          }
         },
         "name": "Tierras forestales convertidas en pastizales",
         "offsetgroup": "Tierras forestales convertidas en pastizales",
         "orientation": "h",
         "showlegend": true,
         "textposition": "auto",
         "type": "bar",
         "x": [
          1346.97
         ],
         "xaxis": "x",
         "y": [
          "Tierras forestales convertidas en pastizales"
         ],
         "yaxis": "y"
        }
       ],
       "layout": {
        "barmode": "relative",
        "legend": {
         "title": {
          "text": "fuente_de_emision_y_absorcion"
         },
         "tracegroupgap": 0
        },
        "margin": {
         "t": 60
        },
        "template": {
         "data": {
          "bar": [
           {
            "error_x": {
             "color": "#2a3f5f"
            },
            "error_y": {
             "color": "#2a3f5f"
            },
            "marker": {
             "line": {
              "color": "#E5ECF6",
              "width": 0.5
             },
             "pattern": {
              "fillmode": "overlay",
              "size": 10,
              "solidity": 0.2
             }
            },
            "type": "bar"
           }
          ],
          "barpolar": [
           {
            "marker": {
             "line": {
              "color": "#E5ECF6",
              "width": 0.5
             },
             "pattern": {
              "fillmode": "overlay",
              "size": 10,
              "solidity": 0.2
             }
            },
            "type": "barpolar"
           }
          ],
          "carpet": [
           {
            "aaxis": {
             "endlinecolor": "#2a3f5f",
             "gridcolor": "white",
             "linecolor": "white",
             "minorgridcolor": "white",
             "startlinecolor": "#2a3f5f"
            },
            "baxis": {
             "endlinecolor": "#2a3f5f",
             "gridcolor": "white",
             "linecolor": "white",
             "minorgridcolor": "white",
             "startlinecolor": "#2a3f5f"
            },
            "type": "carpet"
           }
          ],
          "choropleth": [
           {
            "colorbar": {
             "outlinewidth": 0,
             "ticks": ""
            },
            "type": "choropleth"
           }
          ],
          "contour": [
           {
            "colorbar": {
             "outlinewidth": 0,
             "ticks": ""
            },
            "colorscale": [
             [
              0,
              "#0d0887"
             ],
             [
              0.1111111111111111,
              "#46039f"
             ],
             [
              0.2222222222222222,
              "#7201a8"
             ],
             [
              0.3333333333333333,
              "#9c179e"
             ],
             [
              0.4444444444444444,
              "#bd3786"
             ],
             [
              0.5555555555555556,
              "#d8576b"
             ],
             [
              0.6666666666666666,
              "#ed7953"
             ],
             [
              0.7777777777777778,
              "#fb9f3a"
             ],
             [
              0.8888888888888888,
              "#fdca26"
             ],
             [
              1,
              "#f0f921"
             ]
            ],
            "type": "contour"
           }
          ],
          "contourcarpet": [
           {
            "colorbar": {
             "outlinewidth": 0,
             "ticks": ""
            },
            "type": "contourcarpet"
           }
          ],
          "heatmap": [
           {
            "colorbar": {
             "outlinewidth": 0,
             "ticks": ""
            },
            "colorscale": [
             [
              0,
              "#0d0887"
             ],
             [
              0.1111111111111111,
              "#46039f"
             ],
             [
              0.2222222222222222,
              "#7201a8"
             ],
             [
              0.3333333333333333,
              "#9c179e"
             ],
             [
              0.4444444444444444,
              "#bd3786"
             ],
             [
              0.5555555555555556,
              "#d8576b"
             ],
             [
              0.6666666666666666,
              "#ed7953"
             ],
             [
              0.7777777777777778,
              "#fb9f3a"
             ],
             [
              0.8888888888888888,
              "#fdca26"
             ],
             [
              1,
              "#f0f921"
             ]
            ],
            "type": "heatmap"
           }
          ],
          "heatmapgl": [
           {
            "colorbar": {
             "outlinewidth": 0,
             "ticks": ""
            },
            "colorscale": [
             [
              0,
              "#0d0887"
             ],
             [
              0.1111111111111111,
              "#46039f"
             ],
             [
              0.2222222222222222,
              "#7201a8"
             ],
             [
              0.3333333333333333,
              "#9c179e"
             ],
             [
              0.4444444444444444,
              "#bd3786"
             ],
             [
              0.5555555555555556,
              "#d8576b"
             ],
             [
              0.6666666666666666,
              "#ed7953"
             ],
             [
              0.7777777777777778,
              "#fb9f3a"
             ],
             [
              0.8888888888888888,
              "#fdca26"
             ],
             [
              1,
              "#f0f921"
             ]
            ],
            "type": "heatmapgl"
           }
          ],
          "histogram": [
           {
            "marker": {
             "pattern": {
              "fillmode": "overlay",
              "size": 10,
              "solidity": 0.2
             }
            },
            "type": "histogram"
           }
          ],
          "histogram2d": [
           {
            "colorbar": {
             "outlinewidth": 0,
             "ticks": ""
            },
            "colorscale": [
             [
              0,
              "#0d0887"
             ],
             [
              0.1111111111111111,
              "#46039f"
             ],
             [
              0.2222222222222222,
              "#7201a8"
             ],
             [
              0.3333333333333333,
              "#9c179e"
             ],
             [
              0.4444444444444444,
              "#bd3786"
             ],
             [
              0.5555555555555556,
              "#d8576b"
             ],
             [
              0.6666666666666666,
              "#ed7953"
             ],
             [
              0.7777777777777778,
              "#fb9f3a"
             ],
             [
              0.8888888888888888,
              "#fdca26"
             ],
             [
              1,
              "#f0f921"
             ]
            ],
            "type": "histogram2d"
           }
          ],
          "histogram2dcontour": [
           {
            "colorbar": {
             "outlinewidth": 0,
             "ticks": ""
            },
            "colorscale": [
             [
              0,
              "#0d0887"
             ],
             [
              0.1111111111111111,
              "#46039f"
             ],
             [
              0.2222222222222222,
              "#7201a8"
             ],
             [
              0.3333333333333333,
              "#9c179e"
             ],
             [
              0.4444444444444444,
              "#bd3786"
             ],
             [
              0.5555555555555556,
              "#d8576b"
             ],
             [
              0.6666666666666666,
              "#ed7953"
             ],
             [
              0.7777777777777778,
              "#fb9f3a"
             ],
             [
              0.8888888888888888,
              "#fdca26"
             ],
             [
              1,
              "#f0f921"
             ]
            ],
            "type": "histogram2dcontour"
           }
          ],
          "mesh3d": [
           {
            "colorbar": {
             "outlinewidth": 0,
             "ticks": ""
            },
            "type": "mesh3d"
           }
          ],
          "parcoords": [
           {
            "line": {
             "colorbar": {
              "outlinewidth": 0,
              "ticks": ""
             }
            },
            "type": "parcoords"
           }
          ],
          "pie": [
           {
            "automargin": true,
            "type": "pie"
           }
          ],
          "scatter": [
           {
            "fillpattern": {
             "fillmode": "overlay",
             "size": 10,
             "solidity": 0.2
            },
            "type": "scatter"
           }
          ],
          "scatter3d": [
           {
            "line": {
             "colorbar": {
              "outlinewidth": 0,
              "ticks": ""
             }
            },
            "marker": {
             "colorbar": {
              "outlinewidth": 0,
              "ticks": ""
             }
            },
            "type": "scatter3d"
           }
          ],
          "scattercarpet": [
           {
            "marker": {
             "colorbar": {
              "outlinewidth": 0,
              "ticks": ""
             }
            },
            "type": "scattercarpet"
           }
          ],
          "scattergeo": [
           {
            "marker": {
             "colorbar": {
              "outlinewidth": 0,
              "ticks": ""
             }
            },
            "type": "scattergeo"
           }
          ],
          "scattergl": [
           {
            "marker": {
             "colorbar": {
              "outlinewidth": 0,
              "ticks": ""
             }
            },
            "type": "scattergl"
           }
          ],
          "scattermapbox": [
           {
            "marker": {
             "colorbar": {
              "outlinewidth": 0,
              "ticks": ""
             }
            },
            "type": "scattermapbox"
           }
          ],
          "scatterpolar": [
           {
            "marker": {
             "colorbar": {
              "outlinewidth": 0,
              "ticks": ""
             }
            },
            "type": "scatterpolar"
           }
          ],
          "scatterpolargl": [
           {
            "marker": {
             "colorbar": {
              "outlinewidth": 0,
              "ticks": ""
             }
            },
            "type": "scatterpolargl"
           }
          ],
          "scatterternary": [
           {
            "marker": {
             "colorbar": {
              "outlinewidth": 0,
              "ticks": ""
             }
            },
            "type": "scatterternary"
           }
          ],
          "surface": [
           {
            "colorbar": {
             "outlinewidth": 0,
             "ticks": ""
            },
            "colorscale": [
             [
              0,
              "#0d0887"
             ],
             [
              0.1111111111111111,
              "#46039f"
             ],
             [
              0.2222222222222222,
              "#7201a8"
             ],
             [
              0.3333333333333333,
              "#9c179e"
             ],
             [
              0.4444444444444444,
              "#bd3786"
             ],
             [
              0.5555555555555556,
              "#d8576b"
             ],
             [
              0.6666666666666666,
              "#ed7953"
             ],
             [
              0.7777777777777778,
              "#fb9f3a"
             ],
             [
              0.8888888888888888,
              "#fdca26"
             ],
             [
              1,
              "#f0f921"
             ]
            ],
            "type": "surface"
           }
          ],
          "table": [
           {
            "cells": {
             "fill": {
              "color": "#EBF0F8"
             },
             "line": {
              "color": "white"
             }
            },
            "header": {
             "fill": {
              "color": "#C8D4E3"
             },
             "line": {
              "color": "white"
             }
            },
            "type": "table"
           }
          ]
         },
         "layout": {
          "annotationdefaults": {
           "arrowcolor": "#2a3f5f",
           "arrowhead": 0,
           "arrowwidth": 1
          },
          "autotypenumbers": "strict",
          "coloraxis": {
           "colorbar": {
            "outlinewidth": 0,
            "ticks": ""
           }
          },
          "colorscale": {
           "diverging": [
            [
             0,
             "#8e0152"
            ],
            [
             0.1,
             "#c51b7d"
            ],
            [
             0.2,
             "#de77ae"
            ],
            [
             0.3,
             "#f1b6da"
            ],
            [
             0.4,
             "#fde0ef"
            ],
            [
             0.5,
             "#f7f7f7"
            ],
            [
             0.6,
             "#e6f5d0"
            ],
            [
             0.7,
             "#b8e186"
            ],
            [
             0.8,
             "#7fbc41"
            ],
            [
             0.9,
             "#4d9221"
            ],
            [
             1,
             "#276419"
            ]
           ],
           "sequential": [
            [
             0,
             "#0d0887"
            ],
            [
             0.1111111111111111,
             "#46039f"
            ],
            [
             0.2222222222222222,
             "#7201a8"
            ],
            [
             0.3333333333333333,
             "#9c179e"
            ],
            [
             0.4444444444444444,
             "#bd3786"
            ],
            [
             0.5555555555555556,
             "#d8576b"
            ],
            [
             0.6666666666666666,
             "#ed7953"
            ],
            [
             0.7777777777777778,
             "#fb9f3a"
            ],
            [
             0.8888888888888888,
             "#fdca26"
            ],
            [
             1,
             "#f0f921"
            ]
           ],
           "sequentialminus": [
            [
             0,
             "#0d0887"
            ],
            [
             0.1111111111111111,
             "#46039f"
            ],
            [
             0.2222222222222222,
             "#7201a8"
            ],
            [
             0.3333333333333333,
             "#9c179e"
            ],
            [
             0.4444444444444444,
             "#bd3786"
            ],
            [
             0.5555555555555556,
             "#d8576b"
            ],
            [
             0.6666666666666666,
             "#ed7953"
            ],
            [
             0.7777777777777778,
             "#fb9f3a"
            ],
            [
             0.8888888888888888,
             "#fdca26"
            ],
            [
             1,
             "#f0f921"
            ]
           ]
          },
          "colorway": [
           "#636efa",
           "#EF553B",
           "#00cc96",
           "#ab63fa",
           "#FFA15A",
           "#19d3f3",
           "#FF6692",
           "#B6E880",
           "#FF97FF",
           "#FECB52"
          ],
          "font": {
           "color": "#2a3f5f"
          },
          "geo": {
           "bgcolor": "white",
           "lakecolor": "white",
           "landcolor": "#E5ECF6",
           "showlakes": true,
           "showland": true,
           "subunitcolor": "white"
          },
          "hoverlabel": {
           "align": "left"
          },
          "hovermode": "closest",
          "mapbox": {
           "style": "light"
          },
          "paper_bgcolor": "white",
          "plot_bgcolor": "#E5ECF6",
          "polar": {
           "angularaxis": {
            "gridcolor": "white",
            "linecolor": "white",
            "ticks": ""
           },
           "bgcolor": "#E5ECF6",
           "radialaxis": {
            "gridcolor": "white",
            "linecolor": "white",
            "ticks": ""
           }
          },
          "scene": {
           "xaxis": {
            "backgroundcolor": "#E5ECF6",
            "gridcolor": "white",
            "gridwidth": 2,
            "linecolor": "white",
            "showbackground": true,
            "ticks": "",
            "zerolinecolor": "white"
           },
           "yaxis": {
            "backgroundcolor": "#E5ECF6",
            "gridcolor": "white",
            "gridwidth": 2,
            "linecolor": "white",
            "showbackground": true,
            "ticks": "",
            "zerolinecolor": "white"
           },
           "zaxis": {
            "backgroundcolor": "#E5ECF6",
            "gridcolor": "white",
            "gridwidth": 2,
            "linecolor": "white",
            "showbackground": true,
            "ticks": "",
            "zerolinecolor": "white"
           }
          },
          "shapedefaults": {
           "line": {
            "color": "#2a3f5f"
           }
          },
          "ternary": {
           "aaxis": {
            "gridcolor": "white",
            "linecolor": "white",
            "ticks": ""
           },
           "baxis": {
            "gridcolor": "white",
            "linecolor": "white",
            "ticks": ""
           },
           "bgcolor": "#E5ECF6",
           "caxis": {
            "gridcolor": "white",
            "linecolor": "white",
            "ticks": ""
           }
          },
          "title": {
           "x": 0.05
          },
          "xaxis": {
           "automargin": true,
           "gridcolor": "white",
           "linecolor": "white",
           "ticks": "",
           "title": {
            "standoff": 15
           },
           "zerolinecolor": "white",
           "zerolinewidth": 2
          },
          "yaxis": {
           "automargin": true,
           "gridcolor": "white",
           "linecolor": "white",
           "ticks": "",
           "title": {
            "standoff": 15
           },
           "zerolinecolor": "white",
           "zerolinewidth": 2
          }
         }
        },
        "xaxis": {
         "anchor": "y",
         "domain": [
          0,
          1
         ],
         "title": {
          "text": "valor(MtCO2eq)"
         }
        },
        "yaxis": {
         "anchor": "x",
         "categoryarray": [
          "Tierras forestales convertidas en pastizales",
          "Fermentacion enterica Bovinos de Carne",
          "Tierras forestales convertidas en suelos cultivados",
          "Tierras forestales que permanecen como tales (emision Bosque Nativo)",
          "Directas excretas en pasturas Bovinos de Carne",
          "Tierras forestales que permanecen como tales (Remocion Bosque Cultivado)",
          "Variacion de materia organica del suelo (Carbono) ",
          "Suelos cultivados convertidos en pastizales",
          "Directas Residuos de Cosecha"
         ],
         "categoryorder": "array",
         "domain": [
          0,
          1
         ],
         "title": {
          "text": "fuente_de_emision_y_absorcion"
         }
        }
       }
      }
     },
     "metadata": {},
     "output_type": "display_data"
    }
   ],
   "source": [
    "#Gases emitidos\n",
    "gases_emitidos = df[df['valor(MtCO2eq)'] > 10]\n",
    "gases_emitidos = gases_emitidos.groupby('fuente_de_emision_y_absorcion', as_index = False).agg({'valor(MtCO2eq)':'sum'}).sort_values('valor(MtCO2eq)')\n",
    "fig = px.bar(gases_emitidos, x=\"valor(MtCO2eq)\", y=\"fuente_de_emision_y_absorcion\", color=\"fuente_de_emision_y_absorcion\", hover_name=\"fuente_de_emision_y_absorcion\")\n",
    "fig.show()"
   ]
  },
  {
   "cell_type": "code",
   "execution_count": 11,
   "metadata": {},
   "outputs": [
    {
     "data": {
      "application/vnd.plotly.v1+json": {
       "config": {
        "plotlyServerURL": "https://plot.ly"
       },
       "data": [
        {
         "fillpattern": {
          "shape": ""
         },
         "hovertemplate": "<b>%{hovertext}</b><br><br>fuente_de_emision_y_absorcion=Tierras forestales que permanecen como tales (Remocion Bosque Cultivado)<br>anio=%{x}<br>valor(MtCO2eq)=%{y}<extra></extra>",
         "hovertext": [
          "Tierras forestales que permanecen como tales (Remocion Bosque Cultivado)",
          "Tierras forestales que permanecen como tales (Remocion Bosque Cultivado)",
          "Tierras forestales que permanecen como tales (Remocion Bosque Cultivado)",
          "Tierras forestales que permanecen como tales (Remocion Bosque Cultivado)",
          "Tierras forestales que permanecen como tales (Remocion Bosque Cultivado)",
          "Tierras forestales que permanecen como tales (Remocion Bosque Cultivado)",
          "Tierras forestales que permanecen como tales (Remocion Bosque Cultivado)",
          "Tierras forestales que permanecen como tales (Remocion Bosque Cultivado)",
          "Tierras forestales que permanecen como tales (Remocion Bosque Cultivado)",
          "Tierras forestales que permanecen como tales (Remocion Bosque Cultivado)",
          "Tierras forestales que permanecen como tales (Remocion Bosque Cultivado)",
          "Tierras forestales que permanecen como tales (Remocion Bosque Cultivado)",
          "Tierras forestales que permanecen como tales (Remocion Bosque Cultivado)",
          "Tierras forestales que permanecen como tales (Remocion Bosque Cultivado)",
          "Tierras forestales que permanecen como tales (Remocion Bosque Cultivado)",
          "Tierras forestales que permanecen como tales (Remocion Bosque Cultivado)",
          "Tierras forestales que permanecen como tales (Remocion Bosque Cultivado)",
          "Tierras forestales que permanecen como tales (Remocion Bosque Cultivado)",
          "Tierras forestales que permanecen como tales (Remocion Bosque Cultivado)",
          "Tierras forestales que permanecen como tales (Remocion Bosque Cultivado)",
          "Tierras forestales que permanecen como tales (Remocion Bosque Cultivado)",
          "Tierras forestales que permanecen como tales (Remocion Bosque Cultivado)",
          "Tierras forestales que permanecen como tales (Remocion Bosque Cultivado)",
          "Tierras forestales que permanecen como tales (Remocion Bosque Cultivado)"
         ],
         "legendgroup": "Tierras forestales que permanecen como tales (Remocion Bosque Cultivado)",
         "line": {
          "color": "#636efa"
         },
         "marker": {
          "symbol": "circle"
         },
         "mode": "lines",
         "name": "Tierras forestales que permanecen como tales (Remocion Bosque Cultivado)",
         "orientation": "v",
         "showlegend": true,
         "stackgroup": "1",
         "type": "scatter",
         "x": [
          1993,
          2001,
          1991,
          1995,
          1998,
          1992,
          2000,
          1996,
          2002,
          2008,
          2003,
          2004,
          2007,
          2006,
          2005,
          1997,
          2009,
          2011,
          2010,
          2014,
          2015,
          2016,
          2012,
          2013
         ],
         "xaxis": "x",
         "y": [
          10.03,
          10.23,
          11.2,
          11.68,
          12.29,
          12.63,
          12.68,
          12.8,
          14.61,
          14.64,
          15.42,
          15.54,
          15.59,
          15.7,
          15.75,
          16.26,
          16.89,
          18.32,
          18.48,
          18.98,
          20.25,
          21.62,
          21.97,
          23.52
         ],
         "yaxis": "y"
        },
        {
         "fillpattern": {
          "shape": ""
         },
         "hovertemplate": "<b>%{hovertext}</b><br><br>fuente_de_emision_y_absorcion=Suelos cultivados convertidos en pastizales<br>anio=%{x}<br>valor(MtCO2eq)=%{y}<extra></extra>",
         "hovertext": [
          "Suelos cultivados convertidos en pastizales",
          "Suelos cultivados convertidos en pastizales",
          "Suelos cultivados convertidos en pastizales"
         ],
         "legendgroup": "Suelos cultivados convertidos en pastizales",
         "line": {
          "color": "#EF553B"
         },
         "marker": {
          "symbol": "circle"
         },
         "mode": "lines",
         "name": "Suelos cultivados convertidos en pastizales",
         "orientation": "v",
         "showlegend": true,
         "stackgroup": "1",
         "type": "scatter",
         "x": [
          2014,
          2013,
          1991
         ],
         "xaxis": "x",
         "y": [
          10.22,
          11.14,
          15.53
         ],
         "yaxis": "y"
        },
        {
         "fillpattern": {
          "shape": ""
         },
         "hovertemplate": "<b>%{hovertext}</b><br><br>fuente_de_emision_y_absorcion=Directas Residuos de Cosecha<br>anio=%{x}<br>valor(MtCO2eq)=%{y}<extra></extra>",
         "hovertext": [
          "Directas Residuos de Cosecha",
          "Directas Residuos de Cosecha"
         ],
         "legendgroup": "Directas Residuos de Cosecha",
         "line": {
          "color": "#00cc96"
         },
         "marker": {
          "symbol": "circle"
         },
         "mode": "lines",
         "name": "Directas Residuos de Cosecha",
         "orientation": "v",
         "showlegend": true,
         "stackgroup": "1",
         "type": "scatter",
         "x": [
          2015,
          2016
         ],
         "xaxis": "x",
         "y": [
          10.36,
          10.5
         ],
         "yaxis": "y"
        },
        {
         "fillpattern": {
          "shape": ""
         },
         "hovertemplate": "<b>%{hovertext}</b><br><br>fuente_de_emision_y_absorcion=Variacion de materia organica del suelo (Carbono) <br>anio=%{x}<br>valor(MtCO2eq)=%{y}<extra></extra>",
         "hovertext": [
          "Variacion de materia organica del suelo (Carbono) ",
          "Variacion de materia organica del suelo (Carbono) ",
          "Variacion de materia organica del suelo (Carbono) ",
          "Variacion de materia organica del suelo (Carbono) ",
          "Variacion de materia organica del suelo (Carbono) ",
          "Variacion de materia organica del suelo (Carbono) ",
          "Variacion de materia organica del suelo (Carbono) ",
          "Variacion de materia organica del suelo (Carbono) ",
          "Variacion de materia organica del suelo (Carbono) ",
          "Variacion de materia organica del suelo (Carbono) ",
          "Variacion de materia organica del suelo (Carbono) ",
          "Variacion de materia organica del suelo (Carbono) ",
          "Variacion de materia organica del suelo (Carbono) ",
          "Variacion de materia organica del suelo (Carbono) ",
          "Variacion de materia organica del suelo (Carbono) ",
          "Variacion de materia organica del suelo (Carbono) ",
          "Variacion de materia organica del suelo (Carbono) ",
          "Variacion de materia organica del suelo (Carbono) ",
          "Variacion de materia organica del suelo (Carbono) ",
          "Variacion de materia organica del suelo (Carbono) "
         ],
         "legendgroup": "Variacion de materia organica del suelo (Carbono) ",
         "line": {
          "color": "#ab63fa"
         },
         "marker": {
          "symbol": "circle"
         },
         "mode": "lines",
         "name": "Variacion de materia organica del suelo (Carbono) ",
         "orientation": "v",
         "showlegend": true,
         "stackgroup": "1",
         "type": "scatter",
         "x": [
          2015,
          2006,
          2009,
          1996,
          2007,
          2005,
          2012,
          2008,
          2014,
          2002,
          2010,
          2003,
          2013,
          2001,
          2004,
          2000,
          2011,
          1998,
          1999,
          1997
         ],
         "xaxis": "x",
         "y": [
          10.8,
          13.4,
          13.51,
          14.17,
          16.47,
          16.63,
          17.32,
          17.74,
          17.79,
          18.67,
          19.4,
          19.57,
          19.74,
          19.82,
          20.97,
          21.77,
          21.83,
          23.4,
          24.19,
          26.34
         ],
         "yaxis": "y"
        },
        {
         "fillpattern": {
          "shape": ""
         },
         "hovertemplate": "<b>%{hovertext}</b><br><br>fuente_de_emision_y_absorcion=Tierras forestales que permanecen como tales (emision Bosque Nativo)<br>anio=%{x}<br>valor(MtCO2eq)=%{y}<extra></extra>",
         "hovertext": [
          "Tierras forestales que permanecen como tales (emision Bosque Nativo)",
          "Tierras forestales que permanecen como tales (emision Bosque Nativo)",
          "Tierras forestales que permanecen como tales (emision Bosque Nativo)",
          "Tierras forestales que permanecen como tales (emision Bosque Nativo)",
          "Tierras forestales que permanecen como tales (emision Bosque Nativo)",
          "Tierras forestales que permanecen como tales (emision Bosque Nativo)",
          "Tierras forestales que permanecen como tales (emision Bosque Nativo)",
          "Tierras forestales que permanecen como tales (emision Bosque Nativo)",
          "Tierras forestales que permanecen como tales (emision Bosque Nativo)",
          "Tierras forestales que permanecen como tales (emision Bosque Nativo)",
          "Tierras forestales que permanecen como tales (emision Bosque Nativo)",
          "Tierras forestales que permanecen como tales (emision Bosque Nativo)",
          "Tierras forestales que permanecen como tales (emision Bosque Nativo)",
          "Tierras forestales que permanecen como tales (emision Bosque Nativo)",
          "Tierras forestales que permanecen como tales (emision Bosque Nativo)",
          "Tierras forestales que permanecen como tales (emision Bosque Nativo)",
          "Tierras forestales que permanecen como tales (emision Bosque Nativo)",
          "Tierras forestales que permanecen como tales (emision Bosque Nativo)",
          "Tierras forestales que permanecen como tales (emision Bosque Nativo)",
          "Tierras forestales que permanecen como tales (emision Bosque Nativo)",
          "Tierras forestales que permanecen como tales (emision Bosque Nativo)",
          "Tierras forestales que permanecen como tales (emision Bosque Nativo)",
          "Tierras forestales que permanecen como tales (emision Bosque Nativo)",
          "Tierras forestales que permanecen como tales (emision Bosque Nativo)",
          "Tierras forestales que permanecen como tales (emision Bosque Nativo)",
          "Tierras forestales que permanecen como tales (emision Bosque Nativo)",
          "Tierras forestales que permanecen como tales (emision Bosque Nativo)"
         ],
         "legendgroup": "Tierras forestales que permanecen como tales (emision Bosque Nativo)",
         "line": {
          "color": "#FFA15A"
         },
         "marker": {
          "symbol": "circle"
         },
         "mode": "lines",
         "name": "Tierras forestales que permanecen como tales (emision Bosque Nativo)",
         "orientation": "v",
         "showlegend": true,
         "stackgroup": "1",
         "type": "scatter",
         "x": [
          1990,
          1991,
          1995,
          2002,
          1993,
          2000,
          1997,
          1992,
          1996,
          2014,
          2001,
          2015,
          2012,
          1994,
          2013,
          2005,
          2006,
          2003,
          1999,
          2009,
          2007,
          2008,
          2010,
          2016,
          2011,
          1998,
          2004
         ],
         "xaxis": "x",
         "y": [
          11.73,
          14.75,
          15.06,
          15.66,
          15.72,
          16.18,
          16.57,
          16.8,
          16.88,
          16.88,
          17.11,
          17.33,
          17.34,
          17.76,
          18.66,
          18.98,
          19.31,
          19.79,
          19.88,
          21.16,
          21.27,
          21.27,
          21.28,
          21.84,
          22.06,
          22.42,
          29.53
         ],
         "yaxis": "y"
        },
        {
         "fillpattern": {
          "shape": ""
         },
         "hovertemplate": "<b>%{hovertext}</b><br><br>fuente_de_emision_y_absorcion=Directas excretas en pasturas Bovinos de Carne<br>anio=%{x}<br>valor(MtCO2eq)=%{y}<extra></extra>",
         "hovertext": [
          "Directas excretas en pasturas Bovinos de Carne",
          "Directas excretas en pasturas Bovinos de Carne",
          "Directas excretas en pasturas Bovinos de Carne",
          "Directas excretas en pasturas Bovinos de Carne",
          "Directas excretas en pasturas Bovinos de Carne",
          "Directas excretas en pasturas Bovinos de Carne",
          "Directas excretas en pasturas Bovinos de Carne",
          "Directas excretas en pasturas Bovinos de Carne",
          "Directas excretas en pasturas Bovinos de Carne",
          "Directas excretas en pasturas Bovinos de Carne",
          "Directas excretas en pasturas Bovinos de Carne",
          "Directas excretas en pasturas Bovinos de Carne",
          "Directas excretas en pasturas Bovinos de Carne",
          "Directas excretas en pasturas Bovinos de Carne",
          "Directas excretas en pasturas Bovinos de Carne",
          "Directas excretas en pasturas Bovinos de Carne",
          "Directas excretas en pasturas Bovinos de Carne",
          "Directas excretas en pasturas Bovinos de Carne",
          "Directas excretas en pasturas Bovinos de Carne",
          "Directas excretas en pasturas Bovinos de Carne",
          "Directas excretas en pasturas Bovinos de Carne",
          "Directas excretas en pasturas Bovinos de Carne",
          "Directas excretas en pasturas Bovinos de Carne",
          "Directas excretas en pasturas Bovinos de Carne",
          "Directas excretas en pasturas Bovinos de Carne",
          "Directas excretas en pasturas Bovinos de Carne",
          "Directas excretas en pasturas Bovinos de Carne"
         ],
         "legendgroup": "Directas excretas en pasturas Bovinos de Carne",
         "line": {
          "color": "#19d3f3"
         },
         "marker": {
          "symbol": "circle"
         },
         "mode": "lines",
         "name": "Directas excretas en pasturas Bovinos de Carne",
         "orientation": "v",
         "showlegend": true,
         "stackgroup": "1",
         "type": "scatter",
         "x": [
          2011,
          2010,
          2012,
          2013,
          2014,
          2015,
          2016,
          2009,
          2008,
          2007,
          1998,
          2001,
          2006,
          2000,
          2005,
          2002,
          1999,
          2004,
          2003,
          1997,
          1996,
          1990,
          1991,
          1992,
          1995,
          1993,
          1994
         ],
         "xaxis": "x",
         "y": [
          11.84,
          12.07,
          12.22,
          12.45,
          12.56,
          12.68,
          12.81,
          13.19,
          14.11,
          16.53,
          16.69,
          16.76,
          16.89,
          17.13,
          17.13,
          17.29,
          17.4,
          17.42,
          17.53,
          17.69,
          18.01,
          18.03,
          18.36,
          18.66,
          18.81,
          19.1,
          19.13
         ],
         "yaxis": "y"
        },
        {
         "fillpattern": {
          "shape": ""
         },
         "hovertemplate": "<b>%{hovertext}</b><br><br>fuente_de_emision_y_absorcion=Tierras forestales convertidas en suelos cultivados<br>anio=%{x}<br>valor(MtCO2eq)=%{y}<extra></extra>",
         "hovertext": [
          "Tierras forestales convertidas en suelos cultivados",
          "Tierras forestales convertidas en suelos cultivados",
          "Tierras forestales convertidas en suelos cultivados",
          "Tierras forestales convertidas en suelos cultivados",
          "Tierras forestales convertidas en suelos cultivados",
          "Tierras forestales convertidas en suelos cultivados",
          "Tierras forestales convertidas en suelos cultivados",
          "Tierras forestales convertidas en suelos cultivados",
          "Tierras forestales convertidas en suelos cultivados",
          "Tierras forestales convertidas en suelos cultivados",
          "Tierras forestales convertidas en suelos cultivados",
          "Tierras forestales convertidas en suelos cultivados",
          "Tierras forestales convertidas en suelos cultivados",
          "Tierras forestales convertidas en suelos cultivados",
          "Tierras forestales convertidas en suelos cultivados",
          "Tierras forestales convertidas en suelos cultivados",
          "Tierras forestales convertidas en suelos cultivados",
          "Tierras forestales convertidas en suelos cultivados",
          "Tierras forestales convertidas en suelos cultivados",
          "Tierras forestales convertidas en suelos cultivados",
          "Tierras forestales convertidas en suelos cultivados",
          "Tierras forestales convertidas en suelos cultivados",
          "Tierras forestales convertidas en suelos cultivados",
          "Tierras forestales convertidas en suelos cultivados",
          "Tierras forestales convertidas en suelos cultivados",
          "Tierras forestales convertidas en suelos cultivados"
         ],
         "legendgroup": "Tierras forestales convertidas en suelos cultivados",
         "line": {
          "color": "#FF6692"
         },
         "marker": {
          "symbol": "circle"
         },
         "mode": "lines",
         "name": "Tierras forestales convertidas en suelos cultivados",
         "orientation": "v",
         "showlegend": true,
         "stackgroup": "1",
         "type": "scatter",
         "x": [
          2009,
          2008,
          2015,
          2000,
          2016,
          1993,
          1991,
          2005,
          1990,
          2013,
          1996,
          1992,
          1998,
          1995,
          2006,
          2010,
          2012,
          1999,
          2003,
          2002,
          2001,
          2011,
          1994,
          2004,
          1997,
          2007
         ],
         "xaxis": "x",
         "y": [
          12.66,
          12.74,
          16.51,
          19.57,
          19.97,
          21.74,
          21.97,
          25.37,
          28.09,
          30.02,
          30.89,
          32.54,
          33.02,
          33.4,
          34.45,
          37.5,
          38.29,
          38.68,
          38.73,
          40.28,
          40.95,
          42.2,
          43.43,
          46.64,
          53.01,
          59.41
         ],
         "yaxis": "y"
        },
        {
         "fillpattern": {
          "shape": ""
         },
         "hovertemplate": "<b>%{hovertext}</b><br><br>fuente_de_emision_y_absorcion=Tierras forestales convertidas en pastizales<br>anio=%{x}<br>valor(MtCO2eq)=%{y}<extra></extra>",
         "hovertext": [
          "Tierras forestales convertidas en pastizales",
          "Tierras forestales convertidas en pastizales",
          "Tierras forestales convertidas en pastizales",
          "Tierras forestales convertidas en pastizales",
          "Tierras forestales convertidas en pastizales",
          "Tierras forestales convertidas en pastizales",
          "Tierras forestales convertidas en pastizales",
          "Tierras forestales convertidas en pastizales",
          "Tierras forestales convertidas en pastizales",
          "Tierras forestales convertidas en pastizales",
          "Tierras forestales convertidas en pastizales",
          "Tierras forestales convertidas en pastizales",
          "Tierras forestales convertidas en pastizales",
          "Tierras forestales convertidas en pastizales",
          "Tierras forestales convertidas en pastizales",
          "Tierras forestales convertidas en pastizales",
          "Tierras forestales convertidas en pastizales",
          "Tierras forestales convertidas en pastizales",
          "Tierras forestales convertidas en pastizales",
          "Tierras forestales convertidas en pastizales",
          "Tierras forestales convertidas en pastizales",
          "Tierras forestales convertidas en pastizales",
          "Tierras forestales convertidas en pastizales",
          "Tierras forestales convertidas en pastizales",
          "Tierras forestales convertidas en pastizales",
          "Tierras forestales convertidas en pastizales",
          "Tierras forestales convertidas en pastizales"
         ],
         "legendgroup": "Tierras forestales convertidas en pastizales",
         "line": {
          "color": "#B6E880"
         },
         "marker": {
          "symbol": "circle"
         },
         "mode": "lines",
         "name": "Tierras forestales convertidas en pastizales",
         "orientation": "v",
         "showlegend": true,
         "stackgroup": "1",
         "type": "scatter",
         "x": [
          2016,
          2011,
          2015,
          1994,
          2010,
          1992,
          1990,
          1997,
          2001,
          1991,
          1995,
          1999,
          2014,
          1993,
          1998,
          2012,
          1996,
          2004,
          2009,
          2013,
          2002,
          2003,
          2000,
          2007,
          2005,
          2006,
          2008
         ],
         "xaxis": "x",
         "y": [
          16.76,
          19.41,
          23.05,
          27.17,
          31.6,
          35.08,
          36.32,
          40.63,
          43.23,
          44.14,
          45.13,
          45.6,
          46.72,
          47.62,
          51.4,
          54.79,
          55.32,
          55.89,
          59.03,
          61.11,
          62.19,
          63.81,
          64.86,
          66.72,
          77.45,
          80.05,
          91.89
         ],
         "yaxis": "y"
        },
        {
         "fillpattern": {
          "shape": ""
         },
         "hovertemplate": "<b>%{hovertext}</b><br><br>fuente_de_emision_y_absorcion=Fermentacion enterica Bovinos de Carne<br>anio=%{x}<br>valor(MtCO2eq)=%{y}<extra></extra>",
         "hovertext": [
          "Fermentacion enterica Bovinos de Carne",
          "Fermentacion enterica Bovinos de Carne",
          "Fermentacion enterica Bovinos de Carne",
          "Fermentacion enterica Bovinos de Carne",
          "Fermentacion enterica Bovinos de Carne",
          "Fermentacion enterica Bovinos de Carne",
          "Fermentacion enterica Bovinos de Carne",
          "Fermentacion enterica Bovinos de Carne",
          "Fermentacion enterica Bovinos de Carne",
          "Fermentacion enterica Bovinos de Carne",
          "Fermentacion enterica Bovinos de Carne",
          "Fermentacion enterica Bovinos de Carne",
          "Fermentacion enterica Bovinos de Carne",
          "Fermentacion enterica Bovinos de Carne",
          "Fermentacion enterica Bovinos de Carne",
          "Fermentacion enterica Bovinos de Carne",
          "Fermentacion enterica Bovinos de Carne",
          "Fermentacion enterica Bovinos de Carne",
          "Fermentacion enterica Bovinos de Carne",
          "Fermentacion enterica Bovinos de Carne",
          "Fermentacion enterica Bovinos de Carne",
          "Fermentacion enterica Bovinos de Carne",
          "Fermentacion enterica Bovinos de Carne",
          "Fermentacion enterica Bovinos de Carne",
          "Fermentacion enterica Bovinos de Carne",
          "Fermentacion enterica Bovinos de Carne",
          "Fermentacion enterica Bovinos de Carne"
         ],
         "legendgroup": "Fermentacion enterica Bovinos de Carne",
         "line": {
          "color": "#FF97FF"
         },
         "marker": {
          "symbol": "circle"
         },
         "mode": "lines",
         "name": "Fermentacion enterica Bovinos de Carne",
         "orientation": "v",
         "showlegend": true,
         "stackgroup": "1",
         "type": "scatter",
         "x": [
          2011,
          2010,
          2012,
          2013,
          2014,
          2015,
          2016,
          1998,
          2009,
          2001,
          2000,
          1999,
          1997,
          2002,
          1990,
          1996,
          2008,
          1991,
          2003,
          2007,
          1992,
          2005,
          2004,
          2006,
          1995,
          1993,
          1994
         ],
         "xaxis": "x",
         "y": [
          41.36,
          42.44,
          42.74,
          43.58,
          43.87,
          44.31,
          44.75,
          45.43,
          46.36,
          46.72,
          47.1,
          47.6,
          48.35,
          48.85,
          48.89,
          49.18,
          49.29,
          49.8,
          50.24,
          50.52,
          50.58,
          50.69,
          50.69,
          50.78,
          51.26,
          51.92,
          52.26
         ],
         "yaxis": "y"
        }
       ],
       "layout": {
        "legend": {
         "title": {
          "text": "fuente_de_emision_y_absorcion"
         },
         "tracegroupgap": 0
        },
        "margin": {
         "t": 60
        },
        "template": {
         "data": {
          "bar": [
           {
            "error_x": {
             "color": "#2a3f5f"
            },
            "error_y": {
             "color": "#2a3f5f"
            },
            "marker": {
             "line": {
              "color": "#E5ECF6",
              "width": 0.5
             },
             "pattern": {
              "fillmode": "overlay",
              "size": 10,
              "solidity": 0.2
             }
            },
            "type": "bar"
           }
          ],
          "barpolar": [
           {
            "marker": {
             "line": {
              "color": "#E5ECF6",
              "width": 0.5
             },
             "pattern": {
              "fillmode": "overlay",
              "size": 10,
              "solidity": 0.2
             }
            },
            "type": "barpolar"
           }
          ],
          "carpet": [
           {
            "aaxis": {
             "endlinecolor": "#2a3f5f",
             "gridcolor": "white",
             "linecolor": "white",
             "minorgridcolor": "white",
             "startlinecolor": "#2a3f5f"
            },
            "baxis": {
             "endlinecolor": "#2a3f5f",
             "gridcolor": "white",
             "linecolor": "white",
             "minorgridcolor": "white",
             "startlinecolor": "#2a3f5f"
            },
            "type": "carpet"
           }
          ],
          "choropleth": [
           {
            "colorbar": {
             "outlinewidth": 0,
             "ticks": ""
            },
            "type": "choropleth"
           }
          ],
          "contour": [
           {
            "colorbar": {
             "outlinewidth": 0,
             "ticks": ""
            },
            "colorscale": [
             [
              0,
              "#0d0887"
             ],
             [
              0.1111111111111111,
              "#46039f"
             ],
             [
              0.2222222222222222,
              "#7201a8"
             ],
             [
              0.3333333333333333,
              "#9c179e"
             ],
             [
              0.4444444444444444,
              "#bd3786"
             ],
             [
              0.5555555555555556,
              "#d8576b"
             ],
             [
              0.6666666666666666,
              "#ed7953"
             ],
             [
              0.7777777777777778,
              "#fb9f3a"
             ],
             [
              0.8888888888888888,
              "#fdca26"
             ],
             [
              1,
              "#f0f921"
             ]
            ],
            "type": "contour"
           }
          ],
          "contourcarpet": [
           {
            "colorbar": {
             "outlinewidth": 0,
             "ticks": ""
            },
            "type": "contourcarpet"
           }
          ],
          "heatmap": [
           {
            "colorbar": {
             "outlinewidth": 0,
             "ticks": ""
            },
            "colorscale": [
             [
              0,
              "#0d0887"
             ],
             [
              0.1111111111111111,
              "#46039f"
             ],
             [
              0.2222222222222222,
              "#7201a8"
             ],
             [
              0.3333333333333333,
              "#9c179e"
             ],
             [
              0.4444444444444444,
              "#bd3786"
             ],
             [
              0.5555555555555556,
              "#d8576b"
             ],
             [
              0.6666666666666666,
              "#ed7953"
             ],
             [
              0.7777777777777778,
              "#fb9f3a"
             ],
             [
              0.8888888888888888,
              "#fdca26"
             ],
             [
              1,
              "#f0f921"
             ]
            ],
            "type": "heatmap"
           }
          ],
          "heatmapgl": [
           {
            "colorbar": {
             "outlinewidth": 0,
             "ticks": ""
            },
            "colorscale": [
             [
              0,
              "#0d0887"
             ],
             [
              0.1111111111111111,
              "#46039f"
             ],
             [
              0.2222222222222222,
              "#7201a8"
             ],
             [
              0.3333333333333333,
              "#9c179e"
             ],
             [
              0.4444444444444444,
              "#bd3786"
             ],
             [
              0.5555555555555556,
              "#d8576b"
             ],
             [
              0.6666666666666666,
              "#ed7953"
             ],
             [
              0.7777777777777778,
              "#fb9f3a"
             ],
             [
              0.8888888888888888,
              "#fdca26"
             ],
             [
              1,
              "#f0f921"
             ]
            ],
            "type": "heatmapgl"
           }
          ],
          "histogram": [
           {
            "marker": {
             "pattern": {
              "fillmode": "overlay",
              "size": 10,
              "solidity": 0.2
             }
            },
            "type": "histogram"
           }
          ],
          "histogram2d": [
           {
            "colorbar": {
             "outlinewidth": 0,
             "ticks": ""
            },
            "colorscale": [
             [
              0,
              "#0d0887"
             ],
             [
              0.1111111111111111,
              "#46039f"
             ],
             [
              0.2222222222222222,
              "#7201a8"
             ],
             [
              0.3333333333333333,
              "#9c179e"
             ],
             [
              0.4444444444444444,
              "#bd3786"
             ],
             [
              0.5555555555555556,
              "#d8576b"
             ],
             [
              0.6666666666666666,
              "#ed7953"
             ],
             [
              0.7777777777777778,
              "#fb9f3a"
             ],
             [
              0.8888888888888888,
              "#fdca26"
             ],
             [
              1,
              "#f0f921"
             ]
            ],
            "type": "histogram2d"
           }
          ],
          "histogram2dcontour": [
           {
            "colorbar": {
             "outlinewidth": 0,
             "ticks": ""
            },
            "colorscale": [
             [
              0,
              "#0d0887"
             ],
             [
              0.1111111111111111,
              "#46039f"
             ],
             [
              0.2222222222222222,
              "#7201a8"
             ],
             [
              0.3333333333333333,
              "#9c179e"
             ],
             [
              0.4444444444444444,
              "#bd3786"
             ],
             [
              0.5555555555555556,
              "#d8576b"
             ],
             [
              0.6666666666666666,
              "#ed7953"
             ],
             [
              0.7777777777777778,
              "#fb9f3a"
             ],
             [
              0.8888888888888888,
              "#fdca26"
             ],
             [
              1,
              "#f0f921"
             ]
            ],
            "type": "histogram2dcontour"
           }
          ],
          "mesh3d": [
           {
            "colorbar": {
             "outlinewidth": 0,
             "ticks": ""
            },
            "type": "mesh3d"
           }
          ],
          "parcoords": [
           {
            "line": {
             "colorbar": {
              "outlinewidth": 0,
              "ticks": ""
             }
            },
            "type": "parcoords"
           }
          ],
          "pie": [
           {
            "automargin": true,
            "type": "pie"
           }
          ],
          "scatter": [
           {
            "fillpattern": {
             "fillmode": "overlay",
             "size": 10,
             "solidity": 0.2
            },
            "type": "scatter"
           }
          ],
          "scatter3d": [
           {
            "line": {
             "colorbar": {
              "outlinewidth": 0,
              "ticks": ""
             }
            },
            "marker": {
             "colorbar": {
              "outlinewidth": 0,
              "ticks": ""
             }
            },
            "type": "scatter3d"
           }
          ],
          "scattercarpet": [
           {
            "marker": {
             "colorbar": {
              "outlinewidth": 0,
              "ticks": ""
             }
            },
            "type": "scattercarpet"
           }
          ],
          "scattergeo": [
           {
            "marker": {
             "colorbar": {
              "outlinewidth": 0,
              "ticks": ""
             }
            },
            "type": "scattergeo"
           }
          ],
          "scattergl": [
           {
            "marker": {
             "colorbar": {
              "outlinewidth": 0,
              "ticks": ""
             }
            },
            "type": "scattergl"
           }
          ],
          "scattermapbox": [
           {
            "marker": {
             "colorbar": {
              "outlinewidth": 0,
              "ticks": ""
             }
            },
            "type": "scattermapbox"
           }
          ],
          "scatterpolar": [
           {
            "marker": {
             "colorbar": {
              "outlinewidth": 0,
              "ticks": ""
             }
            },
            "type": "scatterpolar"
           }
          ],
          "scatterpolargl": [
           {
            "marker": {
             "colorbar": {
              "outlinewidth": 0,
              "ticks": ""
             }
            },
            "type": "scatterpolargl"
           }
          ],
          "scatterternary": [
           {
            "marker": {
             "colorbar": {
              "outlinewidth": 0,
              "ticks": ""
             }
            },
            "type": "scatterternary"
           }
          ],
          "surface": [
           {
            "colorbar": {
             "outlinewidth": 0,
             "ticks": ""
            },
            "colorscale": [
             [
              0,
              "#0d0887"
             ],
             [
              0.1111111111111111,
              "#46039f"
             ],
             [
              0.2222222222222222,
              "#7201a8"
             ],
             [
              0.3333333333333333,
              "#9c179e"
             ],
             [
              0.4444444444444444,
              "#bd3786"
             ],
             [
              0.5555555555555556,
              "#d8576b"
             ],
             [
              0.6666666666666666,
              "#ed7953"
             ],
             [
              0.7777777777777778,
              "#fb9f3a"
             ],
             [
              0.8888888888888888,
              "#fdca26"
             ],
             [
              1,
              "#f0f921"
             ]
            ],
            "type": "surface"
           }
          ],
          "table": [
           {
            "cells": {
             "fill": {
              "color": "#EBF0F8"
             },
             "line": {
              "color": "white"
             }
            },
            "header": {
             "fill": {
              "color": "#C8D4E3"
             },
             "line": {
              "color": "white"
             }
            },
            "type": "table"
           }
          ]
         },
         "layout": {
          "annotationdefaults": {
           "arrowcolor": "#2a3f5f",
           "arrowhead": 0,
           "arrowwidth": 1
          },
          "autotypenumbers": "strict",
          "coloraxis": {
           "colorbar": {
            "outlinewidth": 0,
            "ticks": ""
           }
          },
          "colorscale": {
           "diverging": [
            [
             0,
             "#8e0152"
            ],
            [
             0.1,
             "#c51b7d"
            ],
            [
             0.2,
             "#de77ae"
            ],
            [
             0.3,
             "#f1b6da"
            ],
            [
             0.4,
             "#fde0ef"
            ],
            [
             0.5,
             "#f7f7f7"
            ],
            [
             0.6,
             "#e6f5d0"
            ],
            [
             0.7,
             "#b8e186"
            ],
            [
             0.8,
             "#7fbc41"
            ],
            [
             0.9,
             "#4d9221"
            ],
            [
             1,
             "#276419"
            ]
           ],
           "sequential": [
            [
             0,
             "#0d0887"
            ],
            [
             0.1111111111111111,
             "#46039f"
            ],
            [
             0.2222222222222222,
             "#7201a8"
            ],
            [
             0.3333333333333333,
             "#9c179e"
            ],
            [
             0.4444444444444444,
             "#bd3786"
            ],
            [
             0.5555555555555556,
             "#d8576b"
            ],
            [
             0.6666666666666666,
             "#ed7953"
            ],
            [
             0.7777777777777778,
             "#fb9f3a"
            ],
            [
             0.8888888888888888,
             "#fdca26"
            ],
            [
             1,
             "#f0f921"
            ]
           ],
           "sequentialminus": [
            [
             0,
             "#0d0887"
            ],
            [
             0.1111111111111111,
             "#46039f"
            ],
            [
             0.2222222222222222,
             "#7201a8"
            ],
            [
             0.3333333333333333,
             "#9c179e"
            ],
            [
             0.4444444444444444,
             "#bd3786"
            ],
            [
             0.5555555555555556,
             "#d8576b"
            ],
            [
             0.6666666666666666,
             "#ed7953"
            ],
            [
             0.7777777777777778,
             "#fb9f3a"
            ],
            [
             0.8888888888888888,
             "#fdca26"
            ],
            [
             1,
             "#f0f921"
            ]
           ]
          },
          "colorway": [
           "#636efa",
           "#EF553B",
           "#00cc96",
           "#ab63fa",
           "#FFA15A",
           "#19d3f3",
           "#FF6692",
           "#B6E880",
           "#FF97FF",
           "#FECB52"
          ],
          "font": {
           "color": "#2a3f5f"
          },
          "geo": {
           "bgcolor": "white",
           "lakecolor": "white",
           "landcolor": "#E5ECF6",
           "showlakes": true,
           "showland": true,
           "subunitcolor": "white"
          },
          "hoverlabel": {
           "align": "left"
          },
          "hovermode": "closest",
          "mapbox": {
           "style": "light"
          },
          "paper_bgcolor": "white",
          "plot_bgcolor": "#E5ECF6",
          "polar": {
           "angularaxis": {
            "gridcolor": "white",
            "linecolor": "white",
            "ticks": ""
           },
           "bgcolor": "#E5ECF6",
           "radialaxis": {
            "gridcolor": "white",
            "linecolor": "white",
            "ticks": ""
           }
          },
          "scene": {
           "xaxis": {
            "backgroundcolor": "#E5ECF6",
            "gridcolor": "white",
            "gridwidth": 2,
            "linecolor": "white",
            "showbackground": true,
            "ticks": "",
            "zerolinecolor": "white"
           },
           "yaxis": {
            "backgroundcolor": "#E5ECF6",
            "gridcolor": "white",
            "gridwidth": 2,
            "linecolor": "white",
            "showbackground": true,
            "ticks": "",
            "zerolinecolor": "white"
           },
           "zaxis": {
            "backgroundcolor": "#E5ECF6",
            "gridcolor": "white",
            "gridwidth": 2,
            "linecolor": "white",
            "showbackground": true,
            "ticks": "",
            "zerolinecolor": "white"
           }
          },
          "shapedefaults": {
           "line": {
            "color": "#2a3f5f"
           }
          },
          "ternary": {
           "aaxis": {
            "gridcolor": "white",
            "linecolor": "white",
            "ticks": ""
           },
           "baxis": {
            "gridcolor": "white",
            "linecolor": "white",
            "ticks": ""
           },
           "bgcolor": "#E5ECF6",
           "caxis": {
            "gridcolor": "white",
            "linecolor": "white",
            "ticks": ""
           }
          },
          "title": {
           "x": 0.05
          },
          "xaxis": {
           "automargin": true,
           "gridcolor": "white",
           "linecolor": "white",
           "ticks": "",
           "title": {
            "standoff": 15
           },
           "zerolinecolor": "white",
           "zerolinewidth": 2
          },
          "yaxis": {
           "automargin": true,
           "gridcolor": "white",
           "linecolor": "white",
           "ticks": "",
           "title": {
            "standoff": 15
           },
           "zerolinecolor": "white",
           "zerolinewidth": 2
          }
         }
        },
        "xaxis": {
         "anchor": "y",
         "domain": [
          0,
          1
         ],
         "title": {
          "text": "anio"
         }
        },
        "yaxis": {
         "anchor": "x",
         "domain": [
          0,
          1
         ],
         "title": {
          "text": "valor(MtCO2eq)"
         }
        }
       }
      }
     },
     "metadata": {},
     "output_type": "display_data"
    }
   ],
   "source": [
    "gases_emitidos = df[df['valor(MtCO2eq)'] > 10]\n",
    "gases_emitidos = gases_emitidos.groupby(['fuente_de_emision_y_absorcion', 'anio'], as_index = False).agg({'valor(MtCO2eq)':'sum'}).sort_values('valor(MtCO2eq)' , ascending=True)\n",
    "gases_emitidos = gases_emitidos.sort_values('valor(MtCO2eq)' , ascending=True)\n",
    "fig = px.bar(gases_emitidos, x=\"anio\", y=\"valor(MtCO2eq)\", color=\"fuente_de_emision_y_absorcion\", hover_name=\"fuente_de_emision_y_absorcion\")\n",
    "fig.show()\n",
    "fig.write_image(\"images/MtCO2eq_mean_por_fuente_y_año_bar.svg\")"
   ]
  },
  {
   "cell_type": "code",
   "execution_count": 115,
   "metadata": {},
   "outputs": [
    {
     "data": {
      "application/vnd.plotly.v1+json": {
       "config": {
        "plotlyServerURL": "https://plot.ly"
       },
       "data": [
        {
         "alignmentgroup": "True",
         "hovertemplate": "<b>%{hovertext}</b><br><br>subactividad=%{x}<br>valor(MtCO2eq)=%{y}<extra></extra>",
         "hovertext": [
          "Mulares y Asnales"
         ],
         "legendgroup": "Mulares y Asnales",
         "marker": {
          "color": "#636efa",
          "pattern": {
           "shape": ""
          }
         },
         "name": "Mulares y Asnales",
         "offsetgroup": "Mulares y Asnales",
         "orientation": "v",
         "showlegend": true,
         "textposition": "auto",
         "type": "bar",
         "x": [
          "Mulares y Asnales"
         ],
         "xaxis": "x",
         "y": [
          0.59
         ],
         "yaxis": "y"
        },
        {
         "alignmentgroup": "True",
         "hovertemplate": "<b>%{hovertext}</b><br><br>subactividad=%{x}<br>valor(MtCO2eq)=%{y}<extra></extra>",
         "hovertext": [
          "Camelidos"
         ],
         "legendgroup": "Camelidos",
         "marker": {
          "color": "#EF553B",
          "pattern": {
           "shape": ""
          }
         },
         "name": "Camelidos",
         "offsetgroup": "Camelidos",
         "orientation": "v",
         "showlegend": true,
         "textposition": "auto",
         "type": "bar",
         "x": [
          "Camelidos"
         ],
         "xaxis": "x",
         "y": [
          1.3800000000000001
         ],
         "yaxis": "y"
        },
        {
         "alignmentgroup": "True",
         "hovertemplate": "<b>%{hovertext}</b><br><br>subactividad=%{x}<br>valor(MtCO2eq)=%{y}<extra></extra>",
         "hovertext": [
          "Bubalinos"
         ],
         "legendgroup": "Bubalinos",
         "marker": {
          "color": "#00cc96",
          "pattern": {
           "shape": ""
          }
         },
         "name": "Bubalinos",
         "offsetgroup": "Bubalinos",
         "orientation": "v",
         "showlegend": true,
         "textposition": "auto",
         "type": "bar",
         "x": [
          "Bubalinos"
         ],
         "xaxis": "x",
         "y": [
          1.44
         ],
         "yaxis": "y"
        },
        {
         "alignmentgroup": "True",
         "hovertemplate": "<b>%{hovertext}</b><br><br>subactividad=%{x}<br>valor(MtCO2eq)=%{y}<extra></extra>",
         "hovertext": [
          "Aves"
         ],
         "legendgroup": "Aves",
         "marker": {
          "color": "#ab63fa",
          "pattern": {
           "shape": ""
          }
         },
         "name": "Aves",
         "offsetgroup": "Aves",
         "orientation": "v",
         "showlegend": true,
         "textposition": "auto",
         "type": "bar",
         "x": [
          "Aves"
         ],
         "xaxis": "x",
         "y": [
          7.59
         ],
         "yaxis": "y"
        },
        {
         "alignmentgroup": "True",
         "hovertemplate": "<b>%{hovertext}</b><br><br>subactividad=%{x}<br>valor(MtCO2eq)=%{y}<extra></extra>",
         "hovertext": [
          "Porcinos"
         ],
         "legendgroup": "Porcinos",
         "marker": {
          "color": "#FFA15A",
          "pattern": {
           "shape": ""
          }
         },
         "name": "Porcinos",
         "offsetgroup": "Porcinos",
         "orientation": "v",
         "showlegend": true,
         "textposition": "auto",
         "type": "bar",
         "x": [
          "Porcinos"
         ],
         "xaxis": "x",
         "y": [
          19.84
         ],
         "yaxis": "y"
        },
        {
         "alignmentgroup": "True",
         "hovertemplate": "<b>%{hovertext}</b><br><br>subactividad=%{x}<br>valor(MtCO2eq)=%{y}<extra></extra>",
         "hovertext": [
          "Caprinos"
         ],
         "legendgroup": "Caprinos",
         "marker": {
          "color": "#19d3f3",
          "pattern": {
           "shape": ""
          }
         },
         "name": "Caprinos",
         "offsetgroup": "Caprinos",
         "orientation": "v",
         "showlegend": true,
         "textposition": "auto",
         "type": "bar",
         "x": [
          "Caprinos"
         ],
         "xaxis": "x",
         "y": [
          22.59
         ],
         "yaxis": "y"
        },
        {
         "alignmentgroup": "True",
         "hovertemplate": "<b>%{hovertext}</b><br><br>subactividad=%{x}<br>valor(MtCO2eq)=%{y}<extra></extra>",
         "hovertext": [
          "equinos"
         ],
         "legendgroup": "equinos",
         "marker": {
          "color": "#FF6692",
          "pattern": {
           "shape": ""
          }
         },
         "name": "equinos",
         "offsetgroup": "equinos",
         "orientation": "v",
         "showlegend": true,
         "textposition": "auto",
         "type": "bar",
         "x": [
          "equinos"
         ],
         "xaxis": "x",
         "y": [
          37.95
         ],
         "yaxis": "y"
        },
        {
         "alignmentgroup": "True",
         "hovertemplate": "<b>%{hovertext}</b><br><br>subactividad=%{x}<br>valor(MtCO2eq)=%{y}<extra></extra>",
         "hovertext": [
          "Ovinos"
         ],
         "legendgroup": "Ovinos",
         "marker": {
          "color": "#B6E880",
          "pattern": {
           "shape": ""
          }
         },
         "name": "Ovinos",
         "offsetgroup": "Ovinos",
         "orientation": "v",
         "showlegend": true,
         "textposition": "auto",
         "type": "bar",
         "x": [
          "Ovinos"
         ],
         "xaxis": "x",
         "y": [
          78.76
         ],
         "yaxis": "y"
        },
        {
         "alignmentgroup": "True",
         "hovertemplate": "<b>%{hovertext}</b><br><br>subactividad=%{x}<br>valor(MtCO2eq)=%{y}<extra></extra>",
         "hovertext": [
          "Quema de Biomasa"
         ],
         "legendgroup": "Quema de Biomasa",
         "marker": {
          "color": "#FF97FF",
          "pattern": {
           "shape": ""
          }
         },
         "name": "Quema de Biomasa",
         "offsetgroup": "Quema de Biomasa",
         "orientation": "v",
         "showlegend": true,
         "textposition": "auto",
         "type": "bar",
         "x": [
          "Quema de Biomasa"
         ],
         "xaxis": "x",
         "y": [
          83.07000000000001
         ],
         "yaxis": "y"
        },
        {
         "alignmentgroup": "True",
         "hovertemplate": "<b>%{hovertext}</b><br><br>subactividad=%{x}<br>valor(MtCO2eq)=%{y}<extra></extra>",
         "hovertext": [
          "Fertilizantes Sinteticos"
         ],
         "legendgroup": "Fertilizantes Sinteticos",
         "marker": {
          "color": "#FECB52",
          "pattern": {
           "shape": ""
          }
         },
         "name": "Fertilizantes Sinteticos",
         "offsetgroup": "Fertilizantes Sinteticos",
         "orientation": "v",
         "showlegend": true,
         "textposition": "auto",
         "type": "bar",
         "x": [
          "Fertilizantes Sinteticos"
         ],
         "xaxis": "x",
         "y": [
          101.29
         ],
         "yaxis": "y"
        },
        {
         "alignmentgroup": "True",
         "hovertemplate": "<b>%{hovertext}</b><br><br>subactividad=%{x}<br>valor(MtCO2eq)=%{y}<extra></extra>",
         "hovertext": [
          "Bovinos de Leche"
         ],
         "legendgroup": "Bovinos de Leche",
         "marker": {
          "color": "#636efa",
          "pattern": {
           "shape": ""
          }
         },
         "name": "Bovinos de Leche",
         "offsetgroup": "Bovinos de Leche",
         "orientation": "v",
         "showlegend": true,
         "textposition": "auto",
         "type": "bar",
         "x": [
          "Bovinos de Leche"
         ],
         "xaxis": "x",
         "y": [
          245.47
         ],
         "yaxis": "y"
        },
        {
         "alignmentgroup": "True",
         "hovertemplate": "<b>%{hovertext}</b><br><br>subactividad=%{x}<br>valor(MtCO2eq)=%{y}<extra></extra>",
         "hovertext": [
          "Produccion agricola"
         ],
         "legendgroup": "Produccion agricola",
         "marker": {
          "color": "#EF553B",
          "pattern": {
           "shape": ""
          }
         },
         "name": "Produccion agricola",
         "offsetgroup": "Produccion agricola",
         "orientation": "v",
         "showlegend": true,
         "textposition": "auto",
         "type": "bar",
         "x": [
          "Produccion agricola"
         ],
         "xaxis": "x",
         "y": [
          266.46
         ],
         "yaxis": "y"
        },
        {
         "alignmentgroup": "True",
         "hovertemplate": "<b>%{hovertext}</b><br><br>subactividad=%{x}<br>valor(MtCO2eq)=%{y}<extra></extra>",
         "hovertext": [
          "Bosque Cultivado"
         ],
         "legendgroup": "Bosque Cultivado",
         "marker": {
          "color": "#00cc96",
          "pattern": {
           "shape": ""
          }
         },
         "name": "Bosque Cultivado",
         "offsetgroup": "Bosque Cultivado",
         "orientation": "v",
         "showlegend": true,
         "textposition": "auto",
         "type": "bar",
         "x": [
          "Bosque Cultivado"
         ],
         "xaxis": "x",
         "y": [
          401.66
         ],
         "yaxis": "y"
        },
        {
         "alignmentgroup": "True",
         "hovertemplate": "<b>%{hovertext}</b><br><br>subactividad=%{x}<br>valor(MtCO2eq)=%{y}<extra></extra>",
         "hovertext": [
          "Bosque Nativo"
         ],
         "legendgroup": "Bosque Nativo",
         "marker": {
          "color": "#ab63fa",
          "pattern": {
           "shape": ""
          }
         },
         "name": "Bosque Nativo",
         "offsetgroup": "Bosque Nativo",
         "orientation": "v",
         "showlegend": true,
         "textposition": "auto",
         "type": "bar",
         "x": [
          "Bosque Nativo"
         ],
         "xaxis": "x",
         "y": [
          503.22
         ],
         "yaxis": "y"
        },
        {
         "alignmentgroup": "True",
         "hovertemplate": "<b>%{hovertext}</b><br><br>subactividad=%{x}<br>valor(MtCO2eq)=%{y}<extra></extra>",
         "hovertext": [
          "Bovinos de Carne"
         ],
         "legendgroup": "Bovinos de Carne",
         "marker": {
          "color": "#FFA15A",
          "pattern": {
           "shape": ""
          }
         },
         "name": "Bovinos de Carne",
         "offsetgroup": "Bovinos de Carne",
         "orientation": "v",
         "showlegend": true,
         "textposition": "auto",
         "type": "bar",
         "x": [
          "Bovinos de Carne"
         ],
         "xaxis": "x",
         "y": [
          1863.97
         ],
         "yaxis": "y"
        },
        {
         "alignmentgroup": "True",
         "hovertemplate": "<b>%{hovertext}</b><br><br>subactividad=%{x}<br>valor(MtCO2eq)=%{y}<extra></extra>",
         "hovertext": [
          "Cultivo/Pasturas"
         ],
         "legendgroup": "Cultivo/Pasturas",
         "marker": {
          "color": "#19d3f3",
          "pattern": {
           "shape": ""
          }
         },
         "name": "Cultivo/Pasturas",
         "offsetgroup": "Cultivo/Pasturas",
         "orientation": "v",
         "showlegend": true,
         "textposition": "auto",
         "type": "bar",
         "x": [
          "Cultivo/Pasturas"
         ],
         "xaxis": "x",
         "y": [
          2934.58
         ],
         "yaxis": "y"
        }
       ],
       "layout": {
        "barmode": "relative",
        "legend": {
         "title": {
          "text": "subactividad"
         },
         "tracegroupgap": 0
        },
        "margin": {
         "t": 60
        },
        "template": {
         "data": {
          "bar": [
           {
            "error_x": {
             "color": "#2a3f5f"
            },
            "error_y": {
             "color": "#2a3f5f"
            },
            "marker": {
             "line": {
              "color": "#E5ECF6",
              "width": 0.5
             },
             "pattern": {
              "fillmode": "overlay",
              "size": 10,
              "solidity": 0.2
             }
            },
            "type": "bar"
           }
          ],
          "barpolar": [
           {
            "marker": {
             "line": {
              "color": "#E5ECF6",
              "width": 0.5
             },
             "pattern": {
              "fillmode": "overlay",
              "size": 10,
              "solidity": 0.2
             }
            },
            "type": "barpolar"
           }
          ],
          "carpet": [
           {
            "aaxis": {
             "endlinecolor": "#2a3f5f",
             "gridcolor": "white",
             "linecolor": "white",
             "minorgridcolor": "white",
             "startlinecolor": "#2a3f5f"
            },
            "baxis": {
             "endlinecolor": "#2a3f5f",
             "gridcolor": "white",
             "linecolor": "white",
             "minorgridcolor": "white",
             "startlinecolor": "#2a3f5f"
            },
            "type": "carpet"
           }
          ],
          "choropleth": [
           {
            "colorbar": {
             "outlinewidth": 0,
             "ticks": ""
            },
            "type": "choropleth"
           }
          ],
          "contour": [
           {
            "colorbar": {
             "outlinewidth": 0,
             "ticks": ""
            },
            "colorscale": [
             [
              0,
              "#0d0887"
             ],
             [
              0.1111111111111111,
              "#46039f"
             ],
             [
              0.2222222222222222,
              "#7201a8"
             ],
             [
              0.3333333333333333,
              "#9c179e"
             ],
             [
              0.4444444444444444,
              "#bd3786"
             ],
             [
              0.5555555555555556,
              "#d8576b"
             ],
             [
              0.6666666666666666,
              "#ed7953"
             ],
             [
              0.7777777777777778,
              "#fb9f3a"
             ],
             [
              0.8888888888888888,
              "#fdca26"
             ],
             [
              1,
              "#f0f921"
             ]
            ],
            "type": "contour"
           }
          ],
          "contourcarpet": [
           {
            "colorbar": {
             "outlinewidth": 0,
             "ticks": ""
            },
            "type": "contourcarpet"
           }
          ],
          "heatmap": [
           {
            "colorbar": {
             "outlinewidth": 0,
             "ticks": ""
            },
            "colorscale": [
             [
              0,
              "#0d0887"
             ],
             [
              0.1111111111111111,
              "#46039f"
             ],
             [
              0.2222222222222222,
              "#7201a8"
             ],
             [
              0.3333333333333333,
              "#9c179e"
             ],
             [
              0.4444444444444444,
              "#bd3786"
             ],
             [
              0.5555555555555556,
              "#d8576b"
             ],
             [
              0.6666666666666666,
              "#ed7953"
             ],
             [
              0.7777777777777778,
              "#fb9f3a"
             ],
             [
              0.8888888888888888,
              "#fdca26"
             ],
             [
              1,
              "#f0f921"
             ]
            ],
            "type": "heatmap"
           }
          ],
          "heatmapgl": [
           {
            "colorbar": {
             "outlinewidth": 0,
             "ticks": ""
            },
            "colorscale": [
             [
              0,
              "#0d0887"
             ],
             [
              0.1111111111111111,
              "#46039f"
             ],
             [
              0.2222222222222222,
              "#7201a8"
             ],
             [
              0.3333333333333333,
              "#9c179e"
             ],
             [
              0.4444444444444444,
              "#bd3786"
             ],
             [
              0.5555555555555556,
              "#d8576b"
             ],
             [
              0.6666666666666666,
              "#ed7953"
             ],
             [
              0.7777777777777778,
              "#fb9f3a"
             ],
             [
              0.8888888888888888,
              "#fdca26"
             ],
             [
              1,
              "#f0f921"
             ]
            ],
            "type": "heatmapgl"
           }
          ],
          "histogram": [
           {
            "marker": {
             "pattern": {
              "fillmode": "overlay",
              "size": 10,
              "solidity": 0.2
             }
            },
            "type": "histogram"
           }
          ],
          "histogram2d": [
           {
            "colorbar": {
             "outlinewidth": 0,
             "ticks": ""
            },
            "colorscale": [
             [
              0,
              "#0d0887"
             ],
             [
              0.1111111111111111,
              "#46039f"
             ],
             [
              0.2222222222222222,
              "#7201a8"
             ],
             [
              0.3333333333333333,
              "#9c179e"
             ],
             [
              0.4444444444444444,
              "#bd3786"
             ],
             [
              0.5555555555555556,
              "#d8576b"
             ],
             [
              0.6666666666666666,
              "#ed7953"
             ],
             [
              0.7777777777777778,
              "#fb9f3a"
             ],
             [
              0.8888888888888888,
              "#fdca26"
             ],
             [
              1,
              "#f0f921"
             ]
            ],
            "type": "histogram2d"
           }
          ],
          "histogram2dcontour": [
           {
            "colorbar": {
             "outlinewidth": 0,
             "ticks": ""
            },
            "colorscale": [
             [
              0,
              "#0d0887"
             ],
             [
              0.1111111111111111,
              "#46039f"
             ],
             [
              0.2222222222222222,
              "#7201a8"
             ],
             [
              0.3333333333333333,
              "#9c179e"
             ],
             [
              0.4444444444444444,
              "#bd3786"
             ],
             [
              0.5555555555555556,
              "#d8576b"
             ],
             [
              0.6666666666666666,
              "#ed7953"
             ],
             [
              0.7777777777777778,
              "#fb9f3a"
             ],
             [
              0.8888888888888888,
              "#fdca26"
             ],
             [
              1,
              "#f0f921"
             ]
            ],
            "type": "histogram2dcontour"
           }
          ],
          "mesh3d": [
           {
            "colorbar": {
             "outlinewidth": 0,
             "ticks": ""
            },
            "type": "mesh3d"
           }
          ],
          "parcoords": [
           {
            "line": {
             "colorbar": {
              "outlinewidth": 0,
              "ticks": ""
             }
            },
            "type": "parcoords"
           }
          ],
          "pie": [
           {
            "automargin": true,
            "type": "pie"
           }
          ],
          "scatter": [
           {
            "fillpattern": {
             "fillmode": "overlay",
             "size": 10,
             "solidity": 0.2
            },
            "type": "scatter"
           }
          ],
          "scatter3d": [
           {
            "line": {
             "colorbar": {
              "outlinewidth": 0,
              "ticks": ""
             }
            },
            "marker": {
             "colorbar": {
              "outlinewidth": 0,
              "ticks": ""
             }
            },
            "type": "scatter3d"
           }
          ],
          "scattercarpet": [
           {
            "marker": {
             "colorbar": {
              "outlinewidth": 0,
              "ticks": ""
             }
            },
            "type": "scattercarpet"
           }
          ],
          "scattergeo": [
           {
            "marker": {
             "colorbar": {
              "outlinewidth": 0,
              "ticks": ""
             }
            },
            "type": "scattergeo"
           }
          ],
          "scattergl": [
           {
            "marker": {
             "colorbar": {
              "outlinewidth": 0,
              "ticks": ""
             }
            },
            "type": "scattergl"
           }
          ],
          "scattermapbox": [
           {
            "marker": {
             "colorbar": {
              "outlinewidth": 0,
              "ticks": ""
             }
            },
            "type": "scattermapbox"
           }
          ],
          "scatterpolar": [
           {
            "marker": {
             "colorbar": {
              "outlinewidth": 0,
              "ticks": ""
             }
            },
            "type": "scatterpolar"
           }
          ],
          "scatterpolargl": [
           {
            "marker": {
             "colorbar": {
              "outlinewidth": 0,
              "ticks": ""
             }
            },
            "type": "scatterpolargl"
           }
          ],
          "scatterternary": [
           {
            "marker": {
             "colorbar": {
              "outlinewidth": 0,
              "ticks": ""
             }
            },
            "type": "scatterternary"
           }
          ],
          "surface": [
           {
            "colorbar": {
             "outlinewidth": 0,
             "ticks": ""
            },
            "colorscale": [
             [
              0,
              "#0d0887"
             ],
             [
              0.1111111111111111,
              "#46039f"
             ],
             [
              0.2222222222222222,
              "#7201a8"
             ],
             [
              0.3333333333333333,
              "#9c179e"
             ],
             [
              0.4444444444444444,
              "#bd3786"
             ],
             [
              0.5555555555555556,
              "#d8576b"
             ],
             [
              0.6666666666666666,
              "#ed7953"
             ],
             [
              0.7777777777777778,
              "#fb9f3a"
             ],
             [
              0.8888888888888888,
              "#fdca26"
             ],
             [
              1,
              "#f0f921"
             ]
            ],
            "type": "surface"
           }
          ],
          "table": [
           {
            "cells": {
             "fill": {
              "color": "#EBF0F8"
             },
             "line": {
              "color": "white"
             }
            },
            "header": {
             "fill": {
              "color": "#C8D4E3"
             },
             "line": {
              "color": "white"
             }
            },
            "type": "table"
           }
          ]
         },
         "layout": {
          "annotationdefaults": {
           "arrowcolor": "#2a3f5f",
           "arrowhead": 0,
           "arrowwidth": 1
          },
          "autotypenumbers": "strict",
          "coloraxis": {
           "colorbar": {
            "outlinewidth": 0,
            "ticks": ""
           }
          },
          "colorscale": {
           "diverging": [
            [
             0,
             "#8e0152"
            ],
            [
             0.1,
             "#c51b7d"
            ],
            [
             0.2,
             "#de77ae"
            ],
            [
             0.3,
             "#f1b6da"
            ],
            [
             0.4,
             "#fde0ef"
            ],
            [
             0.5,
             "#f7f7f7"
            ],
            [
             0.6,
             "#e6f5d0"
            ],
            [
             0.7,
             "#b8e186"
            ],
            [
             0.8,
             "#7fbc41"
            ],
            [
             0.9,
             "#4d9221"
            ],
            [
             1,
             "#276419"
            ]
           ],
           "sequential": [
            [
             0,
             "#0d0887"
            ],
            [
             0.1111111111111111,
             "#46039f"
            ],
            [
             0.2222222222222222,
             "#7201a8"
            ],
            [
             0.3333333333333333,
             "#9c179e"
            ],
            [
             0.4444444444444444,
             "#bd3786"
            ],
            [
             0.5555555555555556,
             "#d8576b"
            ],
            [
             0.6666666666666666,
             "#ed7953"
            ],
            [
             0.7777777777777778,
             "#fb9f3a"
            ],
            [
             0.8888888888888888,
             "#fdca26"
            ],
            [
             1,
             "#f0f921"
            ]
           ],
           "sequentialminus": [
            [
             0,
             "#0d0887"
            ],
            [
             0.1111111111111111,
             "#46039f"
            ],
            [
             0.2222222222222222,
             "#7201a8"
            ],
            [
             0.3333333333333333,
             "#9c179e"
            ],
            [
             0.4444444444444444,
             "#bd3786"
            ],
            [
             0.5555555555555556,
             "#d8576b"
            ],
            [
             0.6666666666666666,
             "#ed7953"
            ],
            [
             0.7777777777777778,
             "#fb9f3a"
            ],
            [
             0.8888888888888888,
             "#fdca26"
            ],
            [
             1,
             "#f0f921"
            ]
           ]
          },
          "colorway": [
           "#636efa",
           "#EF553B",
           "#00cc96",
           "#ab63fa",
           "#FFA15A",
           "#19d3f3",
           "#FF6692",
           "#B6E880",
           "#FF97FF",
           "#FECB52"
          ],
          "font": {
           "color": "#2a3f5f"
          },
          "geo": {
           "bgcolor": "white",
           "lakecolor": "white",
           "landcolor": "#E5ECF6",
           "showlakes": true,
           "showland": true,
           "subunitcolor": "white"
          },
          "hoverlabel": {
           "align": "left"
          },
          "hovermode": "closest",
          "mapbox": {
           "style": "light"
          },
          "paper_bgcolor": "white",
          "plot_bgcolor": "#E5ECF6",
          "polar": {
           "angularaxis": {
            "gridcolor": "white",
            "linecolor": "white",
            "ticks": ""
           },
           "bgcolor": "#E5ECF6",
           "radialaxis": {
            "gridcolor": "white",
            "linecolor": "white",
            "ticks": ""
           }
          },
          "scene": {
           "xaxis": {
            "backgroundcolor": "#E5ECF6",
            "gridcolor": "white",
            "gridwidth": 2,
            "linecolor": "white",
            "showbackground": true,
            "ticks": "",
            "zerolinecolor": "white"
           },
           "yaxis": {
            "backgroundcolor": "#E5ECF6",
            "gridcolor": "white",
            "gridwidth": 2,
            "linecolor": "white",
            "showbackground": true,
            "ticks": "",
            "zerolinecolor": "white"
           },
           "zaxis": {
            "backgroundcolor": "#E5ECF6",
            "gridcolor": "white",
            "gridwidth": 2,
            "linecolor": "white",
            "showbackground": true,
            "ticks": "",
            "zerolinecolor": "white"
           }
          },
          "shapedefaults": {
           "line": {
            "color": "#2a3f5f"
           }
          },
          "ternary": {
           "aaxis": {
            "gridcolor": "white",
            "linecolor": "white",
            "ticks": ""
           },
           "baxis": {
            "gridcolor": "white",
            "linecolor": "white",
            "ticks": ""
           },
           "bgcolor": "#E5ECF6",
           "caxis": {
            "gridcolor": "white",
            "linecolor": "white",
            "ticks": ""
           }
          },
          "title": {
           "x": 0.05
          },
          "xaxis": {
           "automargin": true,
           "gridcolor": "white",
           "linecolor": "white",
           "ticks": "",
           "title": {
            "standoff": 15
           },
           "zerolinecolor": "white",
           "zerolinewidth": 2
          },
          "yaxis": {
           "automargin": true,
           "gridcolor": "white",
           "linecolor": "white",
           "ticks": "",
           "title": {
            "standoff": 15
           },
           "zerolinecolor": "white",
           "zerolinewidth": 2
          }
         }
        },
        "xaxis": {
         "anchor": "y",
         "categoryarray": [
          "Mulares y Asnales",
          "Camelidos",
          "Bubalinos",
          "Aves",
          "Porcinos",
          "Caprinos",
          "equinos",
          "Ovinos",
          "Quema de Biomasa",
          "Fertilizantes Sinteticos",
          "Bovinos de Leche",
          "Produccion agricola",
          "Bosque Cultivado",
          "Bosque Nativo",
          "Bovinos de Carne",
          "Cultivo/Pasturas"
         ],
         "categoryorder": "array",
         "domain": [
          0,
          1
         ],
         "title": {
          "text": "subactividad"
         }
        },
        "yaxis": {
         "anchor": "x",
         "domain": [
          0,
          1
         ],
         "title": {
          "text": "valor(MtCO2eq)"
         }
        }
       }
      }
     },
     "metadata": {},
     "output_type": "display_data"
    }
   ],
   "source": [
    "gases_emitidos = df[df['valor(MtCO2eq)'] > 0]\n",
    "gases_emitidos = gases_emitidos.groupby('subactividad', as_index = False).agg({'valor(MtCO2eq)':'sum'}).sort_values('valor(MtCO2eq)')\n",
    "fig = px.bar(gases_emitidos, x=\"subactividad\", y=\"valor(MtCO2eq)\", color=\"subactividad\", hover_name=\"subactividad\")\n",
    "fig.show()"
   ]
  },
  {
   "cell_type": "code",
   "execution_count": 110,
   "metadata": {},
   "outputs": [
    {
     "data": {
      "application/vnd.plotly.v1+json": {
       "config": {
        "plotlyServerURL": "https://plot.ly"
       },
       "data": [
        {
         "alignmentgroup": "True",
         "hovertemplate": "<b>%{hovertext}</b><br><br>fuente_de_emision_y_absorcion=%{x}<br>valor(MtCO2eq)=%{y}<extra></extra>",
         "hovertext": [
          "Tierras forestales que permanecen como tales (Crecimiento Bosque Cultivado)"
         ],
         "legendgroup": "Tierras forestales que permanecen como tales (Crecimiento Bosque Cultivado)",
         "marker": {
          "color": "#636efa",
          "pattern": {
           "shape": ""
          }
         },
         "name": "Tierras forestales que permanecen como tales (Crecimiento Bosque Cultivado)",
         "offsetgroup": "Tierras forestales que permanecen como tales (Crecimiento Bosque Cultivado)",
         "orientation": "v",
         "showlegend": true,
         "textposition": "auto",
         "type": "bar",
         "x": [
          "Tierras forestales que permanecen como tales (Crecimiento Bosque Cultivado)"
         ],
         "xaxis": "x",
         "y": [
          -919.37
         ],
         "yaxis": "y"
        },
        {
         "alignmentgroup": "True",
         "hovertemplate": "<b>%{hovertext}</b><br><br>fuente_de_emision_y_absorcion=%{x}<br>valor(MtCO2eq)=%{y}<extra></extra>",
         "hovertext": [
          "Pastizales convertidos en suelos cultivados"
         ],
         "legendgroup": "Pastizales convertidos en suelos cultivados",
         "marker": {
          "color": "#EF553B",
          "pattern": {
           "shape": ""
          }
         },
         "name": "Pastizales convertidos en suelos cultivados",
         "offsetgroup": "Pastizales convertidos en suelos cultivados",
         "orientation": "v",
         "showlegend": true,
         "textposition": "auto",
         "type": "bar",
         "x": [
          "Pastizales convertidos en suelos cultivados"
         ],
         "xaxis": "x",
         "y": [
          -236.59
         ],
         "yaxis": "y"
        },
        {
         "alignmentgroup": "True",
         "hovertemplate": "<b>%{hovertext}</b><br><br>fuente_de_emision_y_absorcion=%{x}<br>valor(MtCO2eq)=%{y}<extra></extra>",
         "hovertext": [
          "Tierras forestales que permanecen como tales (Captura Bosque Nativo)"
         ],
         "legendgroup": "Tierras forestales que permanecen como tales (Captura Bosque Nativo)",
         "marker": {
          "color": "#00cc96",
          "pattern": {
           "shape": ""
          }
         },
         "name": "Tierras forestales que permanecen como tales (Captura Bosque Nativo)",
         "offsetgroup": "Tierras forestales que permanecen como tales (Captura Bosque Nativo)",
         "orientation": "v",
         "showlegend": true,
         "textposition": "auto",
         "type": "bar",
         "x": [
          "Tierras forestales que permanecen como tales (Captura Bosque Nativo)"
         ],
         "xaxis": "x",
         "y": [
          -114.88
         ],
         "yaxis": "y"
        }
       ],
       "layout": {
        "barmode": "relative",
        "legend": {
         "title": {
          "text": "fuente_de_emision_y_absorcion"
         },
         "tracegroupgap": 0
        },
        "margin": {
         "t": 60
        },
        "template": {
         "data": {
          "bar": [
           {
            "error_x": {
             "color": "#2a3f5f"
            },
            "error_y": {
             "color": "#2a3f5f"
            },
            "marker": {
             "line": {
              "color": "#E5ECF6",
              "width": 0.5
             },
             "pattern": {
              "fillmode": "overlay",
              "size": 10,
              "solidity": 0.2
             }
            },
            "type": "bar"
           }
          ],
          "barpolar": [
           {
            "marker": {
             "line": {
              "color": "#E5ECF6",
              "width": 0.5
             },
             "pattern": {
              "fillmode": "overlay",
              "size": 10,
              "solidity": 0.2
             }
            },
            "type": "barpolar"
           }
          ],
          "carpet": [
           {
            "aaxis": {
             "endlinecolor": "#2a3f5f",
             "gridcolor": "white",
             "linecolor": "white",
             "minorgridcolor": "white",
             "startlinecolor": "#2a3f5f"
            },
            "baxis": {
             "endlinecolor": "#2a3f5f",
             "gridcolor": "white",
             "linecolor": "white",
             "minorgridcolor": "white",
             "startlinecolor": "#2a3f5f"
            },
            "type": "carpet"
           }
          ],
          "choropleth": [
           {
            "colorbar": {
             "outlinewidth": 0,
             "ticks": ""
            },
            "type": "choropleth"
           }
          ],
          "contour": [
           {
            "colorbar": {
             "outlinewidth": 0,
             "ticks": ""
            },
            "colorscale": [
             [
              0,
              "#0d0887"
             ],
             [
              0.1111111111111111,
              "#46039f"
             ],
             [
              0.2222222222222222,
              "#7201a8"
             ],
             [
              0.3333333333333333,
              "#9c179e"
             ],
             [
              0.4444444444444444,
              "#bd3786"
             ],
             [
              0.5555555555555556,
              "#d8576b"
             ],
             [
              0.6666666666666666,
              "#ed7953"
             ],
             [
              0.7777777777777778,
              "#fb9f3a"
             ],
             [
              0.8888888888888888,
              "#fdca26"
             ],
             [
              1,
              "#f0f921"
             ]
            ],
            "type": "contour"
           }
          ],
          "contourcarpet": [
           {
            "colorbar": {
             "outlinewidth": 0,
             "ticks": ""
            },
            "type": "contourcarpet"
           }
          ],
          "heatmap": [
           {
            "colorbar": {
             "outlinewidth": 0,
             "ticks": ""
            },
            "colorscale": [
             [
              0,
              "#0d0887"
             ],
             [
              0.1111111111111111,
              "#46039f"
             ],
             [
              0.2222222222222222,
              "#7201a8"
             ],
             [
              0.3333333333333333,
              "#9c179e"
             ],
             [
              0.4444444444444444,
              "#bd3786"
             ],
             [
              0.5555555555555556,
              "#d8576b"
             ],
             [
              0.6666666666666666,
              "#ed7953"
             ],
             [
              0.7777777777777778,
              "#fb9f3a"
             ],
             [
              0.8888888888888888,
              "#fdca26"
             ],
             [
              1,
              "#f0f921"
             ]
            ],
            "type": "heatmap"
           }
          ],
          "heatmapgl": [
           {
            "colorbar": {
             "outlinewidth": 0,
             "ticks": ""
            },
            "colorscale": [
             [
              0,
              "#0d0887"
             ],
             [
              0.1111111111111111,
              "#46039f"
             ],
             [
              0.2222222222222222,
              "#7201a8"
             ],
             [
              0.3333333333333333,
              "#9c179e"
             ],
             [
              0.4444444444444444,
              "#bd3786"
             ],
             [
              0.5555555555555556,
              "#d8576b"
             ],
             [
              0.6666666666666666,
              "#ed7953"
             ],
             [
              0.7777777777777778,
              "#fb9f3a"
             ],
             [
              0.8888888888888888,
              "#fdca26"
             ],
             [
              1,
              "#f0f921"
             ]
            ],
            "type": "heatmapgl"
           }
          ],
          "histogram": [
           {
            "marker": {
             "pattern": {
              "fillmode": "overlay",
              "size": 10,
              "solidity": 0.2
             }
            },
            "type": "histogram"
           }
          ],
          "histogram2d": [
           {
            "colorbar": {
             "outlinewidth": 0,
             "ticks": ""
            },
            "colorscale": [
             [
              0,
              "#0d0887"
             ],
             [
              0.1111111111111111,
              "#46039f"
             ],
             [
              0.2222222222222222,
              "#7201a8"
             ],
             [
              0.3333333333333333,
              "#9c179e"
             ],
             [
              0.4444444444444444,
              "#bd3786"
             ],
             [
              0.5555555555555556,
              "#d8576b"
             ],
             [
              0.6666666666666666,
              "#ed7953"
             ],
             [
              0.7777777777777778,
              "#fb9f3a"
             ],
             [
              0.8888888888888888,
              "#fdca26"
             ],
             [
              1,
              "#f0f921"
             ]
            ],
            "type": "histogram2d"
           }
          ],
          "histogram2dcontour": [
           {
            "colorbar": {
             "outlinewidth": 0,
             "ticks": ""
            },
            "colorscale": [
             [
              0,
              "#0d0887"
             ],
             [
              0.1111111111111111,
              "#46039f"
             ],
             [
              0.2222222222222222,
              "#7201a8"
             ],
             [
              0.3333333333333333,
              "#9c179e"
             ],
             [
              0.4444444444444444,
              "#bd3786"
             ],
             [
              0.5555555555555556,
              "#d8576b"
             ],
             [
              0.6666666666666666,
              "#ed7953"
             ],
             [
              0.7777777777777778,
              "#fb9f3a"
             ],
             [
              0.8888888888888888,
              "#fdca26"
             ],
             [
              1,
              "#f0f921"
             ]
            ],
            "type": "histogram2dcontour"
           }
          ],
          "mesh3d": [
           {
            "colorbar": {
             "outlinewidth": 0,
             "ticks": ""
            },
            "type": "mesh3d"
           }
          ],
          "parcoords": [
           {
            "line": {
             "colorbar": {
              "outlinewidth": 0,
              "ticks": ""
             }
            },
            "type": "parcoords"
           }
          ],
          "pie": [
           {
            "automargin": true,
            "type": "pie"
           }
          ],
          "scatter": [
           {
            "fillpattern": {
             "fillmode": "overlay",
             "size": 10,
             "solidity": 0.2
            },
            "type": "scatter"
           }
          ],
          "scatter3d": [
           {
            "line": {
             "colorbar": {
              "outlinewidth": 0,
              "ticks": ""
             }
            },
            "marker": {
             "colorbar": {
              "outlinewidth": 0,
              "ticks": ""
             }
            },
            "type": "scatter3d"
           }
          ],
          "scattercarpet": [
           {
            "marker": {
             "colorbar": {
              "outlinewidth": 0,
              "ticks": ""
             }
            },
            "type": "scattercarpet"
           }
          ],
          "scattergeo": [
           {
            "marker": {
             "colorbar": {
              "outlinewidth": 0,
              "ticks": ""
             }
            },
            "type": "scattergeo"
           }
          ],
          "scattergl": [
           {
            "marker": {
             "colorbar": {
              "outlinewidth": 0,
              "ticks": ""
             }
            },
            "type": "scattergl"
           }
          ],
          "scattermapbox": [
           {
            "marker": {
             "colorbar": {
              "outlinewidth": 0,
              "ticks": ""
             }
            },
            "type": "scattermapbox"
           }
          ],
          "scatterpolar": [
           {
            "marker": {
             "colorbar": {
              "outlinewidth": 0,
              "ticks": ""
             }
            },
            "type": "scatterpolar"
           }
          ],
          "scatterpolargl": [
           {
            "marker": {
             "colorbar": {
              "outlinewidth": 0,
              "ticks": ""
             }
            },
            "type": "scatterpolargl"
           }
          ],
          "scatterternary": [
           {
            "marker": {
             "colorbar": {
              "outlinewidth": 0,
              "ticks": ""
             }
            },
            "type": "scatterternary"
           }
          ],
          "surface": [
           {
            "colorbar": {
             "outlinewidth": 0,
             "ticks": ""
            },
            "colorscale": [
             [
              0,
              "#0d0887"
             ],
             [
              0.1111111111111111,
              "#46039f"
             ],
             [
              0.2222222222222222,
              "#7201a8"
             ],
             [
              0.3333333333333333,
              "#9c179e"
             ],
             [
              0.4444444444444444,
              "#bd3786"
             ],
             [
              0.5555555555555556,
              "#d8576b"
             ],
             [
              0.6666666666666666,
              "#ed7953"
             ],
             [
              0.7777777777777778,
              "#fb9f3a"
             ],
             [
              0.8888888888888888,
              "#fdca26"
             ],
             [
              1,
              "#f0f921"
             ]
            ],
            "type": "surface"
           }
          ],
          "table": [
           {
            "cells": {
             "fill": {
              "color": "#EBF0F8"
             },
             "line": {
              "color": "white"
             }
            },
            "header": {
             "fill": {
              "color": "#C8D4E3"
             },
             "line": {
              "color": "white"
             }
            },
            "type": "table"
           }
          ]
         },
         "layout": {
          "annotationdefaults": {
           "arrowcolor": "#2a3f5f",
           "arrowhead": 0,
           "arrowwidth": 1
          },
          "autotypenumbers": "strict",
          "coloraxis": {
           "colorbar": {
            "outlinewidth": 0,
            "ticks": ""
           }
          },
          "colorscale": {
           "diverging": [
            [
             0,
             "#8e0152"
            ],
            [
             0.1,
             "#c51b7d"
            ],
            [
             0.2,
             "#de77ae"
            ],
            [
             0.3,
             "#f1b6da"
            ],
            [
             0.4,
             "#fde0ef"
            ],
            [
             0.5,
             "#f7f7f7"
            ],
            [
             0.6,
             "#e6f5d0"
            ],
            [
             0.7,
             "#b8e186"
            ],
            [
             0.8,
             "#7fbc41"
            ],
            [
             0.9,
             "#4d9221"
            ],
            [
             1,
             "#276419"
            ]
           ],
           "sequential": [
            [
             0,
             "#0d0887"
            ],
            [
             0.1111111111111111,
             "#46039f"
            ],
            [
             0.2222222222222222,
             "#7201a8"
            ],
            [
             0.3333333333333333,
             "#9c179e"
            ],
            [
             0.4444444444444444,
             "#bd3786"
            ],
            [
             0.5555555555555556,
             "#d8576b"
            ],
            [
             0.6666666666666666,
             "#ed7953"
            ],
            [
             0.7777777777777778,
             "#fb9f3a"
            ],
            [
             0.8888888888888888,
             "#fdca26"
            ],
            [
             1,
             "#f0f921"
            ]
           ],
           "sequentialminus": [
            [
             0,
             "#0d0887"
            ],
            [
             0.1111111111111111,
             "#46039f"
            ],
            [
             0.2222222222222222,
             "#7201a8"
            ],
            [
             0.3333333333333333,
             "#9c179e"
            ],
            [
             0.4444444444444444,
             "#bd3786"
            ],
            [
             0.5555555555555556,
             "#d8576b"
            ],
            [
             0.6666666666666666,
             "#ed7953"
            ],
            [
             0.7777777777777778,
             "#fb9f3a"
            ],
            [
             0.8888888888888888,
             "#fdca26"
            ],
            [
             1,
             "#f0f921"
            ]
           ]
          },
          "colorway": [
           "#636efa",
           "#EF553B",
           "#00cc96",
           "#ab63fa",
           "#FFA15A",
           "#19d3f3",
           "#FF6692",
           "#B6E880",
           "#FF97FF",
           "#FECB52"
          ],
          "font": {
           "color": "#2a3f5f"
          },
          "geo": {
           "bgcolor": "white",
           "lakecolor": "white",
           "landcolor": "#E5ECF6",
           "showlakes": true,
           "showland": true,
           "subunitcolor": "white"
          },
          "hoverlabel": {
           "align": "left"
          },
          "hovermode": "closest",
          "mapbox": {
           "style": "light"
          },
          "paper_bgcolor": "white",
          "plot_bgcolor": "#E5ECF6",
          "polar": {
           "angularaxis": {
            "gridcolor": "white",
            "linecolor": "white",
            "ticks": ""
           },
           "bgcolor": "#E5ECF6",
           "radialaxis": {
            "gridcolor": "white",
            "linecolor": "white",
            "ticks": ""
           }
          },
          "scene": {
           "xaxis": {
            "backgroundcolor": "#E5ECF6",
            "gridcolor": "white",
            "gridwidth": 2,
            "linecolor": "white",
            "showbackground": true,
            "ticks": "",
            "zerolinecolor": "white"
           },
           "yaxis": {
            "backgroundcolor": "#E5ECF6",
            "gridcolor": "white",
            "gridwidth": 2,
            "linecolor": "white",
            "showbackground": true,
            "ticks": "",
            "zerolinecolor": "white"
           },
           "zaxis": {
            "backgroundcolor": "#E5ECF6",
            "gridcolor": "white",
            "gridwidth": 2,
            "linecolor": "white",
            "showbackground": true,
            "ticks": "",
            "zerolinecolor": "white"
           }
          },
          "shapedefaults": {
           "line": {
            "color": "#2a3f5f"
           }
          },
          "ternary": {
           "aaxis": {
            "gridcolor": "white",
            "linecolor": "white",
            "ticks": ""
           },
           "baxis": {
            "gridcolor": "white",
            "linecolor": "white",
            "ticks": ""
           },
           "bgcolor": "#E5ECF6",
           "caxis": {
            "gridcolor": "white",
            "linecolor": "white",
            "ticks": ""
           }
          },
          "title": {
           "x": 0.05
          },
          "xaxis": {
           "automargin": true,
           "gridcolor": "white",
           "linecolor": "white",
           "ticks": "",
           "title": {
            "standoff": 15
           },
           "zerolinecolor": "white",
           "zerolinewidth": 2
          },
          "yaxis": {
           "automargin": true,
           "gridcolor": "white",
           "linecolor": "white",
           "ticks": "",
           "title": {
            "standoff": 15
           },
           "zerolinecolor": "white",
           "zerolinewidth": 2
          }
         }
        },
        "xaxis": {
         "anchor": "y",
         "categoryarray": [
          "Tierras forestales que permanecen como tales (Crecimiento Bosque Cultivado)",
          "Pastizales convertidos en suelos cultivados",
          "Tierras forestales que permanecen como tales (Captura Bosque Nativo)"
         ],
         "categoryorder": "array",
         "domain": [
          0,
          1
         ],
         "title": {
          "text": "fuente_de_emision_y_absorcion"
         }
        },
        "yaxis": {
         "anchor": "x",
         "domain": [
          0,
          1
         ],
         "title": {
          "text": "valor(MtCO2eq)"
         }
        }
       }
      }
     },
     "metadata": {},
     "output_type": "display_data"
    }
   ],
   "source": [
    "#Gases absorbidos\n",
    "gases_absorbidos = df[df['valor(MtCO2eq)'] < 0]\n",
    "gases_absorbidos = gases_absorbidos.groupby('fuente_de_emision_y_absorcion', as_index = False).agg({'valor(MtCO2eq)':'sum'}).sort_values('valor(MtCO2eq)')\n",
    "fig = px.bar(gases_absorbidos, x=\"fuente_de_emision_y_absorcion\", y=\"valor(MtCO2eq)\", color=\"fuente_de_emision_y_absorcion\", hover_name=\"fuente_de_emision_y_absorcion\")\n",
    "fig.show()"
   ]
  },
  {
   "cell_type": "code",
   "execution_count": 9,
   "metadata": {},
   "outputs": [
    {
     "data": {
      "application/vnd.plotly.v1+json": {
       "config": {
        "plotlyServerURL": "https://plot.ly"
       },
       "data": [
        {
         "hovertemplate": "anio=%{x}<br>valor(MtCO2eq)=%{y}<extra></extra>",
         "legendgroup": "",
         "line": {
          "color": "red",
          "dash": "solid"
         },
         "marker": {
          "symbol": "circle"
         },
         "mode": "lines",
         "name": "",
         "orientation": "v",
         "showlegend": false,
         "type": "scatter",
         "x": [
          1990,
          1991,
          1992,
          1993,
          1994,
          1995,
          1996,
          1997,
          1998,
          1999,
          2000,
          2001,
          2002,
          2003,
          2004,
          2005,
          2006,
          2007,
          2008,
          2009,
          2010,
          2011,
          2012,
          2013,
          2014,
          2015,
          2016
         ],
         "xaxis": "x",
         "y": [
          192.4,
          219.97,
          217.21,
          218.13,
          215.71,
          224.20000000000002,
          240.79,
          256.64,
          253.22,
          249.27,
          249.93,
          255.35,
          269.55,
          278.39,
          285.27,
          274.86,
          286.14,
          294,
          268.03000000000003,
          231.92000000000002,
          235.24,
          223.37,
          249.96,
          266.26,
          220.13,
          196.29,
          197.63
         ],
         "yaxis": "y"
        }
       ],
       "layout": {
        "legend": {
         "tracegroupgap": 0
        },
        "margin": {
         "t": 60
        },
        "template": {
         "data": {
          "bar": [
           {
            "error_x": {
             "color": "#2a3f5f"
            },
            "error_y": {
             "color": "#2a3f5f"
            },
            "marker": {
             "line": {
              "color": "#E5ECF6",
              "width": 0.5
             },
             "pattern": {
              "fillmode": "overlay",
              "size": 10,
              "solidity": 0.2
             }
            },
            "type": "bar"
           }
          ],
          "barpolar": [
           {
            "marker": {
             "line": {
              "color": "#E5ECF6",
              "width": 0.5
             },
             "pattern": {
              "fillmode": "overlay",
              "size": 10,
              "solidity": 0.2
             }
            },
            "type": "barpolar"
           }
          ],
          "carpet": [
           {
            "aaxis": {
             "endlinecolor": "#2a3f5f",
             "gridcolor": "white",
             "linecolor": "white",
             "minorgridcolor": "white",
             "startlinecolor": "#2a3f5f"
            },
            "baxis": {
             "endlinecolor": "#2a3f5f",
             "gridcolor": "white",
             "linecolor": "white",
             "minorgridcolor": "white",
             "startlinecolor": "#2a3f5f"
            },
            "type": "carpet"
           }
          ],
          "choropleth": [
           {
            "colorbar": {
             "outlinewidth": 0,
             "ticks": ""
            },
            "type": "choropleth"
           }
          ],
          "contour": [
           {
            "colorbar": {
             "outlinewidth": 0,
             "ticks": ""
            },
            "colorscale": [
             [
              0,
              "#0d0887"
             ],
             [
              0.1111111111111111,
              "#46039f"
             ],
             [
              0.2222222222222222,
              "#7201a8"
             ],
             [
              0.3333333333333333,
              "#9c179e"
             ],
             [
              0.4444444444444444,
              "#bd3786"
             ],
             [
              0.5555555555555556,
              "#d8576b"
             ],
             [
              0.6666666666666666,
              "#ed7953"
             ],
             [
              0.7777777777777778,
              "#fb9f3a"
             ],
             [
              0.8888888888888888,
              "#fdca26"
             ],
             [
              1,
              "#f0f921"
             ]
            ],
            "type": "contour"
           }
          ],
          "contourcarpet": [
           {
            "colorbar": {
             "outlinewidth": 0,
             "ticks": ""
            },
            "type": "contourcarpet"
           }
          ],
          "heatmap": [
           {
            "colorbar": {
             "outlinewidth": 0,
             "ticks": ""
            },
            "colorscale": [
             [
              0,
              "#0d0887"
             ],
             [
              0.1111111111111111,
              "#46039f"
             ],
             [
              0.2222222222222222,
              "#7201a8"
             ],
             [
              0.3333333333333333,
              "#9c179e"
             ],
             [
              0.4444444444444444,
              "#bd3786"
             ],
             [
              0.5555555555555556,
              "#d8576b"
             ],
             [
              0.6666666666666666,
              "#ed7953"
             ],
             [
              0.7777777777777778,
              "#fb9f3a"
             ],
             [
              0.8888888888888888,
              "#fdca26"
             ],
             [
              1,
              "#f0f921"
             ]
            ],
            "type": "heatmap"
           }
          ],
          "heatmapgl": [
           {
            "colorbar": {
             "outlinewidth": 0,
             "ticks": ""
            },
            "colorscale": [
             [
              0,
              "#0d0887"
             ],
             [
              0.1111111111111111,
              "#46039f"
             ],
             [
              0.2222222222222222,
              "#7201a8"
             ],
             [
              0.3333333333333333,
              "#9c179e"
             ],
             [
              0.4444444444444444,
              "#bd3786"
             ],
             [
              0.5555555555555556,
              "#d8576b"
             ],
             [
              0.6666666666666666,
              "#ed7953"
             ],
             [
              0.7777777777777778,
              "#fb9f3a"
             ],
             [
              0.8888888888888888,
              "#fdca26"
             ],
             [
              1,
              "#f0f921"
             ]
            ],
            "type": "heatmapgl"
           }
          ],
          "histogram": [
           {
            "marker": {
             "pattern": {
              "fillmode": "overlay",
              "size": 10,
              "solidity": 0.2
             }
            },
            "type": "histogram"
           }
          ],
          "histogram2d": [
           {
            "colorbar": {
             "outlinewidth": 0,
             "ticks": ""
            },
            "colorscale": [
             [
              0,
              "#0d0887"
             ],
             [
              0.1111111111111111,
              "#46039f"
             ],
             [
              0.2222222222222222,
              "#7201a8"
             ],
             [
              0.3333333333333333,
              "#9c179e"
             ],
             [
              0.4444444444444444,
              "#bd3786"
             ],
             [
              0.5555555555555556,
              "#d8576b"
             ],
             [
              0.6666666666666666,
              "#ed7953"
             ],
             [
              0.7777777777777778,
              "#fb9f3a"
             ],
             [
              0.8888888888888888,
              "#fdca26"
             ],
             [
              1,
              "#f0f921"
             ]
            ],
            "type": "histogram2d"
           }
          ],
          "histogram2dcontour": [
           {
            "colorbar": {
             "outlinewidth": 0,
             "ticks": ""
            },
            "colorscale": [
             [
              0,
              "#0d0887"
             ],
             [
              0.1111111111111111,
              "#46039f"
             ],
             [
              0.2222222222222222,
              "#7201a8"
             ],
             [
              0.3333333333333333,
              "#9c179e"
             ],
             [
              0.4444444444444444,
              "#bd3786"
             ],
             [
              0.5555555555555556,
              "#d8576b"
             ],
             [
              0.6666666666666666,
              "#ed7953"
             ],
             [
              0.7777777777777778,
              "#fb9f3a"
             ],
             [
              0.8888888888888888,
              "#fdca26"
             ],
             [
              1,
              "#f0f921"
             ]
            ],
            "type": "histogram2dcontour"
           }
          ],
          "mesh3d": [
           {
            "colorbar": {
             "outlinewidth": 0,
             "ticks": ""
            },
            "type": "mesh3d"
           }
          ],
          "parcoords": [
           {
            "line": {
             "colorbar": {
              "outlinewidth": 0,
              "ticks": ""
             }
            },
            "type": "parcoords"
           }
          ],
          "pie": [
           {
            "automargin": true,
            "type": "pie"
           }
          ],
          "scatter": [
           {
            "fillpattern": {
             "fillmode": "overlay",
             "size": 10,
             "solidity": 0.2
            },
            "type": "scatter"
           }
          ],
          "scatter3d": [
           {
            "line": {
             "colorbar": {
              "outlinewidth": 0,
              "ticks": ""
             }
            },
            "marker": {
             "colorbar": {
              "outlinewidth": 0,
              "ticks": ""
             }
            },
            "type": "scatter3d"
           }
          ],
          "scattercarpet": [
           {
            "marker": {
             "colorbar": {
              "outlinewidth": 0,
              "ticks": ""
             }
            },
            "type": "scattercarpet"
           }
          ],
          "scattergeo": [
           {
            "marker": {
             "colorbar": {
              "outlinewidth": 0,
              "ticks": ""
             }
            },
            "type": "scattergeo"
           }
          ],
          "scattergl": [
           {
            "marker": {
             "colorbar": {
              "outlinewidth": 0,
              "ticks": ""
             }
            },
            "type": "scattergl"
           }
          ],
          "scattermapbox": [
           {
            "marker": {
             "colorbar": {
              "outlinewidth": 0,
              "ticks": ""
             }
            },
            "type": "scattermapbox"
           }
          ],
          "scatterpolar": [
           {
            "marker": {
             "colorbar": {
              "outlinewidth": 0,
              "ticks": ""
             }
            },
            "type": "scatterpolar"
           }
          ],
          "scatterpolargl": [
           {
            "marker": {
             "colorbar": {
              "outlinewidth": 0,
              "ticks": ""
             }
            },
            "type": "scatterpolargl"
           }
          ],
          "scatterternary": [
           {
            "marker": {
             "colorbar": {
              "outlinewidth": 0,
              "ticks": ""
             }
            },
            "type": "scatterternary"
           }
          ],
          "surface": [
           {
            "colorbar": {
             "outlinewidth": 0,
             "ticks": ""
            },
            "colorscale": [
             [
              0,
              "#0d0887"
             ],
             [
              0.1111111111111111,
              "#46039f"
             ],
             [
              0.2222222222222222,
              "#7201a8"
             ],
             [
              0.3333333333333333,
              "#9c179e"
             ],
             [
              0.4444444444444444,
              "#bd3786"
             ],
             [
              0.5555555555555556,
              "#d8576b"
             ],
             [
              0.6666666666666666,
              "#ed7953"
             ],
             [
              0.7777777777777778,
              "#fb9f3a"
             ],
             [
              0.8888888888888888,
              "#fdca26"
             ],
             [
              1,
              "#f0f921"
             ]
            ],
            "type": "surface"
           }
          ],
          "table": [
           {
            "cells": {
             "fill": {
              "color": "#EBF0F8"
             },
             "line": {
              "color": "white"
             }
            },
            "header": {
             "fill": {
              "color": "#C8D4E3"
             },
             "line": {
              "color": "white"
             }
            },
            "type": "table"
           }
          ]
         },
         "layout": {
          "annotationdefaults": {
           "arrowcolor": "#2a3f5f",
           "arrowhead": 0,
           "arrowwidth": 1
          },
          "autotypenumbers": "strict",
          "coloraxis": {
           "colorbar": {
            "outlinewidth": 0,
            "ticks": ""
           }
          },
          "colorscale": {
           "diverging": [
            [
             0,
             "#8e0152"
            ],
            [
             0.1,
             "#c51b7d"
            ],
            [
             0.2,
             "#de77ae"
            ],
            [
             0.3,
             "#f1b6da"
            ],
            [
             0.4,
             "#fde0ef"
            ],
            [
             0.5,
             "#f7f7f7"
            ],
            [
             0.6,
             "#e6f5d0"
            ],
            [
             0.7,
             "#b8e186"
            ],
            [
             0.8,
             "#7fbc41"
            ],
            [
             0.9,
             "#4d9221"
            ],
            [
             1,
             "#276419"
            ]
           ],
           "sequential": [
            [
             0,
             "#0d0887"
            ],
            [
             0.1111111111111111,
             "#46039f"
            ],
            [
             0.2222222222222222,
             "#7201a8"
            ],
            [
             0.3333333333333333,
             "#9c179e"
            ],
            [
             0.4444444444444444,
             "#bd3786"
            ],
            [
             0.5555555555555556,
             "#d8576b"
            ],
            [
             0.6666666666666666,
             "#ed7953"
            ],
            [
             0.7777777777777778,
             "#fb9f3a"
            ],
            [
             0.8888888888888888,
             "#fdca26"
            ],
            [
             1,
             "#f0f921"
            ]
           ],
           "sequentialminus": [
            [
             0,
             "#0d0887"
            ],
            [
             0.1111111111111111,
             "#46039f"
            ],
            [
             0.2222222222222222,
             "#7201a8"
            ],
            [
             0.3333333333333333,
             "#9c179e"
            ],
            [
             0.4444444444444444,
             "#bd3786"
            ],
            [
             0.5555555555555556,
             "#d8576b"
            ],
            [
             0.6666666666666666,
             "#ed7953"
            ],
            [
             0.7777777777777778,
             "#fb9f3a"
            ],
            [
             0.8888888888888888,
             "#fdca26"
            ],
            [
             1,
             "#f0f921"
            ]
           ]
          },
          "colorway": [
           "#636efa",
           "#EF553B",
           "#00cc96",
           "#ab63fa",
           "#FFA15A",
           "#19d3f3",
           "#FF6692",
           "#B6E880",
           "#FF97FF",
           "#FECB52"
          ],
          "font": {
           "color": "#2a3f5f"
          },
          "geo": {
           "bgcolor": "white",
           "lakecolor": "white",
           "landcolor": "#E5ECF6",
           "showlakes": true,
           "showland": true,
           "subunitcolor": "white"
          },
          "hoverlabel": {
           "align": "left"
          },
          "hovermode": "closest",
          "mapbox": {
           "style": "light"
          },
          "paper_bgcolor": "white",
          "plot_bgcolor": "#E5ECF6",
          "polar": {
           "angularaxis": {
            "gridcolor": "white",
            "linecolor": "white",
            "ticks": ""
           },
           "bgcolor": "#E5ECF6",
           "radialaxis": {
            "gridcolor": "white",
            "linecolor": "white",
            "ticks": ""
           }
          },
          "scene": {
           "xaxis": {
            "backgroundcolor": "#E5ECF6",
            "gridcolor": "white",
            "gridwidth": 2,
            "linecolor": "white",
            "showbackground": true,
            "ticks": "",
            "zerolinecolor": "white"
           },
           "yaxis": {
            "backgroundcolor": "#E5ECF6",
            "gridcolor": "white",
            "gridwidth": 2,
            "linecolor": "white",
            "showbackground": true,
            "ticks": "",
            "zerolinecolor": "white"
           },
           "zaxis": {
            "backgroundcolor": "#E5ECF6",
            "gridcolor": "white",
            "gridwidth": 2,
            "linecolor": "white",
            "showbackground": true,
            "ticks": "",
            "zerolinecolor": "white"
           }
          },
          "shapedefaults": {
           "line": {
            "color": "#2a3f5f"
           }
          },
          "ternary": {
           "aaxis": {
            "gridcolor": "white",
            "linecolor": "white",
            "ticks": ""
           },
           "baxis": {
            "gridcolor": "white",
            "linecolor": "white",
            "ticks": ""
           },
           "bgcolor": "#E5ECF6",
           "caxis": {
            "gridcolor": "white",
            "linecolor": "white",
            "ticks": ""
           }
          },
          "title": {
           "x": 0.05
          },
          "xaxis": {
           "automargin": true,
           "gridcolor": "white",
           "linecolor": "white",
           "ticks": "",
           "title": {
            "standoff": 15
           },
           "zerolinecolor": "white",
           "zerolinewidth": 2
          },
          "yaxis": {
           "automargin": true,
           "gridcolor": "white",
           "linecolor": "white",
           "ticks": "",
           "title": {
            "standoff": 15
           },
           "zerolinecolor": "white",
           "zerolinewidth": 2
          }
         }
        },
        "xaxis": {
         "anchor": "y",
         "domain": [
          0,
          1
         ],
         "title": {
          "text": "anio"
         }
        },
        "yaxis": {
         "anchor": "x",
         "domain": [
          0,
          1
         ],
         "title": {
          "text": "valor(MtCO2eq)"
         }
        }
       }
      }
     },
     "metadata": {},
     "output_type": "display_data"
    }
   ],
   "source": [
    "gases_totales_emitidos = df[df['valor(MtCO2eq)'] > 0]\n",
    "total_emissions = gases_totales_emitidos.groupby('anio', as_index = False).agg({'valor(MtCO2eq)':'sum'})\n",
    "fig = px.line(total_emissions, x=\"anio\", y=\"valor(MtCO2eq)\", color_discrete_sequence=['red'])\n",
    "fig.show()\n",
    "fig.write_image(\"images/MtCO2eq_sum_por_año.svg\")\n"
   ]
  },
  {
   "cell_type": "code",
   "execution_count": 20,
   "metadata": {},
   "outputs": [
    {
     "data": {
      "application/vnd.plotly.v1+json": {
       "config": {
        "plotlyServerURL": "https://plot.ly"
       },
       "data": [
        {
         "hovertemplate": "anio=%{x}<br>rate_of_change=%{y}<extra></extra>",
         "legendgroup": "",
         "line": {
          "color": "green",
          "dash": "solid"
         },
         "marker": {
          "symbol": "circle"
         },
         "mode": "lines",
         "name": "",
         "orientation": "v",
         "showlegend": false,
         "type": "scatter",
         "x": [
          1990,
          1991,
          1992,
          1993,
          1994,
          1995,
          1996,
          1997,
          1998,
          1999,
          2000,
          2001,
          2002,
          2003,
          2004,
          2005,
          2006,
          2007,
          2008,
          2009,
          2010,
          2011,
          2012,
          2013,
          2014,
          2015,
          2016
         ],
         "xaxis": "x",
         "y": [
          0,
          11.21,
          5.02,
          -1.76,
          -1.62,
          7.84,
          9.16,
          8.73,
          -5.29,
          -4.62,
          2.54,
          -1.3,
          17.63,
          4.26,
          3.77,
          -6.17,
          8.46,
          8.69,
          -13.68,
          -22.08,
          -1.17,
          -6.39,
          30.26,
          0.8,
          -32.93,
          -14.01,
          3.95
         ],
         "yaxis": "y"
        }
       ],
       "layout": {
        "legend": {
         "tracegroupgap": 0
        },
        "margin": {
         "t": 60
        },
        "template": {
         "data": {
          "bar": [
           {
            "error_x": {
             "color": "#2a3f5f"
            },
            "error_y": {
             "color": "#2a3f5f"
            },
            "marker": {
             "line": {
              "color": "#E5ECF6",
              "width": 0.5
             },
             "pattern": {
              "fillmode": "overlay",
              "size": 10,
              "solidity": 0.2
             }
            },
            "type": "bar"
           }
          ],
          "barpolar": [
           {
            "marker": {
             "line": {
              "color": "#E5ECF6",
              "width": 0.5
             },
             "pattern": {
              "fillmode": "overlay",
              "size": 10,
              "solidity": 0.2
             }
            },
            "type": "barpolar"
           }
          ],
          "carpet": [
           {
            "aaxis": {
             "endlinecolor": "#2a3f5f",
             "gridcolor": "white",
             "linecolor": "white",
             "minorgridcolor": "white",
             "startlinecolor": "#2a3f5f"
            },
            "baxis": {
             "endlinecolor": "#2a3f5f",
             "gridcolor": "white",
             "linecolor": "white",
             "minorgridcolor": "white",
             "startlinecolor": "#2a3f5f"
            },
            "type": "carpet"
           }
          ],
          "choropleth": [
           {
            "colorbar": {
             "outlinewidth": 0,
             "ticks": ""
            },
            "type": "choropleth"
           }
          ],
          "contour": [
           {
            "colorbar": {
             "outlinewidth": 0,
             "ticks": ""
            },
            "colorscale": [
             [
              0,
              "#0d0887"
             ],
             [
              0.1111111111111111,
              "#46039f"
             ],
             [
              0.2222222222222222,
              "#7201a8"
             ],
             [
              0.3333333333333333,
              "#9c179e"
             ],
             [
              0.4444444444444444,
              "#bd3786"
             ],
             [
              0.5555555555555556,
              "#d8576b"
             ],
             [
              0.6666666666666666,
              "#ed7953"
             ],
             [
              0.7777777777777778,
              "#fb9f3a"
             ],
             [
              0.8888888888888888,
              "#fdca26"
             ],
             [
              1,
              "#f0f921"
             ]
            ],
            "type": "contour"
           }
          ],
          "contourcarpet": [
           {
            "colorbar": {
             "outlinewidth": 0,
             "ticks": ""
            },
            "type": "contourcarpet"
           }
          ],
          "heatmap": [
           {
            "colorbar": {
             "outlinewidth": 0,
             "ticks": ""
            },
            "colorscale": [
             [
              0,
              "#0d0887"
             ],
             [
              0.1111111111111111,
              "#46039f"
             ],
             [
              0.2222222222222222,
              "#7201a8"
             ],
             [
              0.3333333333333333,
              "#9c179e"
             ],
             [
              0.4444444444444444,
              "#bd3786"
             ],
             [
              0.5555555555555556,
              "#d8576b"
             ],
             [
              0.6666666666666666,
              "#ed7953"
             ],
             [
              0.7777777777777778,
              "#fb9f3a"
             ],
             [
              0.8888888888888888,
              "#fdca26"
             ],
             [
              1,
              "#f0f921"
             ]
            ],
            "type": "heatmap"
           }
          ],
          "heatmapgl": [
           {
            "colorbar": {
             "outlinewidth": 0,
             "ticks": ""
            },
            "colorscale": [
             [
              0,
              "#0d0887"
             ],
             [
              0.1111111111111111,
              "#46039f"
             ],
             [
              0.2222222222222222,
              "#7201a8"
             ],
             [
              0.3333333333333333,
              "#9c179e"
             ],
             [
              0.4444444444444444,
              "#bd3786"
             ],
             [
              0.5555555555555556,
              "#d8576b"
             ],
             [
              0.6666666666666666,
              "#ed7953"
             ],
             [
              0.7777777777777778,
              "#fb9f3a"
             ],
             [
              0.8888888888888888,
              "#fdca26"
             ],
             [
              1,
              "#f0f921"
             ]
            ],
            "type": "heatmapgl"
           }
          ],
          "histogram": [
           {
            "marker": {
             "pattern": {
              "fillmode": "overlay",
              "size": 10,
              "solidity": 0.2
             }
            },
            "type": "histogram"
           }
          ],
          "histogram2d": [
           {
            "colorbar": {
             "outlinewidth": 0,
             "ticks": ""
            },
            "colorscale": [
             [
              0,
              "#0d0887"
             ],
             [
              0.1111111111111111,
              "#46039f"
             ],
             [
              0.2222222222222222,
              "#7201a8"
             ],
             [
              0.3333333333333333,
              "#9c179e"
             ],
             [
              0.4444444444444444,
              "#bd3786"
             ],
             [
              0.5555555555555556,
              "#d8576b"
             ],
             [
              0.6666666666666666,
              "#ed7953"
             ],
             [
              0.7777777777777778,
              "#fb9f3a"
             ],
             [
              0.8888888888888888,
              "#fdca26"
             ],
             [
              1,
              "#f0f921"
             ]
            ],
            "type": "histogram2d"
           }
          ],
          "histogram2dcontour": [
           {
            "colorbar": {
             "outlinewidth": 0,
             "ticks": ""
            },
            "colorscale": [
             [
              0,
              "#0d0887"
             ],
             [
              0.1111111111111111,
              "#46039f"
             ],
             [
              0.2222222222222222,
              "#7201a8"
             ],
             [
              0.3333333333333333,
              "#9c179e"
             ],
             [
              0.4444444444444444,
              "#bd3786"
             ],
             [
              0.5555555555555556,
              "#d8576b"
             ],
             [
              0.6666666666666666,
              "#ed7953"
             ],
             [
              0.7777777777777778,
              "#fb9f3a"
             ],
             [
              0.8888888888888888,
              "#fdca26"
             ],
             [
              1,
              "#f0f921"
             ]
            ],
            "type": "histogram2dcontour"
           }
          ],
          "mesh3d": [
           {
            "colorbar": {
             "outlinewidth": 0,
             "ticks": ""
            },
            "type": "mesh3d"
           }
          ],
          "parcoords": [
           {
            "line": {
             "colorbar": {
              "outlinewidth": 0,
              "ticks": ""
             }
            },
            "type": "parcoords"
           }
          ],
          "pie": [
           {
            "automargin": true,
            "type": "pie"
           }
          ],
          "scatter": [
           {
            "fillpattern": {
             "fillmode": "overlay",
             "size": 10,
             "solidity": 0.2
            },
            "type": "scatter"
           }
          ],
          "scatter3d": [
           {
            "line": {
             "colorbar": {
              "outlinewidth": 0,
              "ticks": ""
             }
            },
            "marker": {
             "colorbar": {
              "outlinewidth": 0,
              "ticks": ""
             }
            },
            "type": "scatter3d"
           }
          ],
          "scattercarpet": [
           {
            "marker": {
             "colorbar": {
              "outlinewidth": 0,
              "ticks": ""
             }
            },
            "type": "scattercarpet"
           }
          ],
          "scattergeo": [
           {
            "marker": {
             "colorbar": {
              "outlinewidth": 0,
              "ticks": ""
             }
            },
            "type": "scattergeo"
           }
          ],
          "scattergl": [
           {
            "marker": {
             "colorbar": {
              "outlinewidth": 0,
              "ticks": ""
             }
            },
            "type": "scattergl"
           }
          ],
          "scattermapbox": [
           {
            "marker": {
             "colorbar": {
              "outlinewidth": 0,
              "ticks": ""
             }
            },
            "type": "scattermapbox"
           }
          ],
          "scatterpolar": [
           {
            "marker": {
             "colorbar": {
              "outlinewidth": 0,
              "ticks": ""
             }
            },
            "type": "scatterpolar"
           }
          ],
          "scatterpolargl": [
           {
            "marker": {
             "colorbar": {
              "outlinewidth": 0,
              "ticks": ""
             }
            },
            "type": "scatterpolargl"
           }
          ],
          "scatterternary": [
           {
            "marker": {
             "colorbar": {
              "outlinewidth": 0,
              "ticks": ""
             }
            },
            "type": "scatterternary"
           }
          ],
          "surface": [
           {
            "colorbar": {
             "outlinewidth": 0,
             "ticks": ""
            },
            "colorscale": [
             [
              0,
              "#0d0887"
             ],
             [
              0.1111111111111111,
              "#46039f"
             ],
             [
              0.2222222222222222,
              "#7201a8"
             ],
             [
              0.3333333333333333,
              "#9c179e"
             ],
             [
              0.4444444444444444,
              "#bd3786"
             ],
             [
              0.5555555555555556,
              "#d8576b"
             ],
             [
              0.6666666666666666,
              "#ed7953"
             ],
             [
              0.7777777777777778,
              "#fb9f3a"
             ],
             [
              0.8888888888888888,
              "#fdca26"
             ],
             [
              1,
              "#f0f921"
             ]
            ],
            "type": "surface"
           }
          ],
          "table": [
           {
            "cells": {
             "fill": {
              "color": "#EBF0F8"
             },
             "line": {
              "color": "white"
             }
            },
            "header": {
             "fill": {
              "color": "#C8D4E3"
             },
             "line": {
              "color": "white"
             }
            },
            "type": "table"
           }
          ]
         },
         "layout": {
          "annotationdefaults": {
           "arrowcolor": "#2a3f5f",
           "arrowhead": 0,
           "arrowwidth": 1
          },
          "autotypenumbers": "strict",
          "coloraxis": {
           "colorbar": {
            "outlinewidth": 0,
            "ticks": ""
           }
          },
          "colorscale": {
           "diverging": [
            [
             0,
             "#8e0152"
            ],
            [
             0.1,
             "#c51b7d"
            ],
            [
             0.2,
             "#de77ae"
            ],
            [
             0.3,
             "#f1b6da"
            ],
            [
             0.4,
             "#fde0ef"
            ],
            [
             0.5,
             "#f7f7f7"
            ],
            [
             0.6,
             "#e6f5d0"
            ],
            [
             0.7,
             "#b8e186"
            ],
            [
             0.8,
             "#7fbc41"
            ],
            [
             0.9,
             "#4d9221"
            ],
            [
             1,
             "#276419"
            ]
           ],
           "sequential": [
            [
             0,
             "#0d0887"
            ],
            [
             0.1111111111111111,
             "#46039f"
            ],
            [
             0.2222222222222222,
             "#7201a8"
            ],
            [
             0.3333333333333333,
             "#9c179e"
            ],
            [
             0.4444444444444444,
             "#bd3786"
            ],
            [
             0.5555555555555556,
             "#d8576b"
            ],
            [
             0.6666666666666666,
             "#ed7953"
            ],
            [
             0.7777777777777778,
             "#fb9f3a"
            ],
            [
             0.8888888888888888,
             "#fdca26"
            ],
            [
             1,
             "#f0f921"
            ]
           ],
           "sequentialminus": [
            [
             0,
             "#0d0887"
            ],
            [
             0.1111111111111111,
             "#46039f"
            ],
            [
             0.2222222222222222,
             "#7201a8"
            ],
            [
             0.3333333333333333,
             "#9c179e"
            ],
            [
             0.4444444444444444,
             "#bd3786"
            ],
            [
             0.5555555555555556,
             "#d8576b"
            ],
            [
             0.6666666666666666,
             "#ed7953"
            ],
            [
             0.7777777777777778,
             "#fb9f3a"
            ],
            [
             0.8888888888888888,
             "#fdca26"
            ],
            [
             1,
             "#f0f921"
            ]
           ]
          },
          "colorway": [
           "#636efa",
           "#EF553B",
           "#00cc96",
           "#ab63fa",
           "#FFA15A",
           "#19d3f3",
           "#FF6692",
           "#B6E880",
           "#FF97FF",
           "#FECB52"
          ],
          "font": {
           "color": "#2a3f5f"
          },
          "geo": {
           "bgcolor": "white",
           "lakecolor": "white",
           "landcolor": "#E5ECF6",
           "showlakes": true,
           "showland": true,
           "subunitcolor": "white"
          },
          "hoverlabel": {
           "align": "left"
          },
          "hovermode": "closest",
          "mapbox": {
           "style": "light"
          },
          "paper_bgcolor": "white",
          "plot_bgcolor": "#E5ECF6",
          "polar": {
           "angularaxis": {
            "gridcolor": "white",
            "linecolor": "white",
            "ticks": ""
           },
           "bgcolor": "#E5ECF6",
           "radialaxis": {
            "gridcolor": "white",
            "linecolor": "white",
            "ticks": ""
           }
          },
          "scene": {
           "xaxis": {
            "backgroundcolor": "#E5ECF6",
            "gridcolor": "white",
            "gridwidth": 2,
            "linecolor": "white",
            "showbackground": true,
            "ticks": "",
            "zerolinecolor": "white"
           },
           "yaxis": {
            "backgroundcolor": "#E5ECF6",
            "gridcolor": "white",
            "gridwidth": 2,
            "linecolor": "white",
            "showbackground": true,
            "ticks": "",
            "zerolinecolor": "white"
           },
           "zaxis": {
            "backgroundcolor": "#E5ECF6",
            "gridcolor": "white",
            "gridwidth": 2,
            "linecolor": "white",
            "showbackground": true,
            "ticks": "",
            "zerolinecolor": "white"
           }
          },
          "shapedefaults": {
           "line": {
            "color": "#2a3f5f"
           }
          },
          "ternary": {
           "aaxis": {
            "gridcolor": "white",
            "linecolor": "white",
            "ticks": ""
           },
           "baxis": {
            "gridcolor": "white",
            "linecolor": "white",
            "ticks": ""
           },
           "bgcolor": "#E5ECF6",
           "caxis": {
            "gridcolor": "white",
            "linecolor": "white",
            "ticks": ""
           }
          },
          "title": {
           "x": 0.05
          },
          "xaxis": {
           "automargin": true,
           "gridcolor": "white",
           "linecolor": "white",
           "ticks": "",
           "title": {
            "standoff": 15
           },
           "zerolinecolor": "white",
           "zerolinewidth": 2
          },
          "yaxis": {
           "automargin": true,
           "gridcolor": "white",
           "linecolor": "white",
           "ticks": "",
           "title": {
            "standoff": 15
           },
           "zerolinecolor": "white",
           "zerolinewidth": 2
          }
         }
        },
        "xaxis": {
         "anchor": "y",
         "domain": [
          0,
          1
         ],
         "title": {
          "text": "anio"
         }
        },
        "yaxis": {
         "anchor": "x",
         "domain": [
          0,
          1
         ],
         "title": {
          "text": "rate_of_change"
         }
        }
       }
      }
     },
     "metadata": {},
     "output_type": "display_data"
    }
   ],
   "source": [
    "# group fuente_de_emision_y_absorcion if includes 'forestales' or 'forestal' and valor(MtCO2eq) > 0 and group by anio and sum the values, then get rate of change as a percentage\n",
    "forestales = df[df['fuente_de_emision_y_absorcion'].str.contains('forestales|forestal', case=False)]\n",
    "forestales = forestales[forestales['valor(MtCO2eq)'] > 0]\n",
    "forestales = forestales.groupby('anio', as_index = False).agg({'valor(MtCO2eq)':'sum'})\n",
    "forestales['rate_of_change'] = forestales['valor(MtCO2eq)'].pct_change()\n",
    "forestales['rate_of_change'] = forestales['rate_of_change'].fillna(0)\n",
    "forestales['rate_of_change'] = forestales['rate_of_change'].apply(lambda x: x*100)\n",
    "forestales['rate_of_change'] = forestales['rate_of_change'].round(2)\n",
    "fig = px.line(forestales, x=\"anio\", y=\"rate_of_change\", color_discrete_sequence=['green'])\n",
    "fig.show()\n",
    "fig.write_image(\"images/change_rate_of_deforestacion.svg\")"
   ]
  },
  {
   "cell_type": "code",
   "execution_count": 41,
   "metadata": {},
   "outputs": [
    {
     "data": {
      "application/vnd.plotly.v1+json": {
       "config": {
        "plotlyServerURL": "https://plot.ly"
       },
       "data": [
        {
         "hovertemplate": "anio=%{x}<br>valor(MtCO2eq)=%{y}<extra></extra>",
         "legendgroup": "",
         "line": {
          "color": "blue",
          "dash": "solid"
         },
         "marker": {
          "symbol": "circle"
         },
         "mode": "lines",
         "name": "",
         "orientation": "v",
         "showlegend": false,
         "type": "scatter",
         "x": [
          1990,
          1991,
          1992,
          1993,
          1994,
          1995,
          1996,
          1997,
          1998,
          1999,
          2000,
          2001,
          2002,
          2003,
          2004,
          2005,
          2006,
          2007,
          2008,
          2009,
          2010,
          2011,
          2012,
          2013,
          2014,
          2015,
          2016
         ],
         "xaxis": "x",
         "y": [
          -33.54,
          -33.76,
          -28.61,
          -39.44,
          -37.08,
          -41.519999999999996,
          -39.41,
          -52.92999999999999,
          -34.91,
          -40.97,
          -38.9,
          -38.879999999999995,
          -41.349999999999994,
          -41.57,
          -45.12,
          -48.56999999999999,
          -45.64,
          -53.47,
          -55.36,
          -53.86,
          -57.60999999999999,
          -62.55,
          -55.18,
          -70.24,
          -57.74,
          -60.49,
          -62.14
         ],
         "yaxis": "y"
        }
       ],
       "layout": {
        "legend": {
         "tracegroupgap": 0
        },
        "margin": {
         "t": 60
        },
        "template": {
         "data": {
          "bar": [
           {
            "error_x": {
             "color": "#2a3f5f"
            },
            "error_y": {
             "color": "#2a3f5f"
            },
            "marker": {
             "line": {
              "color": "#E5ECF6",
              "width": 0.5
             },
             "pattern": {
              "fillmode": "overlay",
              "size": 10,
              "solidity": 0.2
             }
            },
            "type": "bar"
           }
          ],
          "barpolar": [
           {
            "marker": {
             "line": {
              "color": "#E5ECF6",
              "width": 0.5
             },
             "pattern": {
              "fillmode": "overlay",
              "size": 10,
              "solidity": 0.2
             }
            },
            "type": "barpolar"
           }
          ],
          "carpet": [
           {
            "aaxis": {
             "endlinecolor": "#2a3f5f",
             "gridcolor": "white",
             "linecolor": "white",
             "minorgridcolor": "white",
             "startlinecolor": "#2a3f5f"
            },
            "baxis": {
             "endlinecolor": "#2a3f5f",
             "gridcolor": "white",
             "linecolor": "white",
             "minorgridcolor": "white",
             "startlinecolor": "#2a3f5f"
            },
            "type": "carpet"
           }
          ],
          "choropleth": [
           {
            "colorbar": {
             "outlinewidth": 0,
             "ticks": ""
            },
            "type": "choropleth"
           }
          ],
          "contour": [
           {
            "colorbar": {
             "outlinewidth": 0,
             "ticks": ""
            },
            "colorscale": [
             [
              0,
              "#0d0887"
             ],
             [
              0.1111111111111111,
              "#46039f"
             ],
             [
              0.2222222222222222,
              "#7201a8"
             ],
             [
              0.3333333333333333,
              "#9c179e"
             ],
             [
              0.4444444444444444,
              "#bd3786"
             ],
             [
              0.5555555555555556,
              "#d8576b"
             ],
             [
              0.6666666666666666,
              "#ed7953"
             ],
             [
              0.7777777777777778,
              "#fb9f3a"
             ],
             [
              0.8888888888888888,
              "#fdca26"
             ],
             [
              1,
              "#f0f921"
             ]
            ],
            "type": "contour"
           }
          ],
          "contourcarpet": [
           {
            "colorbar": {
             "outlinewidth": 0,
             "ticks": ""
            },
            "type": "contourcarpet"
           }
          ],
          "heatmap": [
           {
            "colorbar": {
             "outlinewidth": 0,
             "ticks": ""
            },
            "colorscale": [
             [
              0,
              "#0d0887"
             ],
             [
              0.1111111111111111,
              "#46039f"
             ],
             [
              0.2222222222222222,
              "#7201a8"
             ],
             [
              0.3333333333333333,
              "#9c179e"
             ],
             [
              0.4444444444444444,
              "#bd3786"
             ],
             [
              0.5555555555555556,
              "#d8576b"
             ],
             [
              0.6666666666666666,
              "#ed7953"
             ],
             [
              0.7777777777777778,
              "#fb9f3a"
             ],
             [
              0.8888888888888888,
              "#fdca26"
             ],
             [
              1,
              "#f0f921"
             ]
            ],
            "type": "heatmap"
           }
          ],
          "heatmapgl": [
           {
            "colorbar": {
             "outlinewidth": 0,
             "ticks": ""
            },
            "colorscale": [
             [
              0,
              "#0d0887"
             ],
             [
              0.1111111111111111,
              "#46039f"
             ],
             [
              0.2222222222222222,
              "#7201a8"
             ],
             [
              0.3333333333333333,
              "#9c179e"
             ],
             [
              0.4444444444444444,
              "#bd3786"
             ],
             [
              0.5555555555555556,
              "#d8576b"
             ],
             [
              0.6666666666666666,
              "#ed7953"
             ],
             [
              0.7777777777777778,
              "#fb9f3a"
             ],
             [
              0.8888888888888888,
              "#fdca26"
             ],
             [
              1,
              "#f0f921"
             ]
            ],
            "type": "heatmapgl"
           }
          ],
          "histogram": [
           {
            "marker": {
             "pattern": {
              "fillmode": "overlay",
              "size": 10,
              "solidity": 0.2
             }
            },
            "type": "histogram"
           }
          ],
          "histogram2d": [
           {
            "colorbar": {
             "outlinewidth": 0,
             "ticks": ""
            },
            "colorscale": [
             [
              0,
              "#0d0887"
             ],
             [
              0.1111111111111111,
              "#46039f"
             ],
             [
              0.2222222222222222,
              "#7201a8"
             ],
             [
              0.3333333333333333,
              "#9c179e"
             ],
             [
              0.4444444444444444,
              "#bd3786"
             ],
             [
              0.5555555555555556,
              "#d8576b"
             ],
             [
              0.6666666666666666,
              "#ed7953"
             ],
             [
              0.7777777777777778,
              "#fb9f3a"
             ],
             [
              0.8888888888888888,
              "#fdca26"
             ],
             [
              1,
              "#f0f921"
             ]
            ],
            "type": "histogram2d"
           }
          ],
          "histogram2dcontour": [
           {
            "colorbar": {
             "outlinewidth": 0,
             "ticks": ""
            },
            "colorscale": [
             [
              0,
              "#0d0887"
             ],
             [
              0.1111111111111111,
              "#46039f"
             ],
             [
              0.2222222222222222,
              "#7201a8"
             ],
             [
              0.3333333333333333,
              "#9c179e"
             ],
             [
              0.4444444444444444,
              "#bd3786"
             ],
             [
              0.5555555555555556,
              "#d8576b"
             ],
             [
              0.6666666666666666,
              "#ed7953"
             ],
             [
              0.7777777777777778,
              "#fb9f3a"
             ],
             [
              0.8888888888888888,
              "#fdca26"
             ],
             [
              1,
              "#f0f921"
             ]
            ],
            "type": "histogram2dcontour"
           }
          ],
          "mesh3d": [
           {
            "colorbar": {
             "outlinewidth": 0,
             "ticks": ""
            },
            "type": "mesh3d"
           }
          ],
          "parcoords": [
           {
            "line": {
             "colorbar": {
              "outlinewidth": 0,
              "ticks": ""
             }
            },
            "type": "parcoords"
           }
          ],
          "pie": [
           {
            "automargin": true,
            "type": "pie"
           }
          ],
          "scatter": [
           {
            "fillpattern": {
             "fillmode": "overlay",
             "size": 10,
             "solidity": 0.2
            },
            "type": "scatter"
           }
          ],
          "scatter3d": [
           {
            "line": {
             "colorbar": {
              "outlinewidth": 0,
              "ticks": ""
             }
            },
            "marker": {
             "colorbar": {
              "outlinewidth": 0,
              "ticks": ""
             }
            },
            "type": "scatter3d"
           }
          ],
          "scattercarpet": [
           {
            "marker": {
             "colorbar": {
              "outlinewidth": 0,
              "ticks": ""
             }
            },
            "type": "scattercarpet"
           }
          ],
          "scattergeo": [
           {
            "marker": {
             "colorbar": {
              "outlinewidth": 0,
              "ticks": ""
             }
            },
            "type": "scattergeo"
           }
          ],
          "scattergl": [
           {
            "marker": {
             "colorbar": {
              "outlinewidth": 0,
              "ticks": ""
             }
            },
            "type": "scattergl"
           }
          ],
          "scattermapbox": [
           {
            "marker": {
             "colorbar": {
              "outlinewidth": 0,
              "ticks": ""
             }
            },
            "type": "scattermapbox"
           }
          ],
          "scatterpolar": [
           {
            "marker": {
             "colorbar": {
              "outlinewidth": 0,
              "ticks": ""
             }
            },
            "type": "scatterpolar"
           }
          ],
          "scatterpolargl": [
           {
            "marker": {
             "colorbar": {
              "outlinewidth": 0,
              "ticks": ""
             }
            },
            "type": "scatterpolargl"
           }
          ],
          "scatterternary": [
           {
            "marker": {
             "colorbar": {
              "outlinewidth": 0,
              "ticks": ""
             }
            },
            "type": "scatterternary"
           }
          ],
          "surface": [
           {
            "colorbar": {
             "outlinewidth": 0,
             "ticks": ""
            },
            "colorscale": [
             [
              0,
              "#0d0887"
             ],
             [
              0.1111111111111111,
              "#46039f"
             ],
             [
              0.2222222222222222,
              "#7201a8"
             ],
             [
              0.3333333333333333,
              "#9c179e"
             ],
             [
              0.4444444444444444,
              "#bd3786"
             ],
             [
              0.5555555555555556,
              "#d8576b"
             ],
             [
              0.6666666666666666,
              "#ed7953"
             ],
             [
              0.7777777777777778,
              "#fb9f3a"
             ],
             [
              0.8888888888888888,
              "#fdca26"
             ],
             [
              1,
              "#f0f921"
             ]
            ],
            "type": "surface"
           }
          ],
          "table": [
           {
            "cells": {
             "fill": {
              "color": "#EBF0F8"
             },
             "line": {
              "color": "white"
             }
            },
            "header": {
             "fill": {
              "color": "#C8D4E3"
             },
             "line": {
              "color": "white"
             }
            },
            "type": "table"
           }
          ]
         },
         "layout": {
          "annotationdefaults": {
           "arrowcolor": "#2a3f5f",
           "arrowhead": 0,
           "arrowwidth": 1
          },
          "autotypenumbers": "strict",
          "coloraxis": {
           "colorbar": {
            "outlinewidth": 0,
            "ticks": ""
           }
          },
          "colorscale": {
           "diverging": [
            [
             0,
             "#8e0152"
            ],
            [
             0.1,
             "#c51b7d"
            ],
            [
             0.2,
             "#de77ae"
            ],
            [
             0.3,
             "#f1b6da"
            ],
            [
             0.4,
             "#fde0ef"
            ],
            [
             0.5,
             "#f7f7f7"
            ],
            [
             0.6,
             "#e6f5d0"
            ],
            [
             0.7,
             "#b8e186"
            ],
            [
             0.8,
             "#7fbc41"
            ],
            [
             0.9,
             "#4d9221"
            ],
            [
             1,
             "#276419"
            ]
           ],
           "sequential": [
            [
             0,
             "#0d0887"
            ],
            [
             0.1111111111111111,
             "#46039f"
            ],
            [
             0.2222222222222222,
             "#7201a8"
            ],
            [
             0.3333333333333333,
             "#9c179e"
            ],
            [
             0.4444444444444444,
             "#bd3786"
            ],
            [
             0.5555555555555556,
             "#d8576b"
            ],
            [
             0.6666666666666666,
             "#ed7953"
            ],
            [
             0.7777777777777778,
             "#fb9f3a"
            ],
            [
             0.8888888888888888,
             "#fdca26"
            ],
            [
             1,
             "#f0f921"
            ]
           ],
           "sequentialminus": [
            [
             0,
             "#0d0887"
            ],
            [
             0.1111111111111111,
             "#46039f"
            ],
            [
             0.2222222222222222,
             "#7201a8"
            ],
            [
             0.3333333333333333,
             "#9c179e"
            ],
            [
             0.4444444444444444,
             "#bd3786"
            ],
            [
             0.5555555555555556,
             "#d8576b"
            ],
            [
             0.6666666666666666,
             "#ed7953"
            ],
            [
             0.7777777777777778,
             "#fb9f3a"
            ],
            [
             0.8888888888888888,
             "#fdca26"
            ],
            [
             1,
             "#f0f921"
            ]
           ]
          },
          "colorway": [
           "#636efa",
           "#EF553B",
           "#00cc96",
           "#ab63fa",
           "#FFA15A",
           "#19d3f3",
           "#FF6692",
           "#B6E880",
           "#FF97FF",
           "#FECB52"
          ],
          "font": {
           "color": "#2a3f5f"
          },
          "geo": {
           "bgcolor": "white",
           "lakecolor": "white",
           "landcolor": "#E5ECF6",
           "showlakes": true,
           "showland": true,
           "subunitcolor": "white"
          },
          "hoverlabel": {
           "align": "left"
          },
          "hovermode": "closest",
          "mapbox": {
           "style": "light"
          },
          "paper_bgcolor": "white",
          "plot_bgcolor": "#E5ECF6",
          "polar": {
           "angularaxis": {
            "gridcolor": "white",
            "linecolor": "white",
            "ticks": ""
           },
           "bgcolor": "#E5ECF6",
           "radialaxis": {
            "gridcolor": "white",
            "linecolor": "white",
            "ticks": ""
           }
          },
          "scene": {
           "xaxis": {
            "backgroundcolor": "#E5ECF6",
            "gridcolor": "white",
            "gridwidth": 2,
            "linecolor": "white",
            "showbackground": true,
            "ticks": "",
            "zerolinecolor": "white"
           },
           "yaxis": {
            "backgroundcolor": "#E5ECF6",
            "gridcolor": "white",
            "gridwidth": 2,
            "linecolor": "white",
            "showbackground": true,
            "ticks": "",
            "zerolinecolor": "white"
           },
           "zaxis": {
            "backgroundcolor": "#E5ECF6",
            "gridcolor": "white",
            "gridwidth": 2,
            "linecolor": "white",
            "showbackground": true,
            "ticks": "",
            "zerolinecolor": "white"
           }
          },
          "shapedefaults": {
           "line": {
            "color": "#2a3f5f"
           }
          },
          "ternary": {
           "aaxis": {
            "gridcolor": "white",
            "linecolor": "white",
            "ticks": ""
           },
           "baxis": {
            "gridcolor": "white",
            "linecolor": "white",
            "ticks": ""
           },
           "bgcolor": "#E5ECF6",
           "caxis": {
            "gridcolor": "white",
            "linecolor": "white",
            "ticks": ""
           }
          },
          "title": {
           "x": 0.05
          },
          "xaxis": {
           "automargin": true,
           "gridcolor": "white",
           "linecolor": "white",
           "ticks": "",
           "title": {
            "standoff": 15
           },
           "zerolinecolor": "white",
           "zerolinewidth": 2
          },
          "yaxis": {
           "automargin": true,
           "gridcolor": "white",
           "linecolor": "white",
           "ticks": "",
           "title": {
            "standoff": 15
           },
           "zerolinecolor": "white",
           "zerolinewidth": 2
          }
         }
        },
        "xaxis": {
         "anchor": "y",
         "domain": [
          0,
          1
         ],
         "title": {
          "text": "anio"
         }
        },
        "yaxis": {
         "anchor": "x",
         "domain": [
          0,
          1
         ],
         "title": {
          "text": "valor(MtCO2eq)"
         }
        }
       }
      }
     },
     "metadata": {},
     "output_type": "display_data"
    }
   ],
   "source": [
    "gases_totales_absorbidos = df[df['valor(MtCO2eq)'] < 0]\n",
    "total_emissions = gases_totales_absorbidos.groupby('anio', as_index = False).agg({'valor(MtCO2eq)':'sum'})\n",
    "fig = px.line(total_emissions, x=\"anio\", y=\"valor(MtCO2eq)\", color_discrete_sequence=['blue'])\n",
    "fig.show()\n",
    "fig.write_image(\"images/MtCO2eq_sum_absorbido_por_año.svg\")"
   ]
  },
  {
   "cell_type": "code",
   "execution_count": 47,
   "metadata": {},
   "outputs": [
    {
     "data": {
      "application/vnd.plotly.v1+json": {
       "config": {
        "plotlyServerURL": "https://plot.ly"
       },
       "data": [
        {
         "domain": {
          "x": [
           0,
           1
          ],
          "y": [
           0,
           1
          ]
         },
         "hovertemplate": "gas=%{label}<br>valor(MtCO2eq)=%{value}<extra></extra>",
         "labels": [
          "N2O",
          "CH4",
          "CO2"
         ],
         "legendgroup": "",
         "name": "",
         "showlegend": true,
         "type": "pie",
         "values": [
          1184.77,
          1699.4,
          2414.85
         ]
        }
       ],
       "layout": {
        "legend": {
         "tracegroupgap": 0
        },
        "margin": {
         "t": 60
        },
        "template": {
         "data": {
          "bar": [
           {
            "error_x": {
             "color": "#2a3f5f"
            },
            "error_y": {
             "color": "#2a3f5f"
            },
            "marker": {
             "line": {
              "color": "#E5ECF6",
              "width": 0.5
             },
             "pattern": {
              "fillmode": "overlay",
              "size": 10,
              "solidity": 0.2
             }
            },
            "type": "bar"
           }
          ],
          "barpolar": [
           {
            "marker": {
             "line": {
              "color": "#E5ECF6",
              "width": 0.5
             },
             "pattern": {
              "fillmode": "overlay",
              "size": 10,
              "solidity": 0.2
             }
            },
            "type": "barpolar"
           }
          ],
          "carpet": [
           {
            "aaxis": {
             "endlinecolor": "#2a3f5f",
             "gridcolor": "white",
             "linecolor": "white",
             "minorgridcolor": "white",
             "startlinecolor": "#2a3f5f"
            },
            "baxis": {
             "endlinecolor": "#2a3f5f",
             "gridcolor": "white",
             "linecolor": "white",
             "minorgridcolor": "white",
             "startlinecolor": "#2a3f5f"
            },
            "type": "carpet"
           }
          ],
          "choropleth": [
           {
            "colorbar": {
             "outlinewidth": 0,
             "ticks": ""
            },
            "type": "choropleth"
           }
          ],
          "contour": [
           {
            "colorbar": {
             "outlinewidth": 0,
             "ticks": ""
            },
            "colorscale": [
             [
              0,
              "#0d0887"
             ],
             [
              0.1111111111111111,
              "#46039f"
             ],
             [
              0.2222222222222222,
              "#7201a8"
             ],
             [
              0.3333333333333333,
              "#9c179e"
             ],
             [
              0.4444444444444444,
              "#bd3786"
             ],
             [
              0.5555555555555556,
              "#d8576b"
             ],
             [
              0.6666666666666666,
              "#ed7953"
             ],
             [
              0.7777777777777778,
              "#fb9f3a"
             ],
             [
              0.8888888888888888,
              "#fdca26"
             ],
             [
              1,
              "#f0f921"
             ]
            ],
            "type": "contour"
           }
          ],
          "contourcarpet": [
           {
            "colorbar": {
             "outlinewidth": 0,
             "ticks": ""
            },
            "type": "contourcarpet"
           }
          ],
          "heatmap": [
           {
            "colorbar": {
             "outlinewidth": 0,
             "ticks": ""
            },
            "colorscale": [
             [
              0,
              "#0d0887"
             ],
             [
              0.1111111111111111,
              "#46039f"
             ],
             [
              0.2222222222222222,
              "#7201a8"
             ],
             [
              0.3333333333333333,
              "#9c179e"
             ],
             [
              0.4444444444444444,
              "#bd3786"
             ],
             [
              0.5555555555555556,
              "#d8576b"
             ],
             [
              0.6666666666666666,
              "#ed7953"
             ],
             [
              0.7777777777777778,
              "#fb9f3a"
             ],
             [
              0.8888888888888888,
              "#fdca26"
             ],
             [
              1,
              "#f0f921"
             ]
            ],
            "type": "heatmap"
           }
          ],
          "heatmapgl": [
           {
            "colorbar": {
             "outlinewidth": 0,
             "ticks": ""
            },
            "colorscale": [
             [
              0,
              "#0d0887"
             ],
             [
              0.1111111111111111,
              "#46039f"
             ],
             [
              0.2222222222222222,
              "#7201a8"
             ],
             [
              0.3333333333333333,
              "#9c179e"
             ],
             [
              0.4444444444444444,
              "#bd3786"
             ],
             [
              0.5555555555555556,
              "#d8576b"
             ],
             [
              0.6666666666666666,
              "#ed7953"
             ],
             [
              0.7777777777777778,
              "#fb9f3a"
             ],
             [
              0.8888888888888888,
              "#fdca26"
             ],
             [
              1,
              "#f0f921"
             ]
            ],
            "type": "heatmapgl"
           }
          ],
          "histogram": [
           {
            "marker": {
             "pattern": {
              "fillmode": "overlay",
              "size": 10,
              "solidity": 0.2
             }
            },
            "type": "histogram"
           }
          ],
          "histogram2d": [
           {
            "colorbar": {
             "outlinewidth": 0,
             "ticks": ""
            },
            "colorscale": [
             [
              0,
              "#0d0887"
             ],
             [
              0.1111111111111111,
              "#46039f"
             ],
             [
              0.2222222222222222,
              "#7201a8"
             ],
             [
              0.3333333333333333,
              "#9c179e"
             ],
             [
              0.4444444444444444,
              "#bd3786"
             ],
             [
              0.5555555555555556,
              "#d8576b"
             ],
             [
              0.6666666666666666,
              "#ed7953"
             ],
             [
              0.7777777777777778,
              "#fb9f3a"
             ],
             [
              0.8888888888888888,
              "#fdca26"
             ],
             [
              1,
              "#f0f921"
             ]
            ],
            "type": "histogram2d"
           }
          ],
          "histogram2dcontour": [
           {
            "colorbar": {
             "outlinewidth": 0,
             "ticks": ""
            },
            "colorscale": [
             [
              0,
              "#0d0887"
             ],
             [
              0.1111111111111111,
              "#46039f"
             ],
             [
              0.2222222222222222,
              "#7201a8"
             ],
             [
              0.3333333333333333,
              "#9c179e"
             ],
             [
              0.4444444444444444,
              "#bd3786"
             ],
             [
              0.5555555555555556,
              "#d8576b"
             ],
             [
              0.6666666666666666,
              "#ed7953"
             ],
             [
              0.7777777777777778,
              "#fb9f3a"
             ],
             [
              0.8888888888888888,
              "#fdca26"
             ],
             [
              1,
              "#f0f921"
             ]
            ],
            "type": "histogram2dcontour"
           }
          ],
          "mesh3d": [
           {
            "colorbar": {
             "outlinewidth": 0,
             "ticks": ""
            },
            "type": "mesh3d"
           }
          ],
          "parcoords": [
           {
            "line": {
             "colorbar": {
              "outlinewidth": 0,
              "ticks": ""
             }
            },
            "type": "parcoords"
           }
          ],
          "pie": [
           {
            "automargin": true,
            "type": "pie"
           }
          ],
          "scatter": [
           {
            "fillpattern": {
             "fillmode": "overlay",
             "size": 10,
             "solidity": 0.2
            },
            "type": "scatter"
           }
          ],
          "scatter3d": [
           {
            "line": {
             "colorbar": {
              "outlinewidth": 0,
              "ticks": ""
             }
            },
            "marker": {
             "colorbar": {
              "outlinewidth": 0,
              "ticks": ""
             }
            },
            "type": "scatter3d"
           }
          ],
          "scattercarpet": [
           {
            "marker": {
             "colorbar": {
              "outlinewidth": 0,
              "ticks": ""
             }
            },
            "type": "scattercarpet"
           }
          ],
          "scattergeo": [
           {
            "marker": {
             "colorbar": {
              "outlinewidth": 0,
              "ticks": ""
             }
            },
            "type": "scattergeo"
           }
          ],
          "scattergl": [
           {
            "marker": {
             "colorbar": {
              "outlinewidth": 0,
              "ticks": ""
             }
            },
            "type": "scattergl"
           }
          ],
          "scattermapbox": [
           {
            "marker": {
             "colorbar": {
              "outlinewidth": 0,
              "ticks": ""
             }
            },
            "type": "scattermapbox"
           }
          ],
          "scatterpolar": [
           {
            "marker": {
             "colorbar": {
              "outlinewidth": 0,
              "ticks": ""
             }
            },
            "type": "scatterpolar"
           }
          ],
          "scatterpolargl": [
           {
            "marker": {
             "colorbar": {
              "outlinewidth": 0,
              "ticks": ""
             }
            },
            "type": "scatterpolargl"
           }
          ],
          "scatterternary": [
           {
            "marker": {
             "colorbar": {
              "outlinewidth": 0,
              "ticks": ""
             }
            },
            "type": "scatterternary"
           }
          ],
          "surface": [
           {
            "colorbar": {
             "outlinewidth": 0,
             "ticks": ""
            },
            "colorscale": [
             [
              0,
              "#0d0887"
             ],
             [
              0.1111111111111111,
              "#46039f"
             ],
             [
              0.2222222222222222,
              "#7201a8"
             ],
             [
              0.3333333333333333,
              "#9c179e"
             ],
             [
              0.4444444444444444,
              "#bd3786"
             ],
             [
              0.5555555555555556,
              "#d8576b"
             ],
             [
              0.6666666666666666,
              "#ed7953"
             ],
             [
              0.7777777777777778,
              "#fb9f3a"
             ],
             [
              0.8888888888888888,
              "#fdca26"
             ],
             [
              1,
              "#f0f921"
             ]
            ],
            "type": "surface"
           }
          ],
          "table": [
           {
            "cells": {
             "fill": {
              "color": "#EBF0F8"
             },
             "line": {
              "color": "white"
             }
            },
            "header": {
             "fill": {
              "color": "#C8D4E3"
             },
             "line": {
              "color": "white"
             }
            },
            "type": "table"
           }
          ]
         },
         "layout": {
          "annotationdefaults": {
           "arrowcolor": "#2a3f5f",
           "arrowhead": 0,
           "arrowwidth": 1
          },
          "autotypenumbers": "strict",
          "coloraxis": {
           "colorbar": {
            "outlinewidth": 0,
            "ticks": ""
           }
          },
          "colorscale": {
           "diverging": [
            [
             0,
             "#8e0152"
            ],
            [
             0.1,
             "#c51b7d"
            ],
            [
             0.2,
             "#de77ae"
            ],
            [
             0.3,
             "#f1b6da"
            ],
            [
             0.4,
             "#fde0ef"
            ],
            [
             0.5,
             "#f7f7f7"
            ],
            [
             0.6,
             "#e6f5d0"
            ],
            [
             0.7,
             "#b8e186"
            ],
            [
             0.8,
             "#7fbc41"
            ],
            [
             0.9,
             "#4d9221"
            ],
            [
             1,
             "#276419"
            ]
           ],
           "sequential": [
            [
             0,
             "#0d0887"
            ],
            [
             0.1111111111111111,
             "#46039f"
            ],
            [
             0.2222222222222222,
             "#7201a8"
            ],
            [
             0.3333333333333333,
             "#9c179e"
            ],
            [
             0.4444444444444444,
             "#bd3786"
            ],
            [
             0.5555555555555556,
             "#d8576b"
            ],
            [
             0.6666666666666666,
             "#ed7953"
            ],
            [
             0.7777777777777778,
             "#fb9f3a"
            ],
            [
             0.8888888888888888,
             "#fdca26"
            ],
            [
             1,
             "#f0f921"
            ]
           ],
           "sequentialminus": [
            [
             0,
             "#0d0887"
            ],
            [
             0.1111111111111111,
             "#46039f"
            ],
            [
             0.2222222222222222,
             "#7201a8"
            ],
            [
             0.3333333333333333,
             "#9c179e"
            ],
            [
             0.4444444444444444,
             "#bd3786"
            ],
            [
             0.5555555555555556,
             "#d8576b"
            ],
            [
             0.6666666666666666,
             "#ed7953"
            ],
            [
             0.7777777777777778,
             "#fb9f3a"
            ],
            [
             0.8888888888888888,
             "#fdca26"
            ],
            [
             1,
             "#f0f921"
            ]
           ]
          },
          "colorway": [
           "#636efa",
           "#EF553B",
           "#00cc96",
           "#ab63fa",
           "#FFA15A",
           "#19d3f3",
           "#FF6692",
           "#B6E880",
           "#FF97FF",
           "#FECB52"
          ],
          "font": {
           "color": "#2a3f5f"
          },
          "geo": {
           "bgcolor": "white",
           "lakecolor": "white",
           "landcolor": "#E5ECF6",
           "showlakes": true,
           "showland": true,
           "subunitcolor": "white"
          },
          "hoverlabel": {
           "align": "left"
          },
          "hovermode": "closest",
          "mapbox": {
           "style": "light"
          },
          "paper_bgcolor": "white",
          "plot_bgcolor": "#E5ECF6",
          "polar": {
           "angularaxis": {
            "gridcolor": "white",
            "linecolor": "white",
            "ticks": ""
           },
           "bgcolor": "#E5ECF6",
           "radialaxis": {
            "gridcolor": "white",
            "linecolor": "white",
            "ticks": ""
           }
          },
          "scene": {
           "xaxis": {
            "backgroundcolor": "#E5ECF6",
            "gridcolor": "white",
            "gridwidth": 2,
            "linecolor": "white",
            "showbackground": true,
            "ticks": "",
            "zerolinecolor": "white"
           },
           "yaxis": {
            "backgroundcolor": "#E5ECF6",
            "gridcolor": "white",
            "gridwidth": 2,
            "linecolor": "white",
            "showbackground": true,
            "ticks": "",
            "zerolinecolor": "white"
           },
           "zaxis": {
            "backgroundcolor": "#E5ECF6",
            "gridcolor": "white",
            "gridwidth": 2,
            "linecolor": "white",
            "showbackground": true,
            "ticks": "",
            "zerolinecolor": "white"
           }
          },
          "shapedefaults": {
           "line": {
            "color": "#2a3f5f"
           }
          },
          "ternary": {
           "aaxis": {
            "gridcolor": "white",
            "linecolor": "white",
            "ticks": ""
           },
           "baxis": {
            "gridcolor": "white",
            "linecolor": "white",
            "ticks": ""
           },
           "bgcolor": "#E5ECF6",
           "caxis": {
            "gridcolor": "white",
            "linecolor": "white",
            "ticks": ""
           }
          },
          "title": {
           "x": 0.05
          },
          "xaxis": {
           "automargin": true,
           "gridcolor": "white",
           "linecolor": "white",
           "ticks": "",
           "title": {
            "standoff": 15
           },
           "zerolinecolor": "white",
           "zerolinewidth": 2
          },
          "yaxis": {
           "automargin": true,
           "gridcolor": "white",
           "linecolor": "white",
           "ticks": "",
           "title": {
            "standoff": 15
           },
           "zerolinecolor": "white",
           "zerolinewidth": 2
          }
         }
        }
       }
      }
     },
     "metadata": {},
     "output_type": "display_data"
    }
   ],
   "source": [
    "MtCO2eq_por_gas = df.groupby('gas', as_index = False).agg({'valor(MtCO2eq)':'sum'}).sort_values('valor(MtCO2eq)')\n",
    "#plot the MtCO2eq_por_gas series as a plotly pie chart\n",
    "fig = px.pie(MtCO2eq_por_gas, values='valor(MtCO2eq)', names='gas')\n",
    "fig.show()"
   ]
  },
  {
   "cell_type": "code",
   "execution_count": 83,
   "metadata": {},
   "outputs": [
    {
     "data": {
      "text/html": [
       "<div>\n",
       "<style scoped>\n",
       "    .dataframe tbody tr th:only-of-type {\n",
       "        vertical-align: middle;\n",
       "    }\n",
       "\n",
       "    .dataframe tbody tr th {\n",
       "        vertical-align: top;\n",
       "    }\n",
       "\n",
       "    .dataframe thead th {\n",
       "        text-align: right;\n",
       "    }\n",
       "</style>\n",
       "<table border=\"1\" class=\"dataframe\">\n",
       "  <thead>\n",
       "    <tr style=\"text-align: right;\">\n",
       "      <th></th>\n",
       "      <th>subactividad</th>\n",
       "      <th>gas</th>\n",
       "      <th>valor(MtCO2eq)</th>\n",
       "    </tr>\n",
       "  </thead>\n",
       "  <tbody>\n",
       "    <tr>\n",
       "      <th>5</th>\n",
       "      <td>Produccion agricola</td>\n",
       "      <td>N2O</td>\n",
       "      <td>20.86</td>\n",
       "    </tr>\n",
       "    <tr>\n",
       "      <th>0</th>\n",
       "      <td>Bosque Cultivado</td>\n",
       "      <td>CO2</td>\n",
       "      <td>377.08</td>\n",
       "    </tr>\n",
       "    <tr>\n",
       "      <th>3</th>\n",
       "      <td>Bovinos de Carne</td>\n",
       "      <td>N2O</td>\n",
       "      <td>432.49</td>\n",
       "    </tr>\n",
       "    <tr>\n",
       "      <th>1</th>\n",
       "      <td>Bosque Nativo</td>\n",
       "      <td>CO2</td>\n",
       "      <td>503.22</td>\n",
       "    </tr>\n",
       "    <tr>\n",
       "      <th>2</th>\n",
       "      <td>Bovinos de Carne</td>\n",
       "      <td>CH4</td>\n",
       "      <td>1289.56</td>\n",
       "    </tr>\n",
       "    <tr>\n",
       "      <th>4</th>\n",
       "      <td>Cultivo/Pasturas</td>\n",
       "      <td>CO2</td>\n",
       "      <td>2609.45</td>\n",
       "    </tr>\n",
       "  </tbody>\n",
       "</table>\n",
       "</div>"
      ],
      "text/plain": [
       "          subactividad  gas  valor(MtCO2eq)\n",
       "5  Produccion agricola  N2O           20.86\n",
       "0     Bosque Cultivado  CO2          377.08\n",
       "3     Bovinos de Carne  N2O          432.49\n",
       "1        Bosque Nativo  CO2          503.22\n",
       "2     Bovinos de Carne  CH4         1289.56\n",
       "4     Cultivo/Pasturas  CO2         2609.45"
      ]
     },
     "execution_count": 83,
     "metadata": {},
     "output_type": "execute_result"
    }
   ],
   "source": [
    "gases_emitidos_por_fuente = df[df['valor(MtCO2eq)'] > 10].groupby(['subactividad', 'gas'], as_index = False).agg({'valor(MtCO2eq)':'sum'}).sort_values('valor(MtCO2eq)')\n",
    "gases_emitidos_por_fuente"
   ]
  },
  {
   "cell_type": "code",
   "execution_count": 84,
   "metadata": {},
   "outputs": [
    {
     "data": {
      "text/html": [
       "<div>\n",
       "<style scoped>\n",
       "    .dataframe tbody tr th:only-of-type {\n",
       "        vertical-align: middle;\n",
       "    }\n",
       "\n",
       "    .dataframe tbody tr th {\n",
       "        vertical-align: top;\n",
       "    }\n",
       "\n",
       "    .dataframe thead th {\n",
       "        text-align: right;\n",
       "    }\n",
       "</style>\n",
       "<table border=\"1\" class=\"dataframe\">\n",
       "  <thead>\n",
       "    <tr style=\"text-align: right;\">\n",
       "      <th></th>\n",
       "      <th>subactividad</th>\n",
       "      <th>gas</th>\n",
       "      <th>valor(MtCO2eq)</th>\n",
       "    </tr>\n",
       "  </thead>\n",
       "  <tbody>\n",
       "    <tr>\n",
       "      <th>0</th>\n",
       "      <td>Bosque Cultivado</td>\n",
       "      <td>CO2</td>\n",
       "      <td>-919.37</td>\n",
       "    </tr>\n",
       "    <tr>\n",
       "      <th>2</th>\n",
       "      <td>Cultivo/Pasturas</td>\n",
       "      <td>CO2</td>\n",
       "      <td>-236.59</td>\n",
       "    </tr>\n",
       "    <tr>\n",
       "      <th>1</th>\n",
       "      <td>Bosque Nativo</td>\n",
       "      <td>CO2</td>\n",
       "      <td>-114.88</td>\n",
       "    </tr>\n",
       "  </tbody>\n",
       "</table>\n",
       "</div>"
      ],
      "text/plain": [
       "       subactividad  gas  valor(MtCO2eq)\n",
       "0  Bosque Cultivado  CO2         -919.37\n",
       "2  Cultivo/Pasturas  CO2         -236.59\n",
       "1     Bosque Nativo  CO2         -114.88"
      ]
     },
     "execution_count": 84,
     "metadata": {},
     "output_type": "execute_result"
    }
   ],
   "source": [
    "gases_absorbidos_por_fuente = df[df['valor(MtCO2eq)'] < 0].groupby(['subactividad', 'gas'], as_index = False).agg({'valor(MtCO2eq)':'sum'}).sort_values('valor(MtCO2eq)')\n",
    "gases_absorbidos_por_fuente"
   ]
  }
 ],
 "metadata": {
  "kernelspec": {
   "display_name": "Python 3.10.4 64-bit",
   "language": "python",
   "name": "python3"
  },
  "language_info": {
   "codemirror_mode": {
    "name": "ipython",
    "version": 3
   },
   "file_extension": ".py",
   "mimetype": "text/x-python",
   "name": "python",
   "nbconvert_exporter": "python",
   "pygments_lexer": "ipython3",
   "version": "3.10.4"
  },
  "orig_nbformat": 4,
  "vscode": {
   "interpreter": {
    "hash": "26de051ba29f2982a8de78e945f0abaf191376122a1563185a90213a26c5da77"
   }
  }
 },
 "nbformat": 4,
 "nbformat_minor": 2
}
